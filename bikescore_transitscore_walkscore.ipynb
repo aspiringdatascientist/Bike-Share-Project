{
 "cells": [
  {
   "cell_type": "code",
   "execution_count": 1,
   "metadata": {},
   "outputs": [],
   "source": [
    " #  I am importing all the necessary libraries\n",
    "import json\n",
    "import csv\n",
    "import requests"
   ]
  },
  {
   "cell_type": "code",
   "execution_count": 2,
   "metadata": {},
   "outputs": [],
   "source": [
    "# Setting global variables for later use\n",
    "WalkScore_API_Key = ''\n",
    "baseURL = 'http://api.walkscore.com/score?format=json&transit=1&bike=1'"
   ]
  },
  {
   "cell_type": "code",
   "execution_count": 3,
   "metadata": {},
   "outputs": [],
   "source": [
    "# Opening the points file to grab Latitudes and Longitudes \n",
    "\n",
    "with open('Points.txt', 'r') as file:\n",
    "    reader = csv.reader(file, delimiter = ',')\n",
    "    pointsList = list(reader)\n",
    "\n"
   ]
  },
  {
   "cell_type": "code",
   "execution_count": 8,
   "metadata": {},
   "outputs": [
    {
     "name": "stdout",
     "output_type": "stream",
     "text": [
      "all done\n"
     ]
    }
   ],
   "source": [
    "#Create an empty list to append the response from HTTP requests later\n",
    "\n",
    "lines = [] \n",
    "\n",
    "# Starting the loop (for every single line in the points file) \n",
    "for line in pointsList:\n",
    "           \n",
    "    lat2 = line[0] #  first element(latitude) from line\n",
    "    lon2 = line[1] # second element from line\n",
    "    \n",
    "    #Sending a GET HTTP requests in Python returns a Response object which has been stored as a variable \"response\"\n",
    "    response = requests.get(baseURL+'&lat='+str(lat2)+'&lon='+str(lon2)+'&wsapikey='+WalkScore_API_Key)\n",
    "    \n",
    "    # test to see if the request was valid: Using the instance of Response in a conditional expression, we can evaluate to Success and let it pass the loop if the status code was  200, and “Error!” otherwise\n",
    "    if response.status_code == 200:\n",
    "        pass\n",
    "    elif response.status_code == 404:\n",
    "        print('Error!')\n",
    "        \n",
    "        #json() returns the body as a JSON-parsed object\n",
    "    response = response.json()\n",
    "    # Deleting unnecessary fieldname parameters before exporting as CSV file\n",
    "    del response[\"help_link\"]\n",
    "    del response['ws_link']\n",
    "    del response[\"logo_url\"]\n",
    "    del response[\"more_info_icon\"]\n",
    "    del response[\"more_info_link\"]\n",
    "   \n",
    "    #appending the response made from HTTP requests to the empty list that I created in the beginning\n",
    "    lines.append(response)\n",
    "    #The type of the return value of .json() is a dictionary. I am selecting the keys as fieldnames from the dictionary\n",
    "    fieldnames = [\"status\",\"walkscore\",'description',\"updated\",\"snapped_lat\", \"transit\",\"snapped_lon\" , \"bike\"]\n",
    "    #The csv.DictWriter class maps Python dictionaries into CSV rows. The fieldnames parameter is a sequence of keys that identify the order in which values in the dictionary passed to the writerow() method are written to the CSV file.\n",
    "    writer = csv.DictWriter(open(\"transit_score_Pittsburgh1.csv\",\"w\"),fieldnames = fieldnames)\n",
    "    writer.writeheader()\n",
    "    \n",
    "    #Iterating over Dictionary\n",
    "    for line in lines:\n",
    "        line = {\"status\":line[\"status\"],\"walkscore\":line[\"walkscore\"],'description': line['description'],\"updated\":line[\"updated\"],\"snapped_lat\": line[\"snapped_lat\"],\"snapped_lon\": line[\"snapped_lon\"],\"transit\": line[\"transit\"], \"bike\" : line[\"bike\" ]}        \n",
    "\n",
    "        writer.writerow(line)\n",
    "\n",
    "print(\"all done\")"
   ]
  },
  {
   "cell_type": "code",
   "execution_count": null,
   "metadata": {},
   "outputs": [],
   "source": []
  }
 ],
 "metadata": {
  "kernelspec": {
   "display_name": "Python 3",
   "language": "python",
   "name": "python3"
  },
  "language_info": {
   "codemirror_mode": {
    "name": "ipython",
    "version": 3
   },
   "file_extension": ".py",
   "mimetype": "text/x-python",
   "name": "python",
   "nbconvert_exporter": "python",
   "pygments_lexer": "ipython3",
   "version": "3.7.1"
  }
 },
 "nbformat": 4,
 "nbformat_minor": 2
}

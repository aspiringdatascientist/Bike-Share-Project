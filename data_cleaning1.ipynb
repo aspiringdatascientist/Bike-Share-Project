{
 "cells": [
  {
   "cell_type": "code",
   "execution_count": 2,
   "metadata": {},
   "outputs": [],
   "source": [
    "# import necessary packages\n",
    "import pandas as pd\n",
    "import re"
   ]
  },
  {
   "cell_type": "code",
   "execution_count": 3,
   "metadata": {},
   "outputs": [],
   "source": [
    "# Read in the \"transit_score_Pittsburgh.csv\"  file\n",
    "a = pd.read_csv(\"transit_score_Pittsburgh.csv\",header=0, comment= \"#\",index_col =None, parse_dates = True)"
   ]
  },
  {
   "cell_type": "code",
   "execution_count": 4,
   "metadata": {},
   "outputs": [
    {
     "data": {
      "text/html": [
       "<div>\n",
       "<style scoped>\n",
       "    .dataframe tbody tr th:only-of-type {\n",
       "        vertical-align: middle;\n",
       "    }\n",
       "\n",
       "    .dataframe tbody tr th {\n",
       "        vertical-align: top;\n",
       "    }\n",
       "\n",
       "    .dataframe thead th {\n",
       "        text-align: right;\n",
       "    }\n",
       "</style>\n",
       "<table border=\"1\" class=\"dataframe\">\n",
       "  <thead>\n",
       "    <tr style=\"text-align: right;\">\n",
       "      <th></th>\n",
       "      <th>status</th>\n",
       "      <th>walkscore</th>\n",
       "      <th>description</th>\n",
       "      <th>updated</th>\n",
       "      <th>snapped_lat</th>\n",
       "      <th>transit</th>\n",
       "      <th>snapped_lon</th>\n",
       "      <th>bike</th>\n",
       "    </tr>\n",
       "  </thead>\n",
       "  <tbody>\n",
       "    <tr>\n",
       "      <th>0</th>\n",
       "      <td>1</td>\n",
       "      <td>99</td>\n",
       "      <td>Walker's Paradise</td>\n",
       "      <td>2018-11-10 02:25:05.640521</td>\n",
       "      <td>40.4415</td>\n",
       "      <td>{'score': 100, 'description': \"Rider's Paradis...</td>\n",
       "      <td>-80.004</td>\n",
       "      <td>{'score': 87, 'description': 'Very Bikeable'}</td>\n",
       "    </tr>\n",
       "  </tbody>\n",
       "</table>\n",
       "</div>"
      ],
      "text/plain": [
       "   status  walkscore        description                     updated  \\\n",
       "0       1         99  Walker's Paradise  2018-11-10 02:25:05.640521   \n",
       "\n",
       "   snapped_lat                                            transit  \\\n",
       "0      40.4415  {'score': 100, 'description': \"Rider's Paradis...   \n",
       "\n",
       "   snapped_lon                                           bike  \n",
       "0      -80.004  {'score': 87, 'description': 'Very Bikeable'}  "
      ]
     },
     "execution_count": 4,
     "metadata": {},
     "output_type": "execute_result"
    }
   ],
   "source": [
    "# Analyzing the first  row\n",
    "a.head(1)"
   ]
  },
  {
   "cell_type": "code",
   "execution_count": 5,
   "metadata": {},
   "outputs": [],
   "source": [
    "# Create a new dataframe by dropping the column_name \"status\"\n",
    "df = a.drop(\"status\",axis = 1)"
   ]
  },
  {
   "cell_type": "code",
   "execution_count": 7,
   "metadata": {},
   "outputs": [
    {
     "data": {
      "text/html": [
       "<div>\n",
       "<style scoped>\n",
       "    .dataframe tbody tr th:only-of-type {\n",
       "        vertical-align: middle;\n",
       "    }\n",
       "\n",
       "    .dataframe tbody tr th {\n",
       "        vertical-align: top;\n",
       "    }\n",
       "\n",
       "    .dataframe thead th {\n",
       "        text-align: right;\n",
       "    }\n",
       "</style>\n",
       "<table border=\"1\" class=\"dataframe\">\n",
       "  <thead>\n",
       "    <tr style=\"text-align: right;\">\n",
       "      <th></th>\n",
       "      <th>walkscore</th>\n",
       "      <th>description</th>\n",
       "      <th>updated</th>\n",
       "      <th>snapped_lat</th>\n",
       "      <th>transit</th>\n",
       "      <th>snapped_lon</th>\n",
       "      <th>bike</th>\n",
       "    </tr>\n",
       "  </thead>\n",
       "  <tbody>\n",
       "    <tr>\n",
       "      <th>0</th>\n",
       "      <td>99</td>\n",
       "      <td>Walker's Paradise</td>\n",
       "      <td>2018-11-10 02:25:05.640521</td>\n",
       "      <td>40.4415</td>\n",
       "      <td>{'score': 100, 'description': \"Rider's Paradis...</td>\n",
       "      <td>-80.0040</td>\n",
       "      <td>{'score': 87, 'description': 'Very Bikeable'}</td>\n",
       "    </tr>\n",
       "    <tr>\n",
       "      <th>1</th>\n",
       "      <td>99</td>\n",
       "      <td>Walker's Paradise</td>\n",
       "      <td>2018-11-28 08:47:00.264892</td>\n",
       "      <td>40.4415</td>\n",
       "      <td>{'score': 100, 'description': \"Rider's Paradis...</td>\n",
       "      <td>-80.0025</td>\n",
       "      <td>{'score': 87, 'description': 'Very Bikeable'}</td>\n",
       "    </tr>\n",
       "  </tbody>\n",
       "</table>\n",
       "</div>"
      ],
      "text/plain": [
       "   walkscore        description                     updated  snapped_lat  \\\n",
       "0         99  Walker's Paradise  2018-11-10 02:25:05.640521      40.4415   \n",
       "1         99  Walker's Paradise  2018-11-28 08:47:00.264892      40.4415   \n",
       "\n",
       "                                             transit  snapped_lon  \\\n",
       "0  {'score': 100, 'description': \"Rider's Paradis...     -80.0040   \n",
       "1  {'score': 100, 'description': \"Rider's Paradis...     -80.0025   \n",
       "\n",
       "                                            bike  \n",
       "0  {'score': 87, 'description': 'Very Bikeable'}  \n",
       "1  {'score': 87, 'description': 'Very Bikeable'}  "
      ]
     },
     "execution_count": 7,
     "metadata": {},
     "output_type": "execute_result"
    }
   ],
   "source": [
    "# Analysing the first two rows after dropping the unwanted columns\n",
    "df.head(2)"
   ]
  },
  {
   "cell_type": "code",
   "execution_count": 8,
   "metadata": {},
   "outputs": [],
   "source": [
    "#Copying the dataframe\n",
    "df1= df.copy()"
   ]
  },
  {
   "cell_type": "code",
   "execution_count": 233,
   "metadata": {},
   "outputs": [],
   "source": [
    "#Cleaning the data\n",
    "# Removing the part after comma by splitting to grab only the transit score from \"transit\" column\n",
    "df1.transit = df1.transit.apply(lambda x: x.split(',')[0])\n",
    "#To extract only numeric score by removing anything other than digits by using regular expressions\n",
    "df1.transit = df1.transit.str.replace(r'\\D+', \"\",regex = True)\n"
   ]
  },
  {
   "cell_type": "code",
   "execution_count": 234,
   "metadata": {},
   "outputs": [
    {
     "data": {
      "text/html": [
       "<div>\n",
       "<style scoped>\n",
       "    .dataframe tbody tr th:only-of-type {\n",
       "        vertical-align: middle;\n",
       "    }\n",
       "\n",
       "    .dataframe tbody tr th {\n",
       "        vertical-align: top;\n",
       "    }\n",
       "\n",
       "    .dataframe thead th {\n",
       "        text-align: right;\n",
       "    }\n",
       "</style>\n",
       "<table border=\"1\" class=\"dataframe\">\n",
       "  <thead>\n",
       "    <tr style=\"text-align: right;\">\n",
       "      <th></th>\n",
       "      <th>walkscore</th>\n",
       "      <th>description</th>\n",
       "      <th>updated</th>\n",
       "      <th>snapped_lat</th>\n",
       "      <th>transit</th>\n",
       "      <th>snapped_lon</th>\n",
       "      <th>bike</th>\n",
       "    </tr>\n",
       "  </thead>\n",
       "  <tbody>\n",
       "    <tr>\n",
       "      <th>0</th>\n",
       "      <td>99</td>\n",
       "      <td>Walker's Paradise</td>\n",
       "      <td>2018-11-10 02:25:05.640521</td>\n",
       "      <td>40.4415</td>\n",
       "      <td>100</td>\n",
       "      <td>-80.0040</td>\n",
       "      <td>{'score': 87, 'description': 'Very Bikeable'}</td>\n",
       "    </tr>\n",
       "    <tr>\n",
       "      <th>1</th>\n",
       "      <td>99</td>\n",
       "      <td>Walker's Paradise</td>\n",
       "      <td>2018-11-28 08:47:00.264892</td>\n",
       "      <td>40.4415</td>\n",
       "      <td>100</td>\n",
       "      <td>-80.0025</td>\n",
       "      <td>{'score': 87, 'description': 'Very Bikeable'}</td>\n",
       "    </tr>\n",
       "  </tbody>\n",
       "</table>\n",
       "</div>"
      ],
      "text/plain": [
       "   walkscore        description                     updated  snapped_lat  \\\n",
       "0         99  Walker's Paradise  2018-11-10 02:25:05.640521      40.4415   \n",
       "1         99  Walker's Paradise  2018-11-28 08:47:00.264892      40.4415   \n",
       "\n",
       "  transit  snapped_lon                                           bike  \n",
       "0     100     -80.0040  {'score': 87, 'description': 'Very Bikeable'}  \n",
       "1     100     -80.0025  {'score': 87, 'description': 'Very Bikeable'}  "
      ]
     },
     "execution_count": 234,
     "metadata": {},
     "output_type": "execute_result"
    }
   ],
   "source": [
    "df1.head(2)"
   ]
  },
  {
   "cell_type": "code",
   "execution_count": 235,
   "metadata": {},
   "outputs": [],
   "source": [
    "#Cleaning the data\n",
    "# Removing the part after comma by splitting to grab only the bike score from \"bike\" column\n",
    "df1.bike = df1.bike.apply(lambda x: x.split(',')[0])\n",
    "#To extract only numeric score by removing anything other than digits by using regular expressions\n",
    "df1.bike = df1.bike.str.replace(r'\\D+', \"\",regex = True)\n",
    "\n"
   ]
  },
  {
   "cell_type": "code",
   "execution_count": 236,
   "metadata": {},
   "outputs": [
    {
     "data": {
      "text/html": [
       "<div>\n",
       "<style scoped>\n",
       "    .dataframe tbody tr th:only-of-type {\n",
       "        vertical-align: middle;\n",
       "    }\n",
       "\n",
       "    .dataframe tbody tr th {\n",
       "        vertical-align: top;\n",
       "    }\n",
       "\n",
       "    .dataframe thead th {\n",
       "        text-align: right;\n",
       "    }\n",
       "</style>\n",
       "<table border=\"1\" class=\"dataframe\">\n",
       "  <thead>\n",
       "    <tr style=\"text-align: right;\">\n",
       "      <th></th>\n",
       "      <th>walkscore</th>\n",
       "      <th>description</th>\n",
       "      <th>updated</th>\n",
       "      <th>snapped_lat</th>\n",
       "      <th>transit</th>\n",
       "      <th>snapped_lon</th>\n",
       "      <th>bike</th>\n",
       "    </tr>\n",
       "  </thead>\n",
       "  <tbody>\n",
       "    <tr>\n",
       "      <th>0</th>\n",
       "      <td>99</td>\n",
       "      <td>Walker's Paradise</td>\n",
       "      <td>2018-11-10 02:25:05.640521</td>\n",
       "      <td>40.4415</td>\n",
       "      <td>100</td>\n",
       "      <td>-80.0040</td>\n",
       "      <td>87</td>\n",
       "    </tr>\n",
       "    <tr>\n",
       "      <th>1</th>\n",
       "      <td>99</td>\n",
       "      <td>Walker's Paradise</td>\n",
       "      <td>2018-11-28 08:47:00.264892</td>\n",
       "      <td>40.4415</td>\n",
       "      <td>100</td>\n",
       "      <td>-80.0025</td>\n",
       "      <td>87</td>\n",
       "    </tr>\n",
       "    <tr>\n",
       "      <th>2</th>\n",
       "      <td>98</td>\n",
       "      <td>Walker's Paradise</td>\n",
       "      <td>2019-03-25 05:30:13.717646</td>\n",
       "      <td>40.4385</td>\n",
       "      <td>100</td>\n",
       "      <td>-80.0025</td>\n",
       "      <td>86</td>\n",
       "    </tr>\n",
       "    <tr>\n",
       "      <th>3</th>\n",
       "      <td>96</td>\n",
       "      <td>Walker's Paradise</td>\n",
       "      <td>2019-03-23 07:14:26.797317</td>\n",
       "      <td>40.4370</td>\n",
       "      <td>100</td>\n",
       "      <td>-80.0010</td>\n",
       "      <td>82</td>\n",
       "    </tr>\n",
       "    <tr>\n",
       "      <th>4</th>\n",
       "      <td>93</td>\n",
       "      <td>Walker's Paradise</td>\n",
       "      <td>2018-11-20 16:04:43.126500</td>\n",
       "      <td>40.4355</td>\n",
       "      <td>97</td>\n",
       "      <td>-79.9965</td>\n",
       "      <td>60</td>\n",
       "    </tr>\n",
       "  </tbody>\n",
       "</table>\n",
       "</div>"
      ],
      "text/plain": [
       "   walkscore        description                     updated  snapped_lat  \\\n",
       "0         99  Walker's Paradise  2018-11-10 02:25:05.640521      40.4415   \n",
       "1         99  Walker's Paradise  2018-11-28 08:47:00.264892      40.4415   \n",
       "2         98  Walker's Paradise  2019-03-25 05:30:13.717646      40.4385   \n",
       "3         96  Walker's Paradise  2019-03-23 07:14:26.797317      40.4370   \n",
       "4         93  Walker's Paradise  2018-11-20 16:04:43.126500      40.4355   \n",
       "\n",
       "  transit  snapped_lon bike  \n",
       "0     100     -80.0040   87  \n",
       "1     100     -80.0025   87  \n",
       "2     100     -80.0025   86  \n",
       "3     100     -80.0010   82  \n",
       "4      97     -79.9965   60  "
      ]
     },
     "execution_count": 236,
     "metadata": {},
     "output_type": "execute_result"
    }
   ],
   "source": [
    "#to analyze the dataframe\n",
    "df1.head()"
   ]
  },
  {
   "cell_type": "code",
   "execution_count": 9,
   "metadata": {},
   "outputs": [],
   "source": [
    "# exporting as CSV file \n",
    "df1.to_csv('Pitt_transit_bike_walk_score', index=False)"
   ]
  },
  {
   "cell_type": "code",
   "execution_count": null,
   "metadata": {},
   "outputs": [],
   "source": []
  }
 ],
 "metadata": {
  "kernelspec": {
   "display_name": "Python 3",
   "language": "python",
   "name": "python3"
  },
  "language_info": {
   "codemirror_mode": {
    "name": "ipython",
    "version": 3
   },
   "file_extension": ".py",
   "mimetype": "text/x-python",
   "name": "python",
   "nbconvert_exporter": "python",
   "pygments_lexer": "ipython3",
   "version": "3.7.1"
  }
 },
 "nbformat": 4,
 "nbformat_minor": 2
}

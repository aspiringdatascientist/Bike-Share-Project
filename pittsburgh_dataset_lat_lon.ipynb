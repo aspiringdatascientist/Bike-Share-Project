{
 "cells": [
  {
   "cell_type": "code",
   "execution_count": 237,
   "metadata": {},
   "outputs": [],
   "source": [
    "#importing necessary libraries\n",
    "import pandas as pd\n",
    "import datetime\n",
    "from datetime import datetime\n",
    "from time import strptime\n"
   ]
  },
  {
   "cell_type": "code",
   "execution_count": 238,
   "metadata": {},
   "outputs": [],
   "source": [
    "# Reading the csv file using pandas by changing the column names: \n",
    "a = pd.read_csv('combined_HealthyRide_rentals.csv',header = 0, parse_dates = True,names = [\"trip_id\",\"start_time\",\"stop_time\",\"bike_id\",\"trip_duration\",\"from_station_id\",\"from_station_name\",\"to_station_id\",\"to_station_name\",\"user_type  \"])\n"
   ]
  },
  {
   "cell_type": "code",
   "execution_count": 239,
   "metadata": {},
   "outputs": [
    {
     "data": {
      "text/html": [
       "<div>\n",
       "<style scoped>\n",
       "    .dataframe tbody tr th:only-of-type {\n",
       "        vertical-align: middle;\n",
       "    }\n",
       "\n",
       "    .dataframe tbody tr th {\n",
       "        vertical-align: top;\n",
       "    }\n",
       "\n",
       "    .dataframe thead th {\n",
       "        text-align: right;\n",
       "    }\n",
       "</style>\n",
       "<table border=\"1\" class=\"dataframe\">\n",
       "  <thead>\n",
       "    <tr style=\"text-align: right;\">\n",
       "      <th></th>\n",
       "      <th>trip_id</th>\n",
       "      <th>start_time</th>\n",
       "      <th>stop_time</th>\n",
       "      <th>bike_id</th>\n",
       "      <th>trip_duration</th>\n",
       "      <th>from_station_id</th>\n",
       "      <th>from_station_name</th>\n",
       "      <th>to_station_id</th>\n",
       "      <th>to_station_name</th>\n",
       "      <th>user_type</th>\n",
       "    </tr>\n",
       "  </thead>\n",
       "  <tbody>\n",
       "    <tr>\n",
       "      <th>285455</th>\n",
       "      <td>\u001a</td>\n",
       "      <td>NaN</td>\n",
       "      <td>NaN</td>\n",
       "      <td>NaN</td>\n",
       "      <td>NaN</td>\n",
       "      <td>NaN</td>\n",
       "      <td>NaN</td>\n",
       "      <td>NaN</td>\n",
       "      <td>NaN</td>\n",
       "      <td>NaN</td>\n",
       "    </tr>\n",
       "  </tbody>\n",
       "</table>\n",
       "</div>"
      ],
      "text/plain": [
       "       trip_id start_time stop_time bike_id trip_duration from_station_id  \\\n",
       "285455       \u001a        NaN       NaN     NaN           NaN             NaN   \n",
       "\n",
       "       from_station_name to_station_id to_station_name user_type    \n",
       "285455               NaN           NaN             NaN         NaN  "
      ]
     },
     "execution_count": 239,
     "metadata": {},
     "output_type": "execute_result"
    }
   ],
   "source": [
    "#analyzing few rows of the entire \"Rentals\" data frame\n",
    "a.tail(1)"
   ]
  },
  {
   "cell_type": "code",
   "execution_count": 240,
   "metadata": {},
   "outputs": [],
   "source": [
    "#making a copy of the original dataframe\n",
    "b = a.copy()"
   ]
  },
  {
   "cell_type": "code",
   "execution_count": 241,
   "metadata": {},
   "outputs": [
    {
     "data": {
      "text/plain": [
       "trip_id              object\n",
       "start_time           object\n",
       "stop_time            object\n",
       "bike_id              object\n",
       "trip_duration        object\n",
       "from_station_id      object\n",
       "from_station_name    object\n",
       "to_station_id        object\n",
       "to_station_name      object\n",
       "user_type            object\n",
       "dtype: object"
      ]
     },
     "execution_count": 241,
     "metadata": {},
     "output_type": "execute_result"
    }
   ],
   "source": [
    "#to know the data types\n",
    "b.dtypes"
   ]
  },
  {
   "cell_type": "code",
   "execution_count": 242,
   "metadata": {},
   "outputs": [
    {
     "data": {
      "text/plain": [
       "1045               14425\n",
       "1000               14343\n",
       "1001               13852\n",
       "1010               12089\n",
       "1017               11416\n",
       "1012               10973\n",
       "1013               10274\n",
       "1049                9179\n",
       "1048                7107\n",
       "1016                7086\n",
       "1041                7037\n",
       "1004                6084\n",
       "1036                6056\n",
       "1019                6028\n",
       "1038                5805\n",
       "1033                5779\n",
       "1047                5642\n",
       "1015                5584\n",
       "1011                5385\n",
       "1037                5290\n",
       "1009                5100\n",
       "1006                5060\n",
       "1002                5024\n",
       "1003                5007\n",
       "1046                4716\n",
       "1034                4164\n",
       "1032                4112\n",
       "1035                4005\n",
       "1020                3933\n",
       "1005                3902\n",
       "                   ...  \n",
       "1063                  33\n",
       "49261                 31\n",
       "49741                 30\n",
       "49921                 29\n",
       "1067                  26\n",
       "1062                  25\n",
       "49621                 25\n",
       "1761                  23\n",
       "49301                 22\n",
       "49881                 19\n",
       "49781                 18\n",
       "49441                 18\n",
       "1762                  17\n",
       "1751                  16\n",
       "49351                 15\n",
       "1091                  14\n",
       "49491                 14\n",
       "From station id       14\n",
       "1052                  10\n",
       "1069                  10\n",
       "49461                  9\n",
       "49371                  7\n",
       "49251                  6\n",
       "1071                   4\n",
       "1781                   3\n",
       "1097                   2\n",
       "49341                  2\n",
       "1072                   1\n",
       "1053                   1\n",
       "1764                   1\n",
       "Name: from_station_id, Length: 116, dtype: int64"
      ]
     },
     "execution_count": 242,
     "metadata": {},
     "output_type": "execute_result"
    }
   ],
   "source": [
    "# Since the datatypes were all in object format, analyzed the Rentals dataframe to check for inconsistencies\n",
    "b[\"from_station_id\"].value_counts()"
   ]
  },
  {
   "cell_type": "code",
   "execution_count": 243,
   "metadata": {},
   "outputs": [
    {
     "data": {
      "text/plain": [
       "1045     14425\n",
       "1000     14343\n",
       "1001     13852\n",
       "1010     12089\n",
       "1017     11416\n",
       "1012     10973\n",
       "1013     10274\n",
       "1049      9179\n",
       "1048      7107\n",
       "1016      7086\n",
       "1041      7037\n",
       "1004      6084\n",
       "1036      6056\n",
       "1019      6028\n",
       "1038      5805\n",
       "1033      5779\n",
       "1047      5642\n",
       "1015      5584\n",
       "1011      5385\n",
       "1037      5290\n",
       "1009      5100\n",
       "1006      5060\n",
       "1002      5024\n",
       "1003      5007\n",
       "1046      4716\n",
       "1034      4164\n",
       "1032      4112\n",
       "1035      4005\n",
       "1020      3933\n",
       "1005      3902\n",
       "         ...  \n",
       "1093        34\n",
       "1063        33\n",
       "49261       31\n",
       "49741       30\n",
       "49921       29\n",
       "1067        26\n",
       "49621       25\n",
       "1062        25\n",
       "1761        23\n",
       "49301       22\n",
       "49881       19\n",
       "49441       18\n",
       "49781       18\n",
       "1762        17\n",
       "1751        16\n",
       "49351       15\n",
       "49491       14\n",
       "1091        14\n",
       "1052        10\n",
       "1069        10\n",
       "49461        9\n",
       "49371        7\n",
       "49251        6\n",
       "1071         4\n",
       "1781         3\n",
       "1097         2\n",
       "49341        2\n",
       "1764         1\n",
       "1072         1\n",
       "1053         1\n",
       "Name: from_station_id, Length: 115, dtype: int64"
      ]
     },
     "execution_count": 243,
     "metadata": {},
     "output_type": "execute_result"
    }
   ],
   "source": [
    "#drop the non-integer data\n",
    "b = b[b[\"from_station_id\"].apply(lambda x: str(x).isdigit())]\n",
    "b[\"from_station_id\"].value_counts()\n"
   ]
  },
  {
   "cell_type": "code",
   "execution_count": 244,
   "metadata": {},
   "outputs": [],
   "source": [
    "b[\"from_station_id\"] = b[\"from_station_id\"].astype(int)"
   ]
  },
  {
   "cell_type": "code",
   "execution_count": 245,
   "metadata": {},
   "outputs": [
    {
     "data": {
      "text/plain": [
       "trip_id              object\n",
       "start_time           object\n",
       "stop_time            object\n",
       "bike_id              object\n",
       "trip_duration        object\n",
       "from_station_id       int32\n",
       "from_station_name    object\n",
       "to_station_id        object\n",
       "to_station_name      object\n",
       "user_type            object\n",
       "dtype: object"
      ]
     },
     "execution_count": 245,
     "metadata": {},
     "output_type": "execute_result"
    }
   ],
   "source": [
    "b.dtypes"
   ]
  },
  {
   "cell_type": "code",
   "execution_count": 246,
   "metadata": {},
   "outputs": [
    {
     "data": {
      "text/plain": [
       "(280710, 10)"
      ]
     },
     "execution_count": 246,
     "metadata": {},
     "output_type": "execute_result"
    }
   ],
   "source": [
    "b.shape"
   ]
  },
  {
   "cell_type": "code",
   "execution_count": 247,
   "metadata": {},
   "outputs": [],
   "source": [
    "b = b.dropna()"
   ]
  },
  {
   "cell_type": "code",
   "execution_count": 248,
   "metadata": {},
   "outputs": [
    {
     "data": {
      "text/plain": [
       "(276458, 10)"
      ]
     },
     "execution_count": 248,
     "metadata": {},
     "output_type": "execute_result"
    }
   ],
   "source": [
    "b.shape"
   ]
  },
  {
   "cell_type": "code",
   "execution_count": 249,
   "metadata": {},
   "outputs": [
    {
     "data": {
      "text/html": [
       "<div>\n",
       "<style scoped>\n",
       "    .dataframe tbody tr th:only-of-type {\n",
       "        vertical-align: middle;\n",
       "    }\n",
       "\n",
       "    .dataframe tbody tr th {\n",
       "        vertical-align: top;\n",
       "    }\n",
       "\n",
       "    .dataframe thead th {\n",
       "        text-align: right;\n",
       "    }\n",
       "</style>\n",
       "<table border=\"1\" class=\"dataframe\">\n",
       "  <thead>\n",
       "    <tr style=\"text-align: right;\">\n",
       "      <th></th>\n",
       "      <th>trip_id</th>\n",
       "      <th>start_time</th>\n",
       "      <th>stop_time</th>\n",
       "      <th>bike_id</th>\n",
       "      <th>trip_duration</th>\n",
       "      <th>from_station_id</th>\n",
       "      <th>from_station_name</th>\n",
       "      <th>to_station_id</th>\n",
       "      <th>to_station_name</th>\n",
       "      <th>user_type</th>\n",
       "    </tr>\n",
       "  </thead>\n",
       "  <tbody>\n",
       "    <tr>\n",
       "      <th>285453</th>\n",
       "      <td>63848091</td>\n",
       "      <td>12/30/18 10:17 PM</td>\n",
       "      <td>12/30/18 10:24 PM</td>\n",
       "      <td>70150</td>\n",
       "      <td>402</td>\n",
       "      <td>1012</td>\n",
       "      <td>North Shore Trail &amp; Fort Duquesne Bridge</td>\n",
       "      <td>1001</td>\n",
       "      <td>Forbes Ave &amp; Market Square</td>\n",
       "      <td>Subscriber</td>\n",
       "    </tr>\n",
       "    <tr>\n",
       "      <th>285454</th>\n",
       "      <td>63848092</td>\n",
       "      <td>12/30/18 10:17 PM</td>\n",
       "      <td>12/31/18 12:07 PM</td>\n",
       "      <td>70229</td>\n",
       "      <td>49800</td>\n",
       "      <td>1012</td>\n",
       "      <td>North Shore Trail &amp; Fort Duquesne Bridge</td>\n",
       "      <td>1001</td>\n",
       "      <td>Forbes Ave &amp; Market Square</td>\n",
       "      <td>Customer</td>\n",
       "    </tr>\n",
       "  </tbody>\n",
       "</table>\n",
       "</div>"
      ],
      "text/plain": [
       "         trip_id         start_time          stop_time bike_id trip_duration  \\\n",
       "285453  63848091  12/30/18 10:17 PM  12/30/18 10:24 PM   70150           402   \n",
       "285454  63848092  12/30/18 10:17 PM  12/31/18 12:07 PM   70229         49800   \n",
       "\n",
       "        from_station_id                         from_station_name  \\\n",
       "285453             1012  North Shore Trail & Fort Duquesne Bridge   \n",
       "285454             1012  North Shore Trail & Fort Duquesne Bridge   \n",
       "\n",
       "       to_station_id             to_station_name user_type    \n",
       "285453          1001  Forbes Ave & Market Square  Subscriber  \n",
       "285454          1001  Forbes Ave & Market Square    Customer  "
      ]
     },
     "execution_count": 249,
     "metadata": {},
     "output_type": "execute_result"
    }
   ],
   "source": [
    "b.tail(2)"
   ]
  },
  {
   "cell_type": "code",
   "execution_count": 250,
   "metadata": {},
   "outputs": [],
   "source": [
    "#converting datatypes\n",
    "b[\"to_station_id\"] = b[\"to_station_id\"].astype(int)\n",
    "b[\"trip_duration\"] = b[\"trip_duration\"].astype(int)\n",
    "b[\"bike_id\"] = b[\"bike_id\"].astype(int)\n",
    "b['start_time'] =  pd.to_datetime(b['start_time'], format = '%m/%d/%y %I:%M %p')\n",
    "b['stop_time'] =  pd.to_datetime(b['stop_time'], format = '%m/%d/%y %I:%M %p')"
   ]
  },
  {
   "cell_type": "code",
   "execution_count": 251,
   "metadata": {},
   "outputs": [
    {
     "data": {
      "text/html": [
       "<div>\n",
       "<style scoped>\n",
       "    .dataframe tbody tr th:only-of-type {\n",
       "        vertical-align: middle;\n",
       "    }\n",
       "\n",
       "    .dataframe tbody tr th {\n",
       "        vertical-align: top;\n",
       "    }\n",
       "\n",
       "    .dataframe thead th {\n",
       "        text-align: right;\n",
       "    }\n",
       "</style>\n",
       "<table border=\"1\" class=\"dataframe\">\n",
       "  <thead>\n",
       "    <tr style=\"text-align: right;\">\n",
       "      <th></th>\n",
       "      <th>trip_id</th>\n",
       "      <th>start_time</th>\n",
       "      <th>stop_time</th>\n",
       "      <th>bike_id</th>\n",
       "      <th>trip_duration</th>\n",
       "      <th>from_station_id</th>\n",
       "      <th>from_station_name</th>\n",
       "      <th>to_station_id</th>\n",
       "      <th>to_station_name</th>\n",
       "      <th>user_type</th>\n",
       "    </tr>\n",
       "  </thead>\n",
       "  <tbody>\n",
       "    <tr>\n",
       "      <th>0</th>\n",
       "      <td>25723960</td>\n",
       "      <td>2017-01-01 08:28:00</td>\n",
       "      <td>2017-01-01 08:30:00</td>\n",
       "      <td>70478</td>\n",
       "      <td>110</td>\n",
       "      <td>1043</td>\n",
       "      <td>S Millvale Ave &amp; Centre Ave</td>\n",
       "      <td>1044</td>\n",
       "      <td>Zulema St &amp; Coltart Ave</td>\n",
       "      <td>Subscriber</td>\n",
       "    </tr>\n",
       "  </tbody>\n",
       "</table>\n",
       "</div>"
      ],
      "text/plain": [
       "    trip_id          start_time           stop_time  bike_id  trip_duration  \\\n",
       "0  25723960 2017-01-01 08:28:00 2017-01-01 08:30:00    70478            110   \n",
       "\n",
       "   from_station_id            from_station_name  to_station_id  \\\n",
       "0             1043  S Millvale Ave & Centre Ave           1044   \n",
       "\n",
       "           to_station_name user_type    \n",
       "0  Zulema St & Coltart Ave  Subscriber  "
      ]
     },
     "execution_count": 251,
     "metadata": {},
     "output_type": "execute_result"
    }
   ],
   "source": [
    "b.head(1)"
   ]
  },
  {
   "cell_type": "code",
   "execution_count": 252,
   "metadata": {},
   "outputs": [
    {
     "name": "stdout",
     "output_type": "stream",
     "text": [
      "<class 'pandas.core.frame.DataFrame'>\n",
      "Int64Index: 276458 entries, 0 to 285454\n",
      "Data columns (total 10 columns):\n",
      "trip_id              276458 non-null object\n",
      "start_time           276458 non-null datetime64[ns]\n",
      "stop_time            276458 non-null datetime64[ns]\n",
      "bike_id              276458 non-null int32\n",
      "trip_duration        276458 non-null int32\n",
      "from_station_id      276458 non-null int32\n",
      "from_station_name    276458 non-null object\n",
      "to_station_id        276458 non-null int32\n",
      "to_station_name      276458 non-null object\n",
      "user_type            276458 non-null object\n",
      "dtypes: datetime64[ns](2), int32(4), object(4)\n",
      "memory usage: 19.0+ MB\n"
     ]
    }
   ],
   "source": [
    "b.info()"
   ]
  },
  {
   "cell_type": "code",
   "execution_count": 253,
   "metadata": {},
   "outputs": [],
   "source": [
    "#reading the csv file and renaming the column names  as from_latitudes & from_longitudes to merge with \"Rentals\" dataframe\n",
    "c = pd.read_csv('C:/Users/srao/PBSDP/pbs.csv', header = 0,names = [\"from_station_id\",\"StationName\",\"RackQnty\",\"from_latitude\",\"from_longitude\"])"
   ]
  },
  {
   "cell_type": "code",
   "execution_count": 254,
   "metadata": {},
   "outputs": [],
   "source": [
    "#Copying dataframes \n",
    "d = c.copy()"
   ]
  },
  {
   "cell_type": "code",
   "execution_count": 255,
   "metadata": {},
   "outputs": [
    {
     "data": {
      "text/html": [
       "<div>\n",
       "<style scoped>\n",
       "    .dataframe tbody tr th:only-of-type {\n",
       "        vertical-align: middle;\n",
       "    }\n",
       "\n",
       "    .dataframe tbody tr th {\n",
       "        vertical-align: top;\n",
       "    }\n",
       "\n",
       "    .dataframe thead th {\n",
       "        text-align: right;\n",
       "    }\n",
       "</style>\n",
       "<table border=\"1\" class=\"dataframe\">\n",
       "  <thead>\n",
       "    <tr style=\"text-align: right;\">\n",
       "      <th></th>\n",
       "      <th>from_station_id</th>\n",
       "      <th>StationName</th>\n",
       "      <th>RackQnty</th>\n",
       "      <th>from_latitude</th>\n",
       "      <th>from_longitude</th>\n",
       "    </tr>\n",
       "  </thead>\n",
       "  <tbody>\n",
       "    <tr>\n",
       "      <th>0</th>\n",
       "      <td>1000</td>\n",
       "      <td>Liberty &amp; Stanwix</td>\n",
       "      <td>16.0</td>\n",
       "      <td>40.441326</td>\n",
       "      <td>-80.004679</td>\n",
       "    </tr>\n",
       "  </tbody>\n",
       "</table>\n",
       "</div>"
      ],
      "text/plain": [
       "  from_station_id        StationName  RackQnty  from_latitude  from_longitude\n",
       "0            1000  Liberty & Stanwix      16.0      40.441326      -80.004679"
      ]
     },
     "execution_count": 255,
     "metadata": {},
     "output_type": "execute_result"
    }
   ],
   "source": [
    "d.head(1)"
   ]
  },
  {
   "cell_type": "code",
   "execution_count": 256,
   "metadata": {},
   "outputs": [
    {
     "data": {
      "text/html": [
       "<div>\n",
       "<style scoped>\n",
       "    .dataframe tbody tr th:only-of-type {\n",
       "        vertical-align: middle;\n",
       "    }\n",
       "\n",
       "    .dataframe tbody tr th {\n",
       "        vertical-align: top;\n",
       "    }\n",
       "\n",
       "    .dataframe thead th {\n",
       "        text-align: right;\n",
       "    }\n",
       "</style>\n",
       "<table border=\"1\" class=\"dataframe\">\n",
       "  <thead>\n",
       "    <tr style=\"text-align: right;\">\n",
       "      <th></th>\n",
       "      <th>from_station_id</th>\n",
       "      <th>from_latitude</th>\n",
       "      <th>from_longitude</th>\n",
       "    </tr>\n",
       "  </thead>\n",
       "  <tbody>\n",
       "    <tr>\n",
       "      <th>0</th>\n",
       "      <td>1000</td>\n",
       "      <td>40.441326</td>\n",
       "      <td>-80.004679</td>\n",
       "    </tr>\n",
       "  </tbody>\n",
       "</table>\n",
       "</div>"
      ],
      "text/plain": [
       "  from_station_id  from_latitude  from_longitude\n",
       "0            1000      40.441326      -80.004679"
      ]
     },
     "execution_count": 256,
     "metadata": {},
     "output_type": "execute_result"
    }
   ],
   "source": [
    "#dropping the unwanted columns\n",
    "d.drop([\"StationName\",'RackQnty'],inplace = True,axis = 1)\n",
    "#dropping the unwanted columnse[\"StationName\",'RackQnty']\n",
    "d.head(1)"
   ]
  },
  {
   "cell_type": "code",
   "execution_count": 257,
   "metadata": {},
   "outputs": [
    {
     "data": {
      "text/html": [
       "<div>\n",
       "<style scoped>\n",
       "    .dataframe tbody tr th:only-of-type {\n",
       "        vertical-align: middle;\n",
       "    }\n",
       "\n",
       "    .dataframe tbody tr th {\n",
       "        vertical-align: top;\n",
       "    }\n",
       "\n",
       "    .dataframe thead th {\n",
       "        text-align: right;\n",
       "    }\n",
       "</style>\n",
       "<table border=\"1\" class=\"dataframe\">\n",
       "  <thead>\n",
       "    <tr style=\"text-align: right;\">\n",
       "      <th></th>\n",
       "      <th>trip_id</th>\n",
       "      <th>start_time</th>\n",
       "      <th>stop_time</th>\n",
       "      <th>bike_id</th>\n",
       "      <th>trip_duration</th>\n",
       "      <th>from_station_id</th>\n",
       "      <th>from_station_name</th>\n",
       "      <th>to_station_id</th>\n",
       "      <th>to_station_name</th>\n",
       "      <th>user_type</th>\n",
       "    </tr>\n",
       "  </thead>\n",
       "  <tbody>\n",
       "    <tr>\n",
       "      <th>0</th>\n",
       "      <td>25723960</td>\n",
       "      <td>2017-01-01 08:28:00</td>\n",
       "      <td>2017-01-01 08:30:00</td>\n",
       "      <td>70478</td>\n",
       "      <td>110</td>\n",
       "      <td>1043</td>\n",
       "      <td>S Millvale Ave &amp; Centre Ave</td>\n",
       "      <td>1044</td>\n",
       "      <td>Zulema St &amp; Coltart Ave</td>\n",
       "      <td>Subscriber</td>\n",
       "    </tr>\n",
       "    <tr>\n",
       "      <th>1</th>\n",
       "      <td>25724207</td>\n",
       "      <td>2017-01-01 09:53:00</td>\n",
       "      <td>2017-01-01 10:00:00</td>\n",
       "      <td>70439</td>\n",
       "      <td>426</td>\n",
       "      <td>1014</td>\n",
       "      <td>Ridge Ave &amp; Brighton Rd (CCAC)</td>\n",
       "      <td>1012</td>\n",
       "      <td>North Shore Trail &amp; Fort Duquesne Bridge</td>\n",
       "      <td>Customer</td>\n",
       "    </tr>\n",
       "  </tbody>\n",
       "</table>\n",
       "</div>"
      ],
      "text/plain": [
       "    trip_id          start_time           stop_time  bike_id  trip_duration  \\\n",
       "0  25723960 2017-01-01 08:28:00 2017-01-01 08:30:00    70478            110   \n",
       "1  25724207 2017-01-01 09:53:00 2017-01-01 10:00:00    70439            426   \n",
       "\n",
       "   from_station_id               from_station_name  to_station_id  \\\n",
       "0             1043     S Millvale Ave & Centre Ave           1044   \n",
       "1             1014  Ridge Ave & Brighton Rd (CCAC)           1012   \n",
       "\n",
       "                            to_station_name user_type    \n",
       "0                   Zulema St & Coltart Ave  Subscriber  \n",
       "1  North Shore Trail & Fort Duquesne Bridge    Customer  "
      ]
     },
     "execution_count": 257,
     "metadata": {},
     "output_type": "execute_result"
    }
   ],
   "source": [
    "b.head(2)"
   ]
  },
  {
   "cell_type": "code",
   "execution_count": 258,
   "metadata": {},
   "outputs": [],
   "source": [
    "b.sort_values(['start_time'], inplace = True)"
   ]
  },
  {
   "cell_type": "code",
   "execution_count": 259,
   "metadata": {},
   "outputs": [
    {
     "data": {
      "text/html": [
       "<div>\n",
       "<style scoped>\n",
       "    .dataframe tbody tr th:only-of-type {\n",
       "        vertical-align: middle;\n",
       "    }\n",
       "\n",
       "    .dataframe tbody tr th {\n",
       "        vertical-align: top;\n",
       "    }\n",
       "\n",
       "    .dataframe thead th {\n",
       "        text-align: right;\n",
       "    }\n",
       "</style>\n",
       "<table border=\"1\" class=\"dataframe\">\n",
       "  <thead>\n",
       "    <tr style=\"text-align: right;\">\n",
       "      <th></th>\n",
       "      <th>trip_id</th>\n",
       "      <th>start_time</th>\n",
       "      <th>stop_time</th>\n",
       "      <th>bike_id</th>\n",
       "      <th>trip_duration</th>\n",
       "      <th>from_station_id</th>\n",
       "      <th>from_station_name</th>\n",
       "      <th>to_station_id</th>\n",
       "      <th>to_station_name</th>\n",
       "      <th>user_type</th>\n",
       "    </tr>\n",
       "  </thead>\n",
       "  <tbody>\n",
       "    <tr>\n",
       "      <th>136321</th>\n",
       "      <td>10676972</td>\n",
       "      <td>2015-05-31 06:54:00</td>\n",
       "      <td>2015-05-31 10:17:00</td>\n",
       "      <td>70166</td>\n",
       "      <td>12190</td>\n",
       "      <td>1018</td>\n",
       "      <td>Butler St &amp; Stanton Ave</td>\n",
       "      <td>1001</td>\n",
       "      <td>Forbes Ave &amp; Market Square</td>\n",
       "      <td>Customer</td>\n",
       "    </tr>\n",
       "    <tr>\n",
       "      <th>136322</th>\n",
       "      <td>10677086</td>\n",
       "      <td>2015-05-31 06:57:00</td>\n",
       "      <td>2015-05-31 09:24:00</td>\n",
       "      <td>70368</td>\n",
       "      <td>8842</td>\n",
       "      <td>1018</td>\n",
       "      <td>Butler St &amp; Stanton Ave</td>\n",
       "      <td>1018</td>\n",
       "      <td>Butler St &amp; Stanton Ave</td>\n",
       "      <td>Subscriber</td>\n",
       "    </tr>\n",
       "    <tr>\n",
       "      <th>136323</th>\n",
       "      <td>10677131</td>\n",
       "      <td>2015-05-31 06:58:00</td>\n",
       "      <td>2015-05-31 10:09:00</td>\n",
       "      <td>70354</td>\n",
       "      <td>11448</td>\n",
       "      <td>1019</td>\n",
       "      <td>42nd St &amp; Butler St</td>\n",
       "      <td>1019</td>\n",
       "      <td>42nd St &amp; Butler St</td>\n",
       "      <td>Subscriber</td>\n",
       "    </tr>\n",
       "    <tr>\n",
       "      <th>136324</th>\n",
       "      <td>10677525</td>\n",
       "      <td>2015-05-31 07:08:00</td>\n",
       "      <td>2015-05-31 07:15:00</td>\n",
       "      <td>70232</td>\n",
       "      <td>452</td>\n",
       "      <td>1001</td>\n",
       "      <td>Forbes Ave &amp; Market Square</td>\n",
       "      <td>1001</td>\n",
       "      <td>Forbes Ave &amp; Market Square</td>\n",
       "      <td>Subscriber</td>\n",
       "    </tr>\n",
       "  </tbody>\n",
       "</table>\n",
       "</div>"
      ],
      "text/plain": [
       "         trip_id          start_time           stop_time  bike_id  \\\n",
       "136321  10676972 2015-05-31 06:54:00 2015-05-31 10:17:00    70166   \n",
       "136322  10677086 2015-05-31 06:57:00 2015-05-31 09:24:00    70368   \n",
       "136323  10677131 2015-05-31 06:58:00 2015-05-31 10:09:00    70354   \n",
       "136324  10677525 2015-05-31 07:08:00 2015-05-31 07:15:00    70232   \n",
       "\n",
       "        trip_duration  from_station_id           from_station_name  \\\n",
       "136321          12190             1018     Butler St & Stanton Ave   \n",
       "136322           8842             1018     Butler St & Stanton Ave   \n",
       "136323          11448             1019         42nd St & Butler St   \n",
       "136324            452             1001  Forbes Ave & Market Square   \n",
       "\n",
       "        to_station_id             to_station_name user_type    \n",
       "136321           1001  Forbes Ave & Market Square    Customer  \n",
       "136322           1018     Butler St & Stanton Ave  Subscriber  \n",
       "136323           1019         42nd St & Butler St  Subscriber  \n",
       "136324           1001  Forbes Ave & Market Square  Subscriber  "
      ]
     },
     "execution_count": 259,
     "metadata": {},
     "output_type": "execute_result"
    }
   ],
   "source": [
    "b.head(4)"
   ]
  },
  {
   "cell_type": "code",
   "execution_count": 260,
   "metadata": {},
   "outputs": [
    {
     "data": {
      "text/plain": [
       "(276458, 10)"
      ]
     },
     "execution_count": 260,
     "metadata": {},
     "output_type": "execute_result"
    }
   ],
   "source": [
    "b.shape"
   ]
  },
  {
   "cell_type": "code",
   "execution_count": 261,
   "metadata": {},
   "outputs": [
    {
     "data": {
      "text/plain": [
       "from_station_id     object\n",
       "from_latitude      float64\n",
       "from_longitude     float64\n",
       "dtype: object"
      ]
     },
     "execution_count": 261,
     "metadata": {},
     "output_type": "execute_result"
    }
   ],
   "source": [
    "d.dtypes"
   ]
  },
  {
   "cell_type": "code",
   "execution_count": 262,
   "metadata": {},
   "outputs": [
    {
     "data": {
      "text/plain": [
       "1027    12\n",
       "1044    12\n",
       "1011    12\n",
       "1028    12\n",
       "1029    12\n",
       "1023    12\n",
       "1024    12\n",
       "1009    12\n",
       "1005    12\n",
       "1033    12\n",
       "1015    12\n",
       "1014    12\n",
       "1001    12\n",
       "1006    12\n",
       "1018    12\n",
       "1007    12\n",
       "1008    12\n",
       "1035    12\n",
       "1041    12\n",
       "1025    12\n",
       "1038    12\n",
       "1002    12\n",
       "1000    12\n",
       "1022    12\n",
       "1030    12\n",
       "1037    12\n",
       "1046    12\n",
       "1043    12\n",
       "1010    12\n",
       "1026    12\n",
       "1048    12\n",
       "1020    12\n",
       "1004    12\n",
       "1034    12\n",
       "1016    12\n",
       "1032    12\n",
       "1031    12\n",
       "1003    12\n",
       "1047    12\n",
       "1017    12\n",
       "1021    12\n",
       "1039    12\n",
       "1049    12\n",
       "1045    12\n",
       "1036    12\n",
       "1042    12\n",
       "1040    12\n",
       "1012    12\n",
       "1019    12\n",
       "1013    12\n",
       "1061     5\n",
       "1050     5\n",
       "Name: from_station_id, dtype: int64"
      ]
     },
     "execution_count": 262,
     "metadata": {},
     "output_type": "execute_result"
    }
   ],
   "source": [
    "d = d[d[\"from_station_id\"].apply(lambda x: str(x).isdigit())]\n",
    "d[\"from_station_id\"].value_counts()\n"
   ]
  },
  {
   "cell_type": "code",
   "execution_count": 263,
   "metadata": {},
   "outputs": [
    {
     "data": {
      "text/plain": [
       "(611, 5)"
      ]
     },
     "execution_count": 263,
     "metadata": {},
     "output_type": "execute_result"
    }
   ],
   "source": [
    "c.shape"
   ]
  },
  {
   "cell_type": "code",
   "execution_count": 264,
   "metadata": {},
   "outputs": [
    {
     "data": {
      "text/plain": [
       "(610, 3)"
      ]
     },
     "execution_count": 264,
     "metadata": {},
     "output_type": "execute_result"
    }
   ],
   "source": [
    "d.shape"
   ]
  },
  {
   "cell_type": "code",
   "execution_count": 265,
   "metadata": {},
   "outputs": [],
   "source": [
    "d[\"from_station_id\"] = d[\"from_station_id\"].astype(int)"
   ]
  },
  {
   "cell_type": "code",
   "execution_count": 266,
   "metadata": {},
   "outputs": [
    {
     "name": "stdout",
     "output_type": "stream",
     "text": [
      "<class 'pandas.core.frame.DataFrame'>\n",
      "Int64Index: 610 entries, 0 to 609\n",
      "Data columns (total 3 columns):\n",
      "from_station_id    610 non-null int32\n",
      "from_latitude      610 non-null float64\n",
      "from_longitude     610 non-null float64\n",
      "dtypes: float64(2), int32(1)\n",
      "memory usage: 16.7 KB\n"
     ]
    }
   ],
   "source": [
    "d.info()"
   ]
  },
  {
   "cell_type": "code",
   "execution_count": 267,
   "metadata": {},
   "outputs": [],
   "source": [
    "d =d.drop_duplicates()"
   ]
  },
  {
   "cell_type": "code",
   "execution_count": 268,
   "metadata": {},
   "outputs": [
    {
     "data": {
      "text/plain": [
       "(272353, 12)"
      ]
     },
     "execution_count": 268,
     "metadata": {},
     "output_type": "execute_result"
    }
   ],
   "source": [
    "df.shape"
   ]
  },
  {
   "cell_type": "code",
   "execution_count": 269,
   "metadata": {},
   "outputs": [
    {
     "name": "stdout",
     "output_type": "stream",
     "text": [
      "<class 'pandas.core.frame.DataFrame'>\n",
      "Int64Index: 272353 entries, 0 to 377772\n",
      "Data columns (total 12 columns):\n",
      "trip_id              272353 non-null object\n",
      "start_time           272353 non-null datetime64[ns]\n",
      "stop_time            272353 non-null datetime64[ns]\n",
      "bike_id              272353 non-null int32\n",
      "trip_duration        272353 non-null int32\n",
      "to_station_id        272353 non-null int32\n",
      "from_station_name    272353 non-null object\n",
      "to_station_id        272353 non-null int32\n",
      "to_station_name      272353 non-null object\n",
      "user_type            272353 non-null object\n",
      "to_latitude          272353 non-null float64\n",
      "to_longitude         272353 non-null float64\n",
      "dtypes: datetime64[ns](2), float64(2), int32(4), object(4)\n",
      "memory usage: 22.9+ MB\n"
     ]
    }
   ],
   "source": [
    "df.info()"
   ]
  },
  {
   "cell_type": "code",
   "execution_count": 270,
   "metadata": {},
   "outputs": [
    {
     "data": {
      "text/plain": [
       "(70, 3)"
      ]
     },
     "execution_count": 270,
     "metadata": {},
     "output_type": "execute_result"
    }
   ],
   "source": [
    "d.shape"
   ]
  },
  {
   "cell_type": "code",
   "execution_count": 271,
   "metadata": {},
   "outputs": [],
   "source": [
    "df = pd.merge(b,d, on =[\"from_station_id\"])"
   ]
  },
  {
   "cell_type": "code",
   "execution_count": 272,
   "metadata": {},
   "outputs": [
    {
     "data": {
      "text/plain": [
       "(377773, 12)"
      ]
     },
     "execution_count": 272,
     "metadata": {},
     "output_type": "execute_result"
    }
   ],
   "source": [
    "df.shape"
   ]
  },
  {
   "cell_type": "code",
   "execution_count": 273,
   "metadata": {},
   "outputs": [
    {
     "data": {
      "text/plain": [
       "(70, 3)"
      ]
     },
     "execution_count": 273,
     "metadata": {},
     "output_type": "execute_result"
    }
   ],
   "source": [
    "#(276458, 10)\n",
    "d.shape"
   ]
  },
  {
   "cell_type": "code",
   "execution_count": 274,
   "metadata": {},
   "outputs": [],
   "source": [
    "df = df.drop_duplicates()"
   ]
  },
  {
   "cell_type": "code",
   "execution_count": 275,
   "metadata": {},
   "outputs": [
    {
     "data": {
      "text/plain": [
       "(377773, 12)"
      ]
     },
     "execution_count": 275,
     "metadata": {},
     "output_type": "execute_result"
    }
   ],
   "source": [
    "df.shape"
   ]
  },
  {
   "cell_type": "code",
   "execution_count": 277,
   "metadata": {},
   "outputs": [
    {
     "data": {
      "text/html": [
       "<div>\n",
       "<style scoped>\n",
       "    .dataframe tbody tr th:only-of-type {\n",
       "        vertical-align: middle;\n",
       "    }\n",
       "\n",
       "    .dataframe tbody tr th {\n",
       "        vertical-align: top;\n",
       "    }\n",
       "\n",
       "    .dataframe thead th {\n",
       "        text-align: right;\n",
       "    }\n",
       "</style>\n",
       "<table border=\"1\" class=\"dataframe\">\n",
       "  <thead>\n",
       "    <tr style=\"text-align: right;\">\n",
       "      <th></th>\n",
       "      <th>trip_id</th>\n",
       "      <th>start_time</th>\n",
       "      <th>stop_time</th>\n",
       "      <th>bike_id</th>\n",
       "      <th>trip_duration</th>\n",
       "      <th>from_station_id</th>\n",
       "      <th>from_station_name</th>\n",
       "      <th>to_station_id</th>\n",
       "      <th>to_station_name</th>\n",
       "      <th>user_type</th>\n",
       "      <th>from_latitude</th>\n",
       "      <th>from_longitude</th>\n",
       "    </tr>\n",
       "  </thead>\n",
       "  <tbody>\n",
       "    <tr>\n",
       "      <th>0</th>\n",
       "      <td>10676972</td>\n",
       "      <td>2015-05-31 06:54:00</td>\n",
       "      <td>2015-05-31 10:17:00</td>\n",
       "      <td>70166</td>\n",
       "      <td>12190</td>\n",
       "      <td>1018</td>\n",
       "      <td>Butler St &amp; Stanton Ave</td>\n",
       "      <td>1001</td>\n",
       "      <td>Forbes Ave &amp; Market Square</td>\n",
       "      <td>Customer</td>\n",
       "      <td>40.466103</td>\n",
       "      <td>-79.964628</td>\n",
       "    </tr>\n",
       "  </tbody>\n",
       "</table>\n",
       "</div>"
      ],
      "text/plain": [
       "    trip_id          start_time           stop_time  bike_id  trip_duration  \\\n",
       "0  10676972 2015-05-31 06:54:00 2015-05-31 10:17:00    70166          12190   \n",
       "\n",
       "   from_station_id        from_station_name  to_station_id  \\\n",
       "0             1018  Butler St & Stanton Ave           1001   \n",
       "\n",
       "              to_station_name user_type    from_latitude  from_longitude  \n",
       "0  Forbes Ave & Market Square    Customer      40.466103      -79.964628  "
      ]
     },
     "execution_count": 277,
     "metadata": {},
     "output_type": "execute_result"
    }
   ],
   "source": [
    "#Note: Beginning in Q2 2018, we are now reporting “dockless” trips where a bike does not start or end at an \n",
    "#official station.For these trips, the start or end station name will be the bike number.\n",
    "\n",
    "df.head(1)"
   ]
  },
  {
   "cell_type": "code",
   "execution_count": 278,
   "metadata": {},
   "outputs": [
    {
     "data": {
      "text/plain": [
       "49095741    3\n",
       "23046729    3\n",
       "39775611    3\n",
       "31472561    3\n",
       "21145419    3\n",
       "11344053    3\n",
       "40704566    3\n",
       "11821611    3\n",
       "36328871    3\n",
       "34034370    3\n",
       "19685628    3\n",
       "14347702    3\n",
       "54122995    3\n",
       "25268364    3\n",
       "28275129    3\n",
       "24324561    3\n",
       "13993166    3\n",
       "60844970    3\n",
       "52247229    3\n",
       "63490646    3\n",
       "32254168    3\n",
       "28014200    3\n",
       "11752249    3\n",
       "13433348    3\n",
       "14928751    3\n",
       "19531074    3\n",
       "50993066    3\n",
       "12394286    3\n",
       "24404198    3\n",
       "14119545    3\n",
       "           ..\n",
       "39102352    1\n",
       "15691977    1\n",
       "16966693    1\n",
       "42205495    1\n",
       "20792405    1\n",
       "15452375    1\n",
       "12098542    1\n",
       "12848703    1\n",
       "25757028    1\n",
       "41221054    1\n",
       "14595375    1\n",
       "36597690    1\n",
       "12810970    1\n",
       "45932670    1\n",
       "22641348    1\n",
       "38694456    1\n",
       "36554808    1\n",
       "12325337    1\n",
       "19271645    1\n",
       "25991178    1\n",
       "41410303    1\n",
       "62329382    1\n",
       "54271261    1\n",
       "13567665    1\n",
       "12495010    1\n",
       "14851030    1\n",
       "14330287    1\n",
       "60818290    1\n",
       "29169807    1\n",
       "23331527    1\n",
       "Name: trip_id, Length: 272353, dtype: int64"
      ]
     },
     "execution_count": 278,
     "metadata": {},
     "output_type": "execute_result"
    }
   ],
   "source": [
    "df[\"trip_id\"].value_counts()"
   ]
  },
  {
   "cell_type": "code",
   "execution_count": 279,
   "metadata": {},
   "outputs": [
    {
     "data": {
      "text/html": [
       "<div>\n",
       "<style scoped>\n",
       "    .dataframe tbody tr th:only-of-type {\n",
       "        vertical-align: middle;\n",
       "    }\n",
       "\n",
       "    .dataframe tbody tr th {\n",
       "        vertical-align: top;\n",
       "    }\n",
       "\n",
       "    .dataframe thead th {\n",
       "        text-align: right;\n",
       "    }\n",
       "</style>\n",
       "<table border=\"1\" class=\"dataframe\">\n",
       "  <thead>\n",
       "    <tr style=\"text-align: right;\">\n",
       "      <th></th>\n",
       "      <th>trip_id</th>\n",
       "      <th>start_time</th>\n",
       "      <th>stop_time</th>\n",
       "      <th>bike_id</th>\n",
       "      <th>trip_duration</th>\n",
       "      <th>from_station_id</th>\n",
       "      <th>from_station_name</th>\n",
       "      <th>to_station_id</th>\n",
       "      <th>to_station_name</th>\n",
       "      <th>user_type</th>\n",
       "      <th>from_latitude</th>\n",
       "      <th>from_longitude</th>\n",
       "    </tr>\n",
       "  </thead>\n",
       "  <tbody>\n",
       "    <tr>\n",
       "      <th>356580</th>\n",
       "      <td>49095741</td>\n",
       "      <td>2018-06-02 18:32:00</td>\n",
       "      <td>2018-06-02 18:45:00</td>\n",
       "      <td>70086</td>\n",
       "      <td>824</td>\n",
       "      <td>1040</td>\n",
       "      <td>O'Hara St and University Place (Soldiers and S...</td>\n",
       "      <td>1029</td>\n",
       "      <td>Alder St &amp; S Highland Ave</td>\n",
       "      <td>Subscriber</td>\n",
       "      <td>40.444628</td>\n",
       "      <td>-79.955016</td>\n",
       "    </tr>\n",
       "    <tr>\n",
       "      <th>356581</th>\n",
       "      <td>49095741</td>\n",
       "      <td>2018-06-02 18:32:00</td>\n",
       "      <td>2018-06-02 18:45:00</td>\n",
       "      <td>70086</td>\n",
       "      <td>824</td>\n",
       "      <td>1040</td>\n",
       "      <td>O'Hara St and University Place (Soldiers and S...</td>\n",
       "      <td>1029</td>\n",
       "      <td>Alder St &amp; S Highland Ave</td>\n",
       "      <td>Subscriber</td>\n",
       "      <td>40.444708</td>\n",
       "      <td>-79.955025</td>\n",
       "    </tr>\n",
       "    <tr>\n",
       "      <th>356582</th>\n",
       "      <td>49095741</td>\n",
       "      <td>2018-06-02 18:32:00</td>\n",
       "      <td>2018-06-02 18:45:00</td>\n",
       "      <td>70086</td>\n",
       "      <td>824</td>\n",
       "      <td>1040</td>\n",
       "      <td>O'Hara St and University Place (Soldiers and S...</td>\n",
       "      <td>1029</td>\n",
       "      <td>Alder St &amp; S Highland Ave</td>\n",
       "      <td>Subscriber</td>\n",
       "      <td>40.445128</td>\n",
       "      <td>-79.957102</td>\n",
       "    </tr>\n",
       "  </tbody>\n",
       "</table>\n",
       "</div>"
      ],
      "text/plain": [
       "         trip_id          start_time           stop_time  bike_id  \\\n",
       "356580  49095741 2018-06-02 18:32:00 2018-06-02 18:45:00    70086   \n",
       "356581  49095741 2018-06-02 18:32:00 2018-06-02 18:45:00    70086   \n",
       "356582  49095741 2018-06-02 18:32:00 2018-06-02 18:45:00    70086   \n",
       "\n",
       "        trip_duration  from_station_id  \\\n",
       "356580            824             1040   \n",
       "356581            824             1040   \n",
       "356582            824             1040   \n",
       "\n",
       "                                        from_station_name  to_station_id  \\\n",
       "356580  O'Hara St and University Place (Soldiers and S...           1029   \n",
       "356581  O'Hara St and University Place (Soldiers and S...           1029   \n",
       "356582  O'Hara St and University Place (Soldiers and S...           1029   \n",
       "\n",
       "                  to_station_name user_type    from_latitude  from_longitude  \n",
       "356580  Alder St & S Highland Ave  Subscriber      40.444628      -79.955016  \n",
       "356581  Alder St & S Highland Ave  Subscriber      40.444708      -79.955025  \n",
       "356582  Alder St & S Highland Ave  Subscriber      40.445128      -79.957102  "
      ]
     },
     "execution_count": 279,
     "metadata": {},
     "output_type": "execute_result"
    }
   ],
   "source": [
    "df[df[\"trip_id\"]==\"49095741\"]"
   ]
  },
  {
   "cell_type": "code",
   "execution_count": 280,
   "metadata": {},
   "outputs": [],
   "source": [
    "df = df.drop_duplicates(subset=['trip_id'], keep='first')"
   ]
  },
  {
   "cell_type": "code",
   "execution_count": 281,
   "metadata": {},
   "outputs": [
    {
     "data": {
      "text/plain": [
       "(272353, 12)"
      ]
     },
     "execution_count": 281,
     "metadata": {},
     "output_type": "execute_result"
    }
   ],
   "source": [
    "df.shape"
   ]
  },
  {
   "cell_type": "code",
   "execution_count": 282,
   "metadata": {},
   "outputs": [],
   "source": [
    "e = c.copy()"
   ]
  },
  {
   "cell_type": "code",
   "execution_count": 283,
   "metadata": {},
   "outputs": [
    {
     "data": {
      "text/html": [
       "<div>\n",
       "<style scoped>\n",
       "    .dataframe tbody tr th:only-of-type {\n",
       "        vertical-align: middle;\n",
       "    }\n",
       "\n",
       "    .dataframe tbody tr th {\n",
       "        vertical-align: top;\n",
       "    }\n",
       "\n",
       "    .dataframe thead th {\n",
       "        text-align: right;\n",
       "    }\n",
       "</style>\n",
       "<table border=\"1\" class=\"dataframe\">\n",
       "  <thead>\n",
       "    <tr style=\"text-align: right;\">\n",
       "      <th></th>\n",
       "      <th>from_station_id</th>\n",
       "      <th>StationName</th>\n",
       "      <th>RackQnty</th>\n",
       "      <th>from_latitude</th>\n",
       "      <th>from_longitude</th>\n",
       "    </tr>\n",
       "  </thead>\n",
       "  <tbody>\n",
       "    <tr>\n",
       "      <th>0</th>\n",
       "      <td>1000</td>\n",
       "      <td>Liberty &amp; Stanwix</td>\n",
       "      <td>16.0</td>\n",
       "      <td>40.441326</td>\n",
       "      <td>-80.004679</td>\n",
       "    </tr>\n",
       "  </tbody>\n",
       "</table>\n",
       "</div>"
      ],
      "text/plain": [
       "  from_station_id        StationName  RackQnty  from_latitude  from_longitude\n",
       "0            1000  Liberty & Stanwix      16.0      40.441326      -80.004679"
      ]
     },
     "execution_count": 283,
     "metadata": {},
     "output_type": "execute_result"
    }
   ],
   "source": [
    "e.head(1)"
   ]
  },
  {
   "cell_type": "code",
   "execution_count": 284,
   "metadata": {},
   "outputs": [],
   "source": [
    "e.drop([\"StationName\",'RackQnty'],inplace = True,axis = 1)"
   ]
  },
  {
   "cell_type": "code",
   "execution_count": 285,
   "metadata": {},
   "outputs": [],
   "source": [
    "e = e.drop_duplicates()"
   ]
  },
  {
   "cell_type": "code",
   "execution_count": 286,
   "metadata": {},
   "outputs": [],
   "source": [
    "e =e.dropna()"
   ]
  },
  {
   "cell_type": "code",
   "execution_count": 287,
   "metadata": {},
   "outputs": [
    {
     "data": {
      "text/plain": [
       "(70, 3)"
      ]
     },
     "execution_count": 287,
     "metadata": {},
     "output_type": "execute_result"
    }
   ],
   "source": [
    "e.shape"
   ]
  },
  {
   "cell_type": "code",
   "execution_count": 288,
   "metadata": {},
   "outputs": [
    {
     "data": {
      "text/html": [
       "<div>\n",
       "<style scoped>\n",
       "    .dataframe tbody tr th:only-of-type {\n",
       "        vertical-align: middle;\n",
       "    }\n",
       "\n",
       "    .dataframe tbody tr th {\n",
       "        vertical-align: top;\n",
       "    }\n",
       "\n",
       "    .dataframe thead th {\n",
       "        text-align: right;\n",
       "    }\n",
       "</style>\n",
       "<table border=\"1\" class=\"dataframe\">\n",
       "  <thead>\n",
       "    <tr style=\"text-align: right;\">\n",
       "      <th></th>\n",
       "      <th>from_station_id</th>\n",
       "      <th>from_latitude</th>\n",
       "      <th>from_longitude</th>\n",
       "    </tr>\n",
       "  </thead>\n",
       "  <tbody>\n",
       "    <tr>\n",
       "      <th>401</th>\n",
       "      <td>1061</td>\n",
       "      <td>40.462026</td>\n",
       "      <td>-79.968114</td>\n",
       "    </tr>\n",
       "  </tbody>\n",
       "</table>\n",
       "</div>"
      ],
      "text/plain": [
       "    from_station_id  from_latitude  from_longitude\n",
       "401            1061      40.462026      -79.968114"
      ]
     },
     "execution_count": 288,
     "metadata": {},
     "output_type": "execute_result"
    }
   ],
   "source": [
    "e.tail(1)"
   ]
  },
  {
   "cell_type": "code",
   "execution_count": 289,
   "metadata": {},
   "outputs": [],
   "source": [
    "e.rename(columns={'from_station_id': 'to_station_id', \"from_latitude\":\"to_latitude\",'from_longitude': 'to_longitude'}, inplace=True)"
   ]
  },
  {
   "cell_type": "code",
   "execution_count": 290,
   "metadata": {},
   "outputs": [
    {
     "data": {
      "text/html": [
       "<div>\n",
       "<style scoped>\n",
       "    .dataframe tbody tr th:only-of-type {\n",
       "        vertical-align: middle;\n",
       "    }\n",
       "\n",
       "    .dataframe tbody tr th {\n",
       "        vertical-align: top;\n",
       "    }\n",
       "\n",
       "    .dataframe thead th {\n",
       "        text-align: right;\n",
       "    }\n",
       "</style>\n",
       "<table border=\"1\" class=\"dataframe\">\n",
       "  <thead>\n",
       "    <tr style=\"text-align: right;\">\n",
       "      <th></th>\n",
       "      <th>to_station_id</th>\n",
       "      <th>to_latitude</th>\n",
       "      <th>to_longitude</th>\n",
       "    </tr>\n",
       "  </thead>\n",
       "  <tbody>\n",
       "    <tr>\n",
       "      <th>0</th>\n",
       "      <td>1000</td>\n",
       "      <td>40.441326</td>\n",
       "      <td>-80.004679</td>\n",
       "    </tr>\n",
       "  </tbody>\n",
       "</table>\n",
       "</div>"
      ],
      "text/plain": [
       "  to_station_id  to_latitude  to_longitude\n",
       "0          1000    40.441326    -80.004679"
      ]
     },
     "execution_count": 290,
     "metadata": {},
     "output_type": "execute_result"
    }
   ],
   "source": [
    "e.head(1)"
   ]
  },
  {
   "cell_type": "code",
   "execution_count": 291,
   "metadata": {},
   "outputs": [],
   "source": [
    "e[\"to_station_id\"] = e[\"to_station_id\"].astype(int)"
   ]
  },
  {
   "cell_type": "code",
   "execution_count": 292,
   "metadata": {},
   "outputs": [
    {
     "name": "stdout",
     "output_type": "stream",
     "text": [
      "<class 'pandas.core.frame.DataFrame'>\n",
      "Int64Index: 70 entries, 0 to 401\n",
      "Data columns (total 3 columns):\n",
      "to_station_id    70 non-null int32\n",
      "to_latitude      70 non-null float64\n",
      "to_longitude     70 non-null float64\n",
      "dtypes: float64(2), int32(1)\n",
      "memory usage: 1.9 KB\n"
     ]
    }
   ],
   "source": [
    "e.info()"
   ]
  },
  {
   "cell_type": "code",
   "execution_count": 293,
   "metadata": {},
   "outputs": [
    {
     "data": {
      "text/html": [
       "<div>\n",
       "<style scoped>\n",
       "    .dataframe tbody tr th:only-of-type {\n",
       "        vertical-align: middle;\n",
       "    }\n",
       "\n",
       "    .dataframe tbody tr th {\n",
       "        vertical-align: top;\n",
       "    }\n",
       "\n",
       "    .dataframe thead th {\n",
       "        text-align: right;\n",
       "    }\n",
       "</style>\n",
       "<table border=\"1\" class=\"dataframe\">\n",
       "  <thead>\n",
       "    <tr style=\"text-align: right;\">\n",
       "      <th></th>\n",
       "      <th>trip_id</th>\n",
       "      <th>start_time</th>\n",
       "      <th>stop_time</th>\n",
       "      <th>bike_id</th>\n",
       "      <th>trip_duration</th>\n",
       "      <th>from_station_id</th>\n",
       "      <th>from_station_name</th>\n",
       "      <th>to_station_id</th>\n",
       "      <th>to_station_name</th>\n",
       "      <th>user_type</th>\n",
       "      <th>from_latitude</th>\n",
       "      <th>from_longitude</th>\n",
       "    </tr>\n",
       "  </thead>\n",
       "  <tbody>\n",
       "    <tr>\n",
       "      <th>0</th>\n",
       "      <td>10676972</td>\n",
       "      <td>2015-05-31 06:54:00</td>\n",
       "      <td>2015-05-31 10:17:00</td>\n",
       "      <td>70166</td>\n",
       "      <td>12190</td>\n",
       "      <td>1018</td>\n",
       "      <td>Butler St &amp; Stanton Ave</td>\n",
       "      <td>1001</td>\n",
       "      <td>Forbes Ave &amp; Market Square</td>\n",
       "      <td>Customer</td>\n",
       "      <td>40.466103</td>\n",
       "      <td>-79.964628</td>\n",
       "    </tr>\n",
       "  </tbody>\n",
       "</table>\n",
       "</div>"
      ],
      "text/plain": [
       "    trip_id          start_time           stop_time  bike_id  trip_duration  \\\n",
       "0  10676972 2015-05-31 06:54:00 2015-05-31 10:17:00    70166          12190   \n",
       "\n",
       "   from_station_id        from_station_name  to_station_id  \\\n",
       "0             1018  Butler St & Stanton Ave           1001   \n",
       "\n",
       "              to_station_name user_type    from_latitude  from_longitude  \n",
       "0  Forbes Ave & Market Square    Customer      40.466103      -79.964628  "
      ]
     },
     "execution_count": 293,
     "metadata": {},
     "output_type": "execute_result"
    }
   ],
   "source": [
    "df.head(1)"
   ]
  },
  {
   "cell_type": "code",
   "execution_count": 294,
   "metadata": {},
   "outputs": [],
   "source": [
    "df1 = df.copy()"
   ]
  },
  {
   "cell_type": "code",
   "execution_count": 295,
   "metadata": {},
   "outputs": [
    {
     "name": "stdout",
     "output_type": "stream",
     "text": [
      "<class 'pandas.core.frame.DataFrame'>\n",
      "Int64Index: 272353 entries, 0 to 377772\n",
      "Data columns (total 12 columns):\n",
      "trip_id              272353 non-null object\n",
      "start_time           272353 non-null datetime64[ns]\n",
      "stop_time            272353 non-null datetime64[ns]\n",
      "bike_id              272353 non-null int32\n",
      "trip_duration        272353 non-null int32\n",
      "from_station_id      272353 non-null int32\n",
      "from_station_name    272353 non-null object\n",
      "to_station_id        272353 non-null int32\n",
      "to_station_name      272353 non-null object\n",
      "user_type            272353 non-null object\n",
      "from_latitude        272353 non-null float64\n",
      "from_longitude       272353 non-null float64\n",
      "dtypes: datetime64[ns](2), float64(2), int32(4), object(4)\n",
      "memory usage: 22.9+ MB\n"
     ]
    }
   ],
   "source": [
    "df1.info()"
   ]
  },
  {
   "cell_type": "code",
   "execution_count": 297,
   "metadata": {},
   "outputs": [
    {
     "data": {
      "text/plain": [
       "1045     16497\n",
       "1000     16388\n",
       "1001     15845\n",
       "1017     12033\n",
       "1010     11952\n",
       "1012     11922\n",
       "1013     10603\n",
       "1049      9661\n",
       "1048      8124\n",
       "1019      7982\n",
       "1016      7586\n",
       "1041      6263\n",
       "1036      5869\n",
       "1004      5662\n",
       "1047      5545\n",
       "1015      5290\n",
       "1011      5256\n",
       "1033      5242\n",
       "1037      5057\n",
       "1003      4928\n",
       "1038      4902\n",
       "1046      4569\n",
       "1002      4461\n",
       "1006      4303\n",
       "1018      4157\n",
       "1009      4080\n",
       "1028      3889\n",
       "1034      3664\n",
       "1029      3441\n",
       "1005      3436\n",
       "         ...  \n",
       "1056        21\n",
       "49731       19\n",
       "1771        18\n",
       "1070        15\n",
       "49781       15\n",
       "1094        14\n",
       "49741       11\n",
       "49621        9\n",
       "1063         9\n",
       "1762         8\n",
       "1062         8\n",
       "49881        8\n",
       "49261        7\n",
       "49301        6\n",
       "1067         6\n",
       "1064         5\n",
       "49491        5\n",
       "1066         5\n",
       "49371        5\n",
       "1781         5\n",
       "1069         3\n",
       "49441        3\n",
       "1091         3\n",
       "1072         3\n",
       "1071         2\n",
       "49351        2\n",
       "49461        2\n",
       "1761         2\n",
       "49251        2\n",
       "1751         1\n",
       "Name: to_station_id, Length: 108, dtype: int64"
      ]
     },
     "execution_count": 297,
     "metadata": {},
     "output_type": "execute_result"
    }
   ],
   "source": [
    "df1[\"to_station_id\"].value_counts()"
   ]
  },
  {
   "cell_type": "code",
   "execution_count": 298,
   "metadata": {},
   "outputs": [],
   "source": [
    "df2 = pd.merge(df1,e, on = ['to_station_id'])"
   ]
  },
  {
   "cell_type": "code",
   "execution_count": 299,
   "metadata": {},
   "outputs": [
    {
     "data": {
      "text/html": [
       "<div>\n",
       "<style scoped>\n",
       "    .dataframe tbody tr th:only-of-type {\n",
       "        vertical-align: middle;\n",
       "    }\n",
       "\n",
       "    .dataframe tbody tr th {\n",
       "        vertical-align: top;\n",
       "    }\n",
       "\n",
       "    .dataframe thead th {\n",
       "        text-align: right;\n",
       "    }\n",
       "</style>\n",
       "<table border=\"1\" class=\"dataframe\">\n",
       "  <thead>\n",
       "    <tr style=\"text-align: right;\">\n",
       "      <th></th>\n",
       "      <th>trip_id</th>\n",
       "      <th>start_time</th>\n",
       "      <th>stop_time</th>\n",
       "      <th>bike_id</th>\n",
       "      <th>trip_duration</th>\n",
       "      <th>from_station_id</th>\n",
       "      <th>from_station_name</th>\n",
       "      <th>to_station_id</th>\n",
       "      <th>to_station_name</th>\n",
       "      <th>user_type</th>\n",
       "      <th>from_latitude</th>\n",
       "      <th>from_longitude</th>\n",
       "      <th>to_latitude</th>\n",
       "      <th>to_longitude</th>\n",
       "    </tr>\n",
       "  </thead>\n",
       "  <tbody>\n",
       "    <tr>\n",
       "      <th>0</th>\n",
       "      <td>10676972</td>\n",
       "      <td>2015-05-31 06:54:00</td>\n",
       "      <td>2015-05-31 10:17:00</td>\n",
       "      <td>70166</td>\n",
       "      <td>12190</td>\n",
       "      <td>1018</td>\n",
       "      <td>Butler St &amp; Stanton Ave</td>\n",
       "      <td>1001</td>\n",
       "      <td>Forbes Ave &amp; Market Square</td>\n",
       "      <td>Customer</td>\n",
       "      <td>40.466103</td>\n",
       "      <td>-79.964628</td>\n",
       "      <td>40.440877</td>\n",
       "      <td>-80.00308</td>\n",
       "    </tr>\n",
       "  </tbody>\n",
       "</table>\n",
       "</div>"
      ],
      "text/plain": [
       "    trip_id          start_time           stop_time  bike_id  trip_duration  \\\n",
       "0  10676972 2015-05-31 06:54:00 2015-05-31 10:17:00    70166          12190   \n",
       "\n",
       "   from_station_id        from_station_name  to_station_id  \\\n",
       "0             1018  Butler St & Stanton Ave           1001   \n",
       "\n",
       "              to_station_name user_type    from_latitude  from_longitude  \\\n",
       "0  Forbes Ave & Market Square    Customer      40.466103      -79.964628   \n",
       "\n",
       "   to_latitude  to_longitude  \n",
       "0    40.440877     -80.00308  "
      ]
     },
     "execution_count": 299,
     "metadata": {},
     "output_type": "execute_result"
    }
   ],
   "source": [
    "df2.head(1)"
   ]
  },
  {
   "cell_type": "code",
   "execution_count": 300,
   "metadata": {},
   "outputs": [
    {
     "data": {
      "text/plain": [
       "20464428    3\n",
       "13405647    3\n",
       "24792292    3\n",
       "12228202    3\n",
       "19407819    3\n",
       "12478669    3\n",
       "43671683    3\n",
       "15250680    3\n",
       "11929167    3\n",
       "25565863    3\n",
       "22814466    3\n",
       "18053039    3\n",
       "15889834    3\n",
       "60254331    3\n",
       "13352145    3\n",
       "15453142    3\n",
       "19354381    3\n",
       "12830321    3\n",
       "13568865    3\n",
       "15289562    3\n",
       "52816293    3\n",
       "25696438    3\n",
       "14560306    3\n",
       "18221343    3\n",
       "12988948    3\n",
       "59809414    3\n",
       "24529770    3\n",
       "13757172    3\n",
       "14928321    3\n",
       "52906155    3\n",
       "           ..\n",
       "30728686    1\n",
       "14607826    1\n",
       "35759965    1\n",
       "15359087    1\n",
       "11482652    1\n",
       "52136602    1\n",
       "39763847    1\n",
       "17123146    1\n",
       "15876882    1\n",
       "34510354    1\n",
       "41657223    1\n",
       "24322755    1\n",
       "45913453    1\n",
       "13148066    1\n",
       "25440524    1\n",
       "36429096    1\n",
       "11062365    1\n",
       "55019213    1\n",
       "24935323    1\n",
       "13647519    1\n",
       "37491016    1\n",
       "12943975    1\n",
       "33775114    1\n",
       "59645865    1\n",
       "10930690    1\n",
       "56943399    1\n",
       "52502033    1\n",
       "13060878    1\n",
       "56836451    1\n",
       "23331527    1\n",
       "Name: trip_id, Length: 269687, dtype: int64"
      ]
     },
     "execution_count": 300,
     "metadata": {},
     "output_type": "execute_result"
    }
   ],
   "source": [
    "df2[\"trip_id\"].value_counts()"
   ]
  },
  {
   "cell_type": "code",
   "execution_count": 301,
   "metadata": {},
   "outputs": [],
   "source": [
    "df2 = df2.drop_duplicates(subset=['trip_id'], keep='first')"
   ]
  },
  {
   "cell_type": "code",
   "execution_count": 302,
   "metadata": {},
   "outputs": [
    {
     "data": {
      "text/plain": [
       "(269687, 14)"
      ]
     },
     "execution_count": 302,
     "metadata": {},
     "output_type": "execute_result"
    }
   ],
   "source": [
    "df2.shape"
   ]
  },
  {
   "cell_type": "code",
   "execution_count": 303,
   "metadata": {},
   "outputs": [],
   "source": [
    "df3 = df2.copy()"
   ]
  },
  {
   "cell_type": "code",
   "execution_count": 304,
   "metadata": {},
   "outputs": [],
   "source": [
    "c = df2.to_csv(\"Pittsburgh_dataset_lon_lat.csv\",index = False)"
   ]
  },
  {
   "cell_type": "code",
   "execution_count": null,
   "metadata": {},
   "outputs": [],
   "source": []
  }
 ],
 "metadata": {
  "kernelspec": {
   "display_name": "Python 3",
   "language": "python",
   "name": "python3"
  },
  "language_info": {
   "codemirror_mode": {
    "name": "ipython",
    "version": 3
   },
   "file_extension": ".py",
   "mimetype": "text/x-python",
   "name": "python",
   "nbconvert_exporter": "python",
   "pygments_lexer": "ipython3",
   "version": "3.7.1"
  }
 },
 "nbformat": 4,
 "nbformat_minor": 2
}

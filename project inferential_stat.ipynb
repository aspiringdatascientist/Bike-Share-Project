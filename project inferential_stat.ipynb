{
 "cells": [
  {
   "cell_type": "markdown",
   "metadata": {},
   "source": [
    "**Project: Capstone Project 1: Exploratory Data Analysis**\n",
    "\n",
    "As per [article] (https://www.post-gazette.com/news/transportation/2018/12/02/Healthy-Ride-Pittsburgh-bike-sharing-program-adding-stations-new-neighborhoods/stories/201812020119)  published in  on DEC 3, 2018; there was a noticeable drop in ridership from 2016 to 2017. I would like to to test whether this hypothesis is commensurate with the data.  My consolidated dataset has data from  from 2015, Quarter 2 to 2018, Quarter 4.\n",
    "The samples are independent of each other and are random. I would be perfoming a two sample, one-tailed upper test  Z test. I would be also be performing a two sample Bootstrap hypothesis test with null hypothesis being that there is no difference in means with regards to the average number of trip counts.\n",
    "\n",
    "Null Hypothesis:\n",
    "\n",
    "$ Ho : \\mu_{1} = \\mu_{2} $ \n",
    "\n",
    "\n",
    "Alternate Hypothesis:\n",
    "\n",
    "$ Ha: \\mu_{1} > \\mu_{2}  $\n",
    "\n",
    "Let's also explore the average number of trips taken in each station."
   ]
  },
  {
   "cell_type": "code",
   "execution_count": 1,
   "metadata": {},
   "outputs": [],
   "source": [
    "#import necessary libraries\n",
    "\n",
    "import pandas as pd\n",
    "import numpy as np\n",
    "import seaborn as sns\n",
    "import matplotlib.pyplot as plt"
   ]
  },
  {
   "cell_type": "code",
   "execution_count": 2,
   "metadata": {},
   "outputs": [],
   "source": [
    "df = pd.read_csv(\"pittsburgh_healthy_rides_data.csv\")"
   ]
  },
  {
   "cell_type": "code",
   "execution_count": 3,
   "metadata": {},
   "outputs": [
    {
     "data": {
      "text/html": [
       "<div>\n",
       "<style scoped>\n",
       "    .dataframe tbody tr th:only-of-type {\n",
       "        vertical-align: middle;\n",
       "    }\n",
       "\n",
       "    .dataframe tbody tr th {\n",
       "        vertical-align: top;\n",
       "    }\n",
       "\n",
       "    .dataframe thead th {\n",
       "        text-align: right;\n",
       "    }\n",
       "</style>\n",
       "<table border=\"1\" class=\"dataframe\">\n",
       "  <thead>\n",
       "    <tr style=\"text-align: right;\">\n",
       "      <th></th>\n",
       "      <th>start_time</th>\n",
       "      <th>trip_id</th>\n",
       "      <th>stop_time</th>\n",
       "      <th>bike_id</th>\n",
       "      <th>trip_duration</th>\n",
       "      <th>from_station_id</th>\n",
       "      <th>from_station_name</th>\n",
       "      <th>to_station_id</th>\n",
       "      <th>station_name</th>\n",
       "      <th>user_type</th>\n",
       "      <th>...</th>\n",
       "      <th>rain</th>\n",
       "      <th>wind</th>\n",
       "      <th>weather</th>\n",
       "      <th>hour</th>\n",
       "      <th>month</th>\n",
       "      <th>speed</th>\n",
       "      <th>day_of_the_week</th>\n",
       "      <th>tripdate</th>\n",
       "      <th>num_trips</th>\n",
       "      <th>year</th>\n",
       "    </tr>\n",
       "  </thead>\n",
       "  <tbody>\n",
       "    <tr>\n",
       "      <th>0</th>\n",
       "      <td>2015-05-31 07:18:00</td>\n",
       "      <td>10677999</td>\n",
       "      <td>2015-05-31 07:52:00</td>\n",
       "      <td>70381</td>\n",
       "      <td>2018</td>\n",
       "      <td>1019</td>\n",
       "      <td>42nd St &amp; Butler St</td>\n",
       "      <td>1001</td>\n",
       "      <td>Forbes Ave &amp; Market Square</td>\n",
       "      <td>Subscriber</td>\n",
       "      <td>...</td>\n",
       "      <td>0.37</td>\n",
       "      <td>8.95</td>\n",
       "      <td>good</td>\n",
       "      <td>7</td>\n",
       "      <td>5</td>\n",
       "      <td>5.41</td>\n",
       "      <td>Sunday</td>\n",
       "      <td>2015-05-31</td>\n",
       "      <td>158</td>\n",
       "      <td>2015</td>\n",
       "    </tr>\n",
       "    <tr>\n",
       "      <th>1</th>\n",
       "      <td>2015-05-31 07:25:00</td>\n",
       "      <td>10678335</td>\n",
       "      <td>2015-05-31 07:57:00</td>\n",
       "      <td>70331</td>\n",
       "      <td>1900</td>\n",
       "      <td>1005</td>\n",
       "      <td>Forbes Ave &amp; Grant St</td>\n",
       "      <td>1000</td>\n",
       "      <td>Liberty Ave &amp; Stanwix St</td>\n",
       "      <td>Customer</td>\n",
       "      <td>...</td>\n",
       "      <td>0.37</td>\n",
       "      <td>8.95</td>\n",
       "      <td>good</td>\n",
       "      <td>7</td>\n",
       "      <td>5</td>\n",
       "      <td>0.80</td>\n",
       "      <td>Sunday</td>\n",
       "      <td>2015-05-31</td>\n",
       "      <td>158</td>\n",
       "      <td>2015</td>\n",
       "    </tr>\n",
       "  </tbody>\n",
       "</table>\n",
       "<p>2 rows × 29 columns</p>\n",
       "</div>"
      ],
      "text/plain": [
       "            start_time   trip_id            stop_time  bike_id  trip_duration  \\\n",
       "0  2015-05-31 07:18:00  10677999  2015-05-31 07:52:00    70381           2018   \n",
       "1  2015-05-31 07:25:00  10678335  2015-05-31 07:57:00    70331           1900   \n",
       "\n",
       "   from_station_id      from_station_name  to_station_id  \\\n",
       "0             1019    42nd St & Butler St           1001   \n",
       "1             1005  Forbes Ave & Grant St           1000   \n",
       "\n",
       "                 station_name   user_type  ...  rain  wind weather  hour  \\\n",
       "0  Forbes Ave & Market Square  Subscriber  ...  0.37  8.95    good     7   \n",
       "1    Liberty Ave & Stanwix St    Customer  ...  0.37  8.95    good     7   \n",
       "\n",
       "   month  speed  day_of_the_week    tripdate num_trips  year  \n",
       "0      5   5.41           Sunday  2015-05-31       158  2015  \n",
       "1      5   0.80           Sunday  2015-05-31       158  2015  \n",
       "\n",
       "[2 rows x 29 columns]"
      ]
     },
     "execution_count": 3,
     "metadata": {},
     "output_type": "execute_result"
    }
   ],
   "source": [
    "df.head(2)"
   ]
  },
  {
   "cell_type": "code",
   "execution_count": 4,
   "metadata": {},
   "outputs": [
    {
     "data": {
      "text/plain": [
       "Index(['start_time', 'trip_id', 'stop_time', 'bike_id', 'trip_duration',\n",
       "       'from_station_id', 'from_station_name', 'to_station_id', 'station_name',\n",
       "       'user_type', 'TMAX', 'TMIN', 'season', 'holiday', 'walk_score',\n",
       "       'transit_score', 'bike_score', 'distance', 'event_type', 'rain', 'wind',\n",
       "       'weather', 'hour', 'month', 'speed', 'day_of_the_week', 'tripdate',\n",
       "       'num_trips', 'year'],\n",
       "      dtype='object')"
      ]
     },
     "execution_count": 4,
     "metadata": {},
     "output_type": "execute_result"
    }
   ],
   "source": [
    "df.columns"
   ]
  },
  {
   "cell_type": "code",
   "execution_count": 5,
   "metadata": {},
   "outputs": [],
   "source": [
    "#Segregate the data based on the year\n",
    "\n",
    "trips_2016, trips_2017 = df[df['year']==2016]['num_trips'], df[df['year']==2017]['num_trips']"
   ]
  },
  {
   "cell_type": "code",
   "execution_count": 6,
   "metadata": {},
   "outputs": [
    {
     "name": "stdout",
     "output_type": "stream",
     "text": [
      "Trip_2016 mean : 177.5320957668286\n",
      "Trip_2017 mean : 164.8740123750595\n",
      "Empirical difference of means: 12.658083391769111\n"
     ]
    }
   ],
   "source": [
    "def diff_of_means(data_1,data_2):\n",
    "    \"\"\"Difference in means of two arrays.\"\"\"\n",
    "\n",
    "    # The difference of means of data_1, data_2: diff\n",
    "    diff = np.mean(data_1) -  np.mean(data_2)\n",
    "\n",
    "    return diff\n",
    "empirical_diff_means = diff_of_means(trips_2016, trips_2017)\n",
    "print(f\"Trip_2016 mean : {np.mean(trips_2016)}\")\n",
    "\n",
    "print(f\"Trip_2017 mean : {np.mean(trips_2017)}\")\n",
    "print(f\"Empirical difference of means: {empirical_diff_means}\")\n"
   ]
  },
  {
   "cell_type": "markdown",
   "metadata": {},
   "source": [
    "The average number of trips of the year 2016 was 177.53 , and that of year 2017 was 164.87 with a difference of 12.66. It is possible this observed difference in mean of  trip counts  was by chance. We will compute the probability of getting at least a 12.66 difference in average number of trips under the hypothesis that the average number of trip counts in both years are identical."
   ]
  },
  {
   "cell_type": "markdown",
   "metadata": {},
   "source": [
    "ECDFs are often even better when doing Exploratory Data Analysis. ECDF is Empirical Cumulative Distribution Function . x- value of ECDF is the quantity you are measuring. The y value(0 to 1 probalibility) is the fraction of datapoints that have a value smaller than the corresponding x value."
   ]
  },
  {
   "cell_type": "code",
   "execution_count": 7,
   "metadata": {},
   "outputs": [
    {
     "data": {
      "image/png": "[encoded data removed]",
      "text/plain": [
       "<Figure size 432x288 with 1 Axes>"
      ]
     },
     "metadata": {
      "needs_background": "light"
     },
     "output_type": "display_data"
    }
   ],
   "source": [
    "def ecdf(data):\n",
    "    return np.sort(data), np.arange(1, len(data)+1)/float(len(data))\n",
    "\n",
    "\n",
    "# Create and plot ECDFs from original data\n",
    "x_1, y_1 = ecdf(trips_2016)\n",
    "x_2, y_2 = ecdf(trips_2017)\n",
    "_ = plt.plot(x_1, y_1, marker='.', linestyle='none', color='red', label =\"2016\")\n",
    "_ = plt.plot(x_2, y_2, marker='.', linestyle='none', color='blue',label = \"2017\")\n",
    "\n",
    "# Label axes, set margin, and show plot\n",
    "plt.margins(0.02)\n",
    "_ = plt.xlabel('number of rides')\n",
    "_ = plt.ylabel('ECDF')\n",
    "_ = plt.legend()\n",
    "plt.show()\n"
   ]
  },
  {
   "cell_type": "markdown",
   "metadata": {},
   "source": [
    "Notice that the Ecdfs do not overlap except a few of suggesting that the hypothesis is not commensurate with the data. Let's fid out!\n",
    "\n"
   ]
  },
  {
   "cell_type": "markdown",
   "metadata": {},
   "source": [
    "Frequentist Approach:\n",
    "\n",
    "For our hypothesis to be true, we are going to figure out the probability of getting the actual difference of  means between 2016 and 2017 to be zero under the assumption that our hypothesis is correct. It is going to be a one-tailed upper test. I will set aplha to be 0.05. \n",
    "Alpha level is the probability of making te wrong decision when the null hypothesis is true.\n",
    "\n",
    "Null Hypothesis:\n",
    "\n",
    "$ Ho : \\mu_{1} = \\mu_{2} $ \n",
    "\n",
    "\n",
    "Alternate Hypothesis:\n",
    "\n",
    "$ Ha: \\mu_{1} > \\mu_{2}  $\n",
    "\n",
    "\n",
    "The Z-test is used to compare the population mean against a sample or compare the population mean of two distributions with a sample size greater than 30. The samples are independent of each other and are random. First, we calculate the z-score to find how many standard deviations away  from $\\mu$ as below:\n",
    "\n",
    "Mean of number of rides per day in 2016($\\mu_1$)  = 177.53$\n",
    "\n",
    "Mean of number of rides per day in 2017($\\mu_2$)  = 164.87$\n",
    "\n",
    "Difference of means between 2016 and 2017 = diff_of_means(trips_2016, trips_2017)\n",
    "\n",
    "Standard Error(SE) is the standard error of the distribution of differences which is also the standard deviation of that sampling distribution:\n",
    "\n",
    "SE =  $\\sqrt{\\frac{\\sigma^2_1 }{n_1} + \\frac{ \\sigma^2_2 }{n_2}}$ \n",
    "\n",
    "\n",
    "We can calculate the pooled sample of mean and the standard error (SE) from the sample data. Using those measures, we can compute the z-score test statistic (z).\n",
    "\n",
    "μo is Hypothesized mean difference which is 0 in this case because according to null hypothesis is there’s no difference.\n",
    "μo = 0\n",
    "\n",
    "z-score  = $\\frac{(\\mu_1 - \\mu_2 )- \\mu_0}{\\sqrt{\\frac{\\sigma^2_1 }{n_1} + \\frac{ \\sigma^2_2 }{n_2}}}$\n",
    "\n",
    "If the Z-score falls in the rejection region, and when the p-value is less than the threshold significance level, which in our case is 5%, we can conclude that the results in difference of means was in fact statistically significant and reject the null hypothesis. Else we fail to reject the null hypothesis.\n"
   ]
  },
  {
   "cell_type": "code",
   "execution_count": 8,
   "metadata": {},
   "outputs": [
    {
     "name": "stdout",
     "output_type": "stream",
     "text": [
      "Total number of trips taken per day in 2016 (n_2016) :8186360\n",
      "Total number of rides taken per day in 2017 (n_2017) :6928006\n",
      "Number of days in trip_2016 data (n1): 46112\n",
      "Number of days in  trips_2017 data(n2): 42020\n",
      " Critical value(z-crit) or the boundary of 95% confidence interval of one-tailed upper right test when alpha(rejection region) = 0.05 is +1.6448536269514729\n",
      "One standard deviation away from 0 would be 0.5106802263456857 SE \n",
      "Margin of error for interval estimates of difference for these samples is 0.8399942225171002\n",
      "we expect 95% of the sample differences to be in this region: 0.8399942225171002\n",
      "Z-score  is 24.786711407151095\n",
      "Since p-value < 0.05, we reject Null Hypothesis\n"
     ]
    }
   ],
   "source": [
    "import scipy\n",
    "from scipy import stats\n",
    "\n",
    "#Segregate date based on year\n",
    "trips_2016, trips_2017 = df[df['year']==2016]['num_trips'], df[df['year']==2017]['num_trips']\n",
    "\n",
    "\n",
    "# number of  trips taken  per day in 2016\n",
    "n_2016 =sum(df[df.year==2016].num_trips)\n",
    "print(f\"Total number of trips taken per day in 2016 (n_2016) :{n_2016}\")\n",
    "\n",
    "# number of  trips taken per day in 2017\n",
    "n_2017 =sum(df[df.year==2017].num_trips)\n",
    "print(f\"Total number of rides taken per day in 2017 (n_2017) :{n_2017}\")\n",
    "\n",
    "# number of trips\n",
    "n1 = len(trips_2016)\n",
    "print(f\"Number of days in trip_2016 data (n1): {n1}\")\n",
    "\n",
    "# number of trips\n",
    "n2 = len(trips_2017)\n",
    "print(f\"Number of days in  trips_2017 data(n2): {n2}\")\n",
    "\n",
    "\"\"\"Alpha level is the probability of making the wrong decision when the null hypothesis is true.\"\"\"\n",
    "# Find 95% confidence intervals\n",
    "crit = stats.norm.isf(0.05)\n",
    "print(f\" Critical value(z-crit) or the boundary of 95% confidence interval of one-tailed upper right test when alpha(rejection region) = 0.05 is +{crit}\")\n",
    "     \n",
    "\n",
    "#μo which is Hypothesized mean difference is 0 because according to null hypothesis is there’s no difference.\n",
    "μo = 0\n",
    "\n",
    "\"\"\"SE is the standard error of the distribution of differences which is also the standard deviation of tht sampling distribution\"\"\"\n",
    "SE = np.sqrt((np.std(trips_2016) ** 2/ n1) + (np.std(trips_2017) ** 2/ n2))\n",
    "print(f\"One standard deviation away from 0 would be {SE} SE \")\n",
    "\n",
    "print(f\"Margin of error for interval estimates of difference for these samples is {crit * SE}\")\n",
    "\n",
    "z = ((diff_of_means(trips_2016, trips_2017)) - μo) / SE\n",
    "\n",
    "print(f\"we expect 95% of the sample differences to be in this region: {crit * SE}\")\n",
    "print(f\"Z-score  is {z}\")\n",
    "\n",
    "p_val = scipy.stats.norm.sf(abs(z))\n",
    "\n",
    "if p_val < 0.05:\n",
    "    print(\"Since p-value < 0.05, we reject Null Hypothesis\")\n",
    "else:\n",
    "    print(\"Accept null hypothesis\")"
   ]
  },
  {
   "cell_type": "code",
   "execution_count": 10,
   "metadata": {},
   "outputs": [
    {
     "data": {
      "image/png": "[encoded data removed]",
      "text/plain": [
       "<Figure size 432x288 with 1 Axes>"
      ]
     },
     "metadata": {
      "needs_background": "light"
     },
     "output_type": "display_data"
    }
   ],
   "source": [
    "import pylab\n",
    "## Normal Distribution of difference in percentage of Black and White Callbacks\n",
    "# find Margin of error(m)\n",
    "SE = np.sqrt((np.std(trips_2016) ** 2/ n1) + (np.std(trips_2017) ** 2/ n2))\n",
    "mu = diff_of_means(trips_2016, trips_2017) \n",
    "z = ((diff_of_means(trips_2016, trips_2017)) - 0) / SE\n",
    "#In an upper tailed Z test, if α =0.05 then the critical value is Z=1.645.\n",
    "m = 1.645\n",
    "max_p = mu + m\n",
    "v = SE * SE\n",
    "s = SE\n",
    "x = np.linspace(mu - 6*SE, mu + 6*SE, 100)\n",
    "y1 = stats.norm.pdf(x, loc=mu, scale=s*2)    \n",
    "pylab.plot(x,y1)\n",
    "pylab.xlabel('Difference of means')\n",
    "pylab.ylabel('PDF')\n",
    "pylab.vlines(max_p,0,0.1, color='red')\n",
    "pylab.vlines(mu,0, .4)\n",
    "pylab.legend(['PDF', 'upper_limit of CI',\"mean\" ], loc = \"upper right\")\n",
    "pylab.title('Difference in means for trip_2016 and trip_2017')\n",
    "pylab.show()\n"
   ]
  },
  {
   "cell_type": "markdown",
   "metadata": {},
   "source": [
    "**Conclusion:**\n",
    "\n",
    "The Z-score falls in the rejection region, and the p-value is less than the threshold significance level, which in our case is 5%, we can conclude that the results in difference of means was in fact statistically significant and we can reject the null hypothesis."
   ]
  },
  {
   "cell_type": "markdown",
   "metadata": {},
   "source": [
    "\n",
    "*Two-sample bootstrap hypothesis test for difference of means:*\n",
    "\n",
    "We now want to test the hypothesis that the year 2016 and 2017 have the same  average trip counts using the two-sample bootstrap test. Here, we shift both arrays to have the same mean, since we are simulating the hypothesis that their means are, in fact, equal. We then draw bootstrap samples out of the shifted arrays and compute the difference in means. This constitutes a bootstrap replicate, and we generate many of them. The p-value will be the fraction of replicates with a difference in means greater than or equal to what was observed."
   ]
  },
  {
   "cell_type": "code",
   "execution_count": 11,
   "metadata": {},
   "outputs": [
    {
     "name": "stdout",
     "output_type": "stream",
     "text": [
      " Since it is a one tailed test,  there is a 95% chance that the  mean difference estimate by performing bootstrap resampling is : [0.17849128]\n",
      "p-value : 0.0\n",
      "Since p-value is  < 0.05, the difference  is statistically significant and we reject Null Hypothesis with 95 % confidence\n"
     ]
    }
   ],
   "source": [
    "def bootstrap_replicate_1d(data, func):\n",
    "    return func(np.random.choice(data, size=len(data)))\n",
    "def draw_bs_reps(data, func, size=1):\n",
    "    \"\"\"Draw bootstrap replicates.\"\"\"\n",
    "\n",
    "    # Initialize array of replicates: bs_replicates\n",
    "    bs_replicates = np.empty(size)\n",
    "\n",
    "    # Generate replicates\n",
    "    for i in range(size):\n",
    "        bs_replicates[i] = bootstrap_replicate_1d(data, func)\n",
    "\n",
    "    return bs_replicates\n",
    "\n",
    "# Concatenate trips: trips_concat\n",
    "trips_concat = np.concatenate((trips_2016, trips_2017))\n",
    "# Compute mean of all trips: mean_trips\n",
    "mean_trips = np.mean(trips_concat)\n",
    "\n",
    "# Generate shifted arrays\n",
    "trip_2016_shifted = trips_2016 - np.mean(trips_2016) + mean_trips\n",
    "trip_2017_shifted = trips_2017 - np.mean(trips_2017) + mean_trips\n",
    "\n",
    "# Compute 10,000 bootstrap replicates from shifted arrays\n",
    "bs_replicates_2016 = draw_bs_reps(trip_2016_shifted, np.mean,size= 10000)\n",
    "bs_replicates_2017 = draw_bs_reps(trip_2017_shifted, np.mean, size=10000)\n",
    "\n",
    "# Get replicates of difference of means: bs_replicates\n",
    "bs_replicates = bs_replicates_2016 - bs_replicates_2017\n",
    "\n",
    "# Compute and print p-value: p\n",
    "p = np.sum(bs_replicates >= empirical_diff_means) / len(bs_replicates)\n",
    "\n",
    "#Confidence Interval(ci)\n",
    "ci = np.percentile(bs_replicates, [95])\n",
    "print(f\" Since it is a one tailed test,  there is a 95% chance that the  mean difference estimate by performing bootstrap resampling is : {1-ci}\")\n",
    "print('p-value :', p)\n",
    "if p < 0.05:\n",
    "    print(\"Since p-value is  < 0.05, the difference  is statistically significant and we reject Null Hypothesis with 95 % confidence\")\n",
    "else:\n",
    "    print(\"Accept null hypothesis\")"
   ]
  },
  {
   "cell_type": "code",
   "execution_count": 12,
   "metadata": {},
   "outputs": [],
   "source": [
    "#explore the data\n",
    "a =pd.read_csv(\"Healthy_Rides_Data.csv\", parse_dates = [\"start_time\",\"stop_time\"])"
   ]
  },
  {
   "cell_type": "markdown",
   "metadata": {},
   "source": [
    "Let's explore average number of bikes rented per day, both overall and for individual stations including the days that were unaccounted for (Zero days). We have to create an empty dataframe based range of dates from the start till end date of the given time period. Then we have to merge after grouping the data as below:"
   ]
  },
  {
   "cell_type": "code",
   "execution_count": 13,
   "metadata": {},
   "outputs": [],
   "source": [
    "# Create range of dates to use as an index\n",
    "start = pd.datetime(2015, 5, 31)\n",
    "end = pd.datetime(2018, 12, 27)\n",
    "rng = pd.date_range(start, end) \n",
    "\n",
    "#Create an empty DataFrame using the range of dates as the index.\n",
    "trips_by_date_new = pd.DataFrame(index=rng)\n",
    "\n"
   ]
  },
  {
   "cell_type": "code",
   "execution_count": 14,
   "metadata": {},
   "outputs": [
    {
     "name": "stdout",
     "output_type": "stream",
     "text": [
      "            num_trips\n",
      "2015-05-31      158.0\n",
      "2015-06-01       52.0\n",
      "2015-06-02       62.0\n",
      "2015-06-03       83.0\n",
      "2015-06-04      127.0\n"
     ]
    }
   ],
   "source": [
    "#Use groupby on the original trip DataFrame to compute number of trips by date\n",
    "# Create a Group by object using tripdate\n",
    "grp_date = a.groupby(['tripdate'])\n",
    "\n",
    "# Compute number of trips by date and check out the result\n",
    "trips_by_date = pd.DataFrame(grp_date.size(), columns=['num_trips'])\n",
    "\n",
    "# Merge the two DataFrames on their indexes (tripdate) but do a \"left join\" with new dataframe on left.\n",
    "trips_by_date_merged = pd.merge(trips_by_date_new, trips_by_date, how='left', left_index=True, right_index=True, sort=True)\n",
    "\n",
    "\n",
    "#Replace missing values with zeroes for those dates with no trips\n",
    "# Fill in any missing values with 0.\n",
    "trips_by_date_merged['num_trips'] = trips_by_date_merged['num_trips'].fillna(0)\n",
    "\n",
    "print(trips_by_date_merged.head())"
   ]
  },
  {
   "cell_type": "code",
   "execution_count": 15,
   "metadata": {},
   "outputs": [
    {
     "name": "stdout",
     "output_type": "stream",
     "text": [
      "The mean number of trips overall per day is 124.95 out of  1307 tripdates.\n",
      "Date range is from 2015-05-31 : 2018-12-30 \n",
      "There are 1307 days in the date range.\n"
     ]
    }
   ],
   "source": [
    "# Compute the average\n",
    "mean_trips = trips_by_date_merged['num_trips'].mean()\n",
    "tot_tripdates = trips_by_date_merged['num_trips'].count() \n",
    "num_days = (trips_by_date_merged.index.max() - trips_by_date_merged.index.min()).days + 1\n",
    "\n",
    "print(\"The mean number of trips overall per day is {:.2f} out of  {} tripdates.\".format(mean_trips, tot_tripdates))\n",
    "print(f\"Date range is from {trips_by_date.index.min()} : {trips_by_date.index.max()} \")\n",
    "print(\"There are {} days in the date range.\".format(num_days))"
   ]
  },
  {
   "cell_type": "markdown",
   "metadata": {},
   "source": [
    "The average number of bikes rented per day overall is ~124 bikes. Now, we will find the average number of bikes per station."
   ]
  },
  {
   "cell_type": "code",
   "execution_count": 16,
   "metadata": {},
   "outputs": [],
   "source": [
    "#read the csv file\n",
    "trip = pd.read_csv(\"Pittsburgh_healthy_bikeshare.csv\", parse_dates = [\"start_time\",\"stop_time\"])"
   ]
  },
  {
   "cell_type": "code",
   "execution_count": 17,
   "metadata": {},
   "outputs": [],
   "source": [
    "trip[\"from_station_id\"] = trip[\"from_station_id\"].astype(str)\n",
    "\n",
    "#Average number of rentals per day at individual station including zero days:\n",
    "\n",
    "stations = trip[\"from_station_id\"].unique()\n",
    "\n",
    "#add a trip date column\n",
    "trip['tripdate'] = trip['start_time'].map(lambda x: x.date())\n",
    "\n",
    "def daily_avg_trips_new(stations, start_date = pd.datetime(2015, 5, 31), end_date = pd.datetime(2018, 12, 27)):\n",
    "       \n",
    "    \n",
    "    for station_id in stations:\n",
    "        rng = pd.date_range(start_date, end_date)\n",
    "        trips_by_date_new = pd.DataFrame(index=rng)\n",
    "        trips_by_date_new['weekday'] = trips_by_date_new.index.map(lambda x: x.weekday())\n",
    "        grp_date = trip[(trip.from_station_id == station_id)].groupby(['tripdate'])\n",
    "        # Compute number of trips by date \n",
    "        trips_by_date = pd.DataFrame(grp_date.size(), columns=['num_trips'])\n",
    "\n",
    "        # Step 4: Merge the two DataFrames on their indexes (tripdate) but do a \"left join\". \n",
    "        trips_by_date_merged = pd.merge(trips_by_date_new, trips_by_date, how='left', left_index=True, right_index=True, sort=True)\n",
    "    \n",
    "        # Step 5: Replace missing values with zeroes for those dates with no trips\n",
    "        trips_by_date_merged['num_trips'] = trips_by_date_merged['num_trips'].fillna(0)\n",
    "    \n",
    "        # Compute the average\n",
    "        mean_trips = round(trips_by_date_merged['num_trips'].mean(),2)\n",
    "        tot_tripdates = trips_by_date_merged['num_trips'].count() \n",
    "        num_days = (trips_by_date_merged.index.max() - trips_by_date_merged.index.min()).days + 1\n",
    "        print(f\"The mean number of trips for station_id {station_id}  per day is  {mean_trips}  out of {tot_tripdates} tripdates.\")\n",
    "\n",
    "        #print(\"The mean number of trips per day is {:.2f} out of  {} tripdates.\".format(mean_trips, tot_tripdates))\n",
    "    print(f\"Date range is from {trips_by_date.index.min()} : {trips_by_date.index.max()} \")\n",
    "    print(\"There are {} days in the date range.\".format(num_days))\n",
    "    \n",
    "    \n"
   ]
  },
  {
   "cell_type": "code",
   "execution_count": 18,
   "metadata": {},
   "outputs": [
    {
     "name": "stdout",
     "output_type": "stream",
     "text": [
      "The mean number of trips for station_id 1019  per day is  3.11  out of 1307 tripdates.\n",
      "The mean number of trips for station_id 1005  per day is  2.32  out of 1307 tripdates.\n",
      "The mean number of trips for station_id 1050  per day is  0.91  out of 1307 tripdates.\n",
      "The mean number of trips for station_id 1001  per day is  6.8  out of 1307 tripdates.\n",
      "The mean number of trips for station_id 1009  per day is  2.63  out of 1307 tripdates.\n",
      "The mean number of trips for station_id 1000  per day is  5.78  out of 1307 tripdates.\n",
      "The mean number of trips for station_id 1002  per day is  2.79  out of 1307 tripdates.\n",
      "The mean number of trips for station_id 1006  per day is  3.04  out of 1307 tripdates.\n",
      "The mean number of trips for station_id 1036  per day is  2.74  out of 1307 tripdates.\n",
      "The mean number of trips for station_id 1010  per day is  6.19  out of 1307 tripdates.\n",
      "The mean number of trips for station_id 1015  per day is  2.6  out of 1307 tripdates.\n",
      "The mean number of trips for station_id 1017  per day is  6.26  out of 1307 tripdates.\n",
      "The mean number of trips for station_id 1013  per day is  4.52  out of 1307 tripdates.\n",
      "The mean number of trips for station_id 1011  per day is  2.39  out of 1307 tripdates.\n",
      "The mean number of trips for station_id 1039  per day is  2.02  out of 1307 tripdates.\n",
      "The mean number of trips for station_id 1029  per day is  2.19  out of 1307 tripdates.\n",
      "The mean number of trips for station_id 1003  per day is  2.94  out of 1307 tripdates.\n",
      "The mean number of trips for station_id 1007  per day is  1.97  out of 1307 tripdates.\n",
      "The mean number of trips for station_id 1020  per day is  2.64  out of 1307 tripdates.\n",
      "The mean number of trips for station_id 1044  per day is  1.56  out of 1307 tripdates.\n",
      "The mean number of trips for station_id 1045  per day is  4.67  out of 1307 tripdates.\n",
      "The mean number of trips for station_id 1026  per day is  1.7  out of 1307 tripdates.\n",
      "The mean number of trips for station_id 1033  per day is  3.6  out of 1307 tripdates.\n",
      "The mean number of trips for station_id 1049  per day is  4.91  out of 1307 tripdates.\n",
      "The mean number of trips for station_id 1014  per day is  1.29  out of 1307 tripdates.\n",
      "The mean number of trips for station_id 1041  per day is  4.55  out of 1307 tripdates.\n",
      "The mean number of trips for station_id 1047  per day is  2.87  out of 1307 tripdates.\n",
      "The mean number of trips for station_id 1024  per day is  1.4  out of 1307 tripdates.\n",
      "The mean number of trips for station_id 1012  per day is  3.51  out of 1307 tripdates.\n",
      "The mean number of trips for station_id 1025  per day is  1.84  out of 1307 tripdates.\n",
      "The mean number of trips for station_id 1032  per day is  2.39  out of 1307 tripdates.\n",
      "The mean number of trips for station_id 1027  per day is  1.31  out of 1307 tripdates.\n",
      "The mean number of trips for station_id 1030  per day is  0.76  out of 1307 tripdates.\n",
      "The mean number of trips for station_id 1035  per day is  2.49  out of 1307 tripdates.\n",
      "The mean number of trips for station_id 1031  per day is  1.41  out of 1307 tripdates.\n",
      "The mean number of trips for station_id 1023  per day is  2.06  out of 1307 tripdates.\n",
      "The mean number of trips for station_id 1034  per day is  2.58  out of 1307 tripdates.\n",
      "The mean number of trips for station_id 1046  per day is  2.28  out of 1307 tripdates.\n",
      "The mean number of trips for station_id 1028  per day is  2.07  out of 1307 tripdates.\n",
      "The mean number of trips for station_id 1043  per day is  1.68  out of 1307 tripdates.\n",
      "The mean number of trips for station_id 1040  per day is  2.24  out of 1307 tripdates.\n",
      "The mean number of trips for station_id 1022  per day is  2.11  out of 1307 tripdates.\n",
      "The mean number of trips for station_id 1021  per day is  2.51  out of 1307 tripdates.\n",
      "The mean number of trips for station_id 1048  per day is  3.31  out of 1307 tripdates.\n",
      "Date range is from 2015-06-21 : 2018-12-28 \n",
      "There are 1307 days in the date range.\n"
     ]
    }
   ],
   "source": [
    "i = daily_avg_trips_new(stations)"
   ]
  },
  {
   "cell_type": "markdown",
   "metadata": {},
   "source": [
    "Looks like the average number of rentals per day at individual station including zero days is maximum at station #1010"
   ]
  },
  {
   "cell_type": "code",
   "execution_count": null,
   "metadata": {},
   "outputs": [],
   "source": []
  }
 ],
 "metadata": {
  "kernelspec": {
   "display_name": "Python 3",
   "language": "python",
   "name": "python3"
  },
  "language_info": {
   "codemirror_mode": {
    "name": "ipython",
    "version": 3
   },
   "file_extension": ".py",
   "mimetype": "text/x-python",
   "name": "python",
   "nbconvert_exporter": "python",
   "pygments_lexer": "ipython3",
   "version": "3.7.3"
  }
 },
 "nbformat": 4,
 "nbformat_minor": 2
}

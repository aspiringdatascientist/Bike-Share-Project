{
 "cells": [
  {
   "cell_type": "code",
   "execution_count": 1,
   "metadata": {},
   "outputs": [],
   "source": [
    "import pandas as pd\n",
    "import datetime\n",
    "from datetime import datetime\n",
    "from time import strptime\n"
   ]
  },
  {
   "cell_type": "code",
   "execution_count": 2,
   "metadata": {},
   "outputs": [],
   "source": [
    "#Reading the csv file (\"Rentals\" + lattitudes & longitudes)\n",
    "a = pd.read_csv(\"Pittsburgh_dataset_lon_lat.csv\", header = 0)"
   ]
  },
  {
   "cell_type": "code",
   "execution_count": 3,
   "metadata": {},
   "outputs": [
    {
     "data": {
      "text/html": [
       "<div>\n",
       "<style scoped>\n",
       "    .dataframe tbody tr th:only-of-type {\n",
       "        vertical-align: middle;\n",
       "    }\n",
       "\n",
       "    .dataframe tbody tr th {\n",
       "        vertical-align: top;\n",
       "    }\n",
       "\n",
       "    .dataframe thead th {\n",
       "        text-align: right;\n",
       "    }\n",
       "</style>\n",
       "<table border=\"1\" class=\"dataframe\">\n",
       "  <thead>\n",
       "    <tr style=\"text-align: right;\">\n",
       "      <th></th>\n",
       "      <th>trip_id</th>\n",
       "      <th>start_time</th>\n",
       "      <th>stop_time</th>\n",
       "      <th>bike_id</th>\n",
       "      <th>trip_duration</th>\n",
       "      <th>from_station_id</th>\n",
       "      <th>from_station_name</th>\n",
       "      <th>to_station_id</th>\n",
       "      <th>to_station_name</th>\n",
       "      <th>user_type</th>\n",
       "      <th>from_latitude</th>\n",
       "      <th>from_longitude</th>\n",
       "      <th>to_latitude</th>\n",
       "      <th>to_longitude</th>\n",
       "    </tr>\n",
       "  </thead>\n",
       "  <tbody>\n",
       "    <tr>\n",
       "      <th>0</th>\n",
       "      <td>10676972</td>\n",
       "      <td>2015-05-31 06:54:00</td>\n",
       "      <td>2015-05-31 10:17:00</td>\n",
       "      <td>70166</td>\n",
       "      <td>12190</td>\n",
       "      <td>1018</td>\n",
       "      <td>Butler St &amp; Stanton Ave</td>\n",
       "      <td>1001</td>\n",
       "      <td>Forbes Ave &amp; Market Square</td>\n",
       "      <td>Customer</td>\n",
       "      <td>40.466103</td>\n",
       "      <td>-79.964628</td>\n",
       "      <td>40.440877</td>\n",
       "      <td>-80.00308</td>\n",
       "    </tr>\n",
       "  </tbody>\n",
       "</table>\n",
       "</div>"
      ],
      "text/plain": [
       "    trip_id           start_time            stop_time  bike_id  trip_duration  \\\n",
       "0  10676972  2015-05-31 06:54:00  2015-05-31 10:17:00    70166          12190   \n",
       "\n",
       "   from_station_id        from_station_name  to_station_id  \\\n",
       "0             1018  Butler St & Stanton Ave           1001   \n",
       "\n",
       "              to_station_name user_type    from_latitude  from_longitude  \\\n",
       "0  Forbes Ave & Market Square    Customer      40.466103      -79.964628   \n",
       "\n",
       "   to_latitude  to_longitude  \n",
       "0    40.440877     -80.00308  "
      ]
     },
     "execution_count": 3,
     "metadata": {},
     "output_type": "execute_result"
    }
   ],
   "source": [
    "#Analyzing the merged df\n",
    "a.head(1)"
   ]
  },
  {
   "cell_type": "code",
   "execution_count": 15,
   "metadata": {},
   "outputs": [],
   "source": [
    "#Historical daily weather data is downloaded as CSV format from NOAA website as transmitted by \"Pittsburgh International Airport\" weather station\n",
    "b = pd.read_csv(\"Pittsburg Airport.csv\", header = 0, parse_dates = True)"
   ]
  },
  {
   "cell_type": "code",
   "execution_count": 5,
   "metadata": {},
   "outputs": [
    {
     "data": {
      "text/html": [
       "<div>\n",
       "<style scoped>\n",
       "    .dataframe tbody tr th:only-of-type {\n",
       "        vertical-align: middle;\n",
       "    }\n",
       "\n",
       "    .dataframe tbody tr th {\n",
       "        vertical-align: top;\n",
       "    }\n",
       "\n",
       "    .dataframe thead th {\n",
       "        text-align: right;\n",
       "    }\n",
       "</style>\n",
       "<table border=\"1\" class=\"dataframe\">\n",
       "  <thead>\n",
       "    <tr style=\"text-align: right;\">\n",
       "      <th></th>\n",
       "      <th>STATION</th>\n",
       "      <th>NAME</th>\n",
       "      <th>DATE</th>\n",
       "      <th>AWND</th>\n",
       "      <th>PGTM</th>\n",
       "      <th>PRCP</th>\n",
       "      <th>TAVG</th>\n",
       "      <th>TMAX</th>\n",
       "      <th>TMIN</th>\n",
       "      <th>WDF2</th>\n",
       "      <th>WDF5</th>\n",
       "      <th>WSF2</th>\n",
       "      <th>WSF5</th>\n",
       "      <th>WT01</th>\n",
       "      <th>WT02</th>\n",
       "      <th>WT03</th>\n",
       "      <th>WT04</th>\n",
       "      <th>WT08</th>\n",
       "      <th>WT09</th>\n",
       "    </tr>\n",
       "  </thead>\n",
       "  <tbody>\n",
       "    <tr>\n",
       "      <th>0</th>\n",
       "      <td>USW00014762</td>\n",
       "      <td>PITTSBURGH ALLEGHENY CO AIRPORT, PA US</td>\n",
       "      <td>2015-04-01</td>\n",
       "      <td>4.70</td>\n",
       "      <td>1443</td>\n",
       "      <td>0.00</td>\n",
       "      <td>NaN</td>\n",
       "      <td>58.0</td>\n",
       "      <td>28.0</td>\n",
       "      <td>270</td>\n",
       "      <td>290</td>\n",
       "      <td>14.1</td>\n",
       "      <td>19.0</td>\n",
       "      <td>NaN</td>\n",
       "      <td>NaN</td>\n",
       "      <td>NaN</td>\n",
       "      <td>NaN</td>\n",
       "      <td>NaN</td>\n",
       "      <td>NaN</td>\n",
       "    </tr>\n",
       "    <tr>\n",
       "      <th>1</th>\n",
       "      <td>USW00014762</td>\n",
       "      <td>PITTSBURGH ALLEGHENY CO AIRPORT, PA US</td>\n",
       "      <td>2015-04-02</td>\n",
       "      <td>11.41</td>\n",
       "      <td>1202</td>\n",
       "      <td>0.18</td>\n",
       "      <td>NaN</td>\n",
       "      <td>69.0</td>\n",
       "      <td>37.0</td>\n",
       "      <td>240</td>\n",
       "      <td>260</td>\n",
       "      <td>35.1</td>\n",
       "      <td>45.0</td>\n",
       "      <td>NaN</td>\n",
       "      <td>NaN</td>\n",
       "      <td>NaN</td>\n",
       "      <td>NaN</td>\n",
       "      <td>NaN</td>\n",
       "      <td>NaN</td>\n",
       "    </tr>\n",
       "  </tbody>\n",
       "</table>\n",
       "</div>"
      ],
      "text/plain": [
       "       STATION                                    NAME        DATE   AWND  \\\n",
       "0  USW00014762  PITTSBURGH ALLEGHENY CO AIRPORT, PA US  2015-04-01   4.70   \n",
       "1  USW00014762  PITTSBURGH ALLEGHENY CO AIRPORT, PA US  2015-04-02  11.41   \n",
       "\n",
       "   PGTM  PRCP  TAVG  TMAX  TMIN  WDF2  WDF5  WSF2  WSF5  WT01  WT02  WT03  \\\n",
       "0  1443  0.00   NaN  58.0  28.0   270   290  14.1  19.0   NaN   NaN   NaN   \n",
       "1  1202  0.18   NaN  69.0  37.0   240   260  35.1  45.0   NaN   NaN   NaN   \n",
       "\n",
       "   WT04  WT08  WT09  \n",
       "0   NaN   NaN   NaN  \n",
       "1   NaN   NaN   NaN  "
      ]
     },
     "execution_count": 5,
     "metadata": {},
     "output_type": "execute_result"
    }
   ],
   "source": [
    "\"\"\"\n",
    "The columns included in this dataset are:\n",
    "WSF5 - Fastest 5-second wind speed\n",
    "WT03 - Thunder\n",
    "WT04 - Ice pellets, sleet, snow pellets, or small hail\" \n",
    "PRCP - Precipitation\n",
    "WT08 - Smoke or haze \n",
    "WT09 - Blowing or drifting snow\n",
    "WDF2 - Direction of fastest 2-minute wind\n",
    "AWND - Average wind speed\n",
    "WDF5 - Direction of fastest 5-second wind\n",
    "PGTM - Peak gust time\n",
    "WT01 - Fog, ice fog, or freezing fog (may include heavy fog)\n",
    "TMAX - Maximum temperature\n",
    "WT02 - Heavy fog or heaving freezing fog (not always distinguished from fog)\n",
    "TAVG - Average Temperature.\n",
    "TMIN - Minimum temperature\n",
    "WSF2 - Fastest 2-minute wind speed\"\"\"\n",
    "b.head(2)"
   ]
  },
  {
   "cell_type": "code",
   "execution_count": 6,
   "metadata": {},
   "outputs": [],
   "source": [
    "#I wanted to retain only columns such as average precipitation, maximum temperature,date,Minimum temperature,etc.,  using Excel.\n",
    "c = b.drop([\"STATION\",\"NAME\",\"PGTM\",\"TAVG\",\"WDF2\",\"WDF5\",\"WSF2\",\"WSF5\"], axis =1)\n"
   ]
  },
  {
   "cell_type": "code",
   "execution_count": 7,
   "metadata": {},
   "outputs": [],
   "source": [
    "c['DATE'] = pd.to_datetime(c['DATE'], format =  '%Y-%m-%d')"
   ]
  },
  {
   "cell_type": "code",
   "execution_count": 8,
   "metadata": {},
   "outputs": [
    {
     "name": "stdout",
     "output_type": "stream",
     "text": [
      "<class 'pandas.core.frame.DataFrame'>\n",
      "RangeIndex: 1371 entries, 0 to 1370\n",
      "Data columns (total 11 columns):\n",
      "DATE    1371 non-null datetime64[ns]\n",
      "AWND    1368 non-null float64\n",
      "PRCP    1371 non-null float64\n",
      "TMAX    1369 non-null float64\n",
      "TMIN    1369 non-null float64\n",
      "WT01    47 non-null float64\n",
      "WT02    7 non-null float64\n",
      "WT03    2 non-null float64\n",
      "WT04    1 non-null float64\n",
      "WT08    23 non-null float64\n",
      "WT09    1 non-null float64\n",
      "dtypes: datetime64[ns](1), float64(10)\n",
      "memory usage: 117.9 KB\n"
     ]
    }
   ],
   "source": [
    "c.info()"
   ]
  },
  {
   "cell_type": "code",
   "execution_count": 9,
   "metadata": {},
   "outputs": [],
   "source": [
    "#To merge weather data to The Bikeshare rentals, We need just the datefield from the \"Start_time\" column , because it is in datetime format while the weather data’s date field is in date format. \n",
    "#To aid in merging dataframes, I created a temporary \"DATE\" column by stripping the time part of the date in \"Renatals\" df\n",
    "a['DATE'] = pd.to_datetime(a['start_time']).dt.date"
   ]
  },
  {
   "cell_type": "code",
   "execution_count": 11,
   "metadata": {},
   "outputs": [
    {
     "data": {
      "text/html": [
       "<div>\n",
       "<style scoped>\n",
       "    .dataframe tbody tr th:only-of-type {\n",
       "        vertical-align: middle;\n",
       "    }\n",
       "\n",
       "    .dataframe tbody tr th {\n",
       "        vertical-align: top;\n",
       "    }\n",
       "\n",
       "    .dataframe thead th {\n",
       "        text-align: right;\n",
       "    }\n",
       "</style>\n",
       "<table border=\"1\" class=\"dataframe\">\n",
       "  <thead>\n",
       "    <tr style=\"text-align: right;\">\n",
       "      <th></th>\n",
       "      <th>trip_id</th>\n",
       "      <th>start_time</th>\n",
       "      <th>stop_time</th>\n",
       "      <th>bike_id</th>\n",
       "      <th>trip_duration</th>\n",
       "      <th>from_station_id</th>\n",
       "      <th>from_station_name</th>\n",
       "      <th>to_station_id</th>\n",
       "      <th>to_station_name</th>\n",
       "      <th>user_type</th>\n",
       "      <th>from_latitude</th>\n",
       "      <th>from_longitude</th>\n",
       "      <th>to_latitude</th>\n",
       "      <th>to_longitude</th>\n",
       "      <th>DATE</th>\n",
       "    </tr>\n",
       "  </thead>\n",
       "  <tbody>\n",
       "    <tr>\n",
       "      <th>269686</th>\n",
       "      <td>55956393</td>\n",
       "      <td>2018-08-13 17:33:00</td>\n",
       "      <td>2018-08-13 18:09:00</td>\n",
       "      <td>70428</td>\n",
       "      <td>2154</td>\n",
       "      <td>1061</td>\n",
       "      <td>33rd St and Penn Ave</td>\n",
       "      <td>1042</td>\n",
       "      <td>Centre Ave &amp; Kirkpatrick St</td>\n",
       "      <td>Subscriber</td>\n",
       "      <td>40.462026</td>\n",
       "      <td>-79.968114</td>\n",
       "      <td>40.445019</td>\n",
       "      <td>-79.977194</td>\n",
       "      <td>2018-08-13</td>\n",
       "    </tr>\n",
       "  </tbody>\n",
       "</table>\n",
       "</div>"
      ],
      "text/plain": [
       "         trip_id           start_time            stop_time  bike_id  \\\n",
       "269686  55956393  2018-08-13 17:33:00  2018-08-13 18:09:00    70428   \n",
       "\n",
       "        trip_duration  from_station_id     from_station_name  to_station_id  \\\n",
       "269686           2154             1061  33rd St and Penn Ave           1042   \n",
       "\n",
       "                    to_station_name user_type    from_latitude  \\\n",
       "269686  Centre Ave & Kirkpatrick St  Subscriber      40.462026   \n",
       "\n",
       "        from_longitude  to_latitude  to_longitude        DATE  \n",
       "269686      -79.968114    40.445019    -79.977194  2018-08-13  "
      ]
     },
     "execution_count": 11,
     "metadata": {},
     "output_type": "execute_result"
    }
   ],
   "source": [
    "a.tail(1)"
   ]
  },
  {
   "cell_type": "code",
   "execution_count": 12,
   "metadata": {},
   "outputs": [],
   "source": [
    "#  Here, I am extracting only the month and day from a timestamp using the datetime module  and then segregating\n",
    "#seasons based on whether it falls within a given season (fall, summer, winter, spring) based on the fixed dates of the solstices and equinoxes \n",
    "def season_of_date(date):\n",
    "    year = str(date.year)\n",
    "    seasons = {'spring': pd.date_range(start='21/03/'+year, end='20/06/'+year),\n",
    "               'summer': pd.date_range(start='21/06/'+year, end='22/09/'+year),\n",
    "               'autumn': pd.date_range(start='23/09/'+year, end='20/12/'+year)}\n",
    "    if date in seasons['spring']:\n",
    "        return 'spring'\n",
    "    if date in seasons['summer']:\n",
    "        return 'summer'\n",
    "    if date in seasons['autumn']:\n",
    "        return 'autumn'\n",
    "    else:\n",
    "        return 'winter'\n",
    "# Map the results to \"DATE\" column of type `datetime`\n",
    "c['season'] = c.DATE.map(season_of_date)"
   ]
  },
  {
   "cell_type": "code",
   "execution_count": 13,
   "metadata": {},
   "outputs": [
    {
     "data": {
      "text/html": [
       "<div>\n",
       "<style scoped>\n",
       "    .dataframe tbody tr th:only-of-type {\n",
       "        vertical-align: middle;\n",
       "    }\n",
       "\n",
       "    .dataframe tbody tr th {\n",
       "        vertical-align: top;\n",
       "    }\n",
       "\n",
       "    .dataframe thead th {\n",
       "        text-align: right;\n",
       "    }\n",
       "</style>\n",
       "<table border=\"1\" class=\"dataframe\">\n",
       "  <thead>\n",
       "    <tr style=\"text-align: right;\">\n",
       "      <th></th>\n",
       "      <th>DATE</th>\n",
       "      <th>AWND</th>\n",
       "      <th>PRCP</th>\n",
       "      <th>TMAX</th>\n",
       "      <th>TMIN</th>\n",
       "      <th>WT01</th>\n",
       "      <th>WT02</th>\n",
       "      <th>WT03</th>\n",
       "      <th>WT04</th>\n",
       "      <th>WT08</th>\n",
       "      <th>WT09</th>\n",
       "      <th>season</th>\n",
       "    </tr>\n",
       "  </thead>\n",
       "  <tbody>\n",
       "    <tr>\n",
       "      <th>0</th>\n",
       "      <td>2015-04-01</td>\n",
       "      <td>4.70</td>\n",
       "      <td>0.00</td>\n",
       "      <td>58.0</td>\n",
       "      <td>28.0</td>\n",
       "      <td>NaN</td>\n",
       "      <td>NaN</td>\n",
       "      <td>NaN</td>\n",
       "      <td>NaN</td>\n",
       "      <td>NaN</td>\n",
       "      <td>NaN</td>\n",
       "      <td>spring</td>\n",
       "    </tr>\n",
       "    <tr>\n",
       "      <th>1</th>\n",
       "      <td>2015-04-02</td>\n",
       "      <td>11.41</td>\n",
       "      <td>0.18</td>\n",
       "      <td>69.0</td>\n",
       "      <td>37.0</td>\n",
       "      <td>NaN</td>\n",
       "      <td>NaN</td>\n",
       "      <td>NaN</td>\n",
       "      <td>NaN</td>\n",
       "      <td>NaN</td>\n",
       "      <td>NaN</td>\n",
       "      <td>spring</td>\n",
       "    </tr>\n",
       "  </tbody>\n",
       "</table>\n",
       "</div>"
      ],
      "text/plain": [
       "        DATE   AWND  PRCP  TMAX  TMIN  WT01  WT02  WT03  WT04  WT08  WT09  \\\n",
       "0 2015-04-01   4.70  0.00  58.0  28.0   NaN   NaN   NaN   NaN   NaN   NaN   \n",
       "1 2015-04-02  11.41  0.18  69.0  37.0   NaN   NaN   NaN   NaN   NaN   NaN   \n",
       "\n",
       "   season  \n",
       "0  spring  \n",
       "1  spring  "
      ]
     },
     "execution_count": 13,
     "metadata": {},
     "output_type": "execute_result"
    }
   ],
   "source": [
    "c.head(2)"
   ]
  },
  {
   "cell_type": "code",
   "execution_count": 14,
   "metadata": {},
   "outputs": [],
   "source": [
    "c.to_csv(\"Pi_seasons.csv\",index = False)"
   ]
  },
  {
   "cell_type": "code",
   "execution_count": null,
   "metadata": {},
   "outputs": [],
   "source": []
  }
 ],
 "metadata": {
  "kernelspec": {
   "display_name": "Python 3",
   "language": "python",
   "name": "python3"
  },
  "language_info": {
   "codemirror_mode": {
    "name": "ipython",
    "version": 3
   },
   "file_extension": ".py",
   "mimetype": "text/x-python",
   "name": "python",
   "nbconvert_exporter": "python",
   "pygments_lexer": "ipython3",
   "version": "3.7.1"
  }
 },
 "nbformat": 4,
 "nbformat_minor": 2
}

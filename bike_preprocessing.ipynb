{
 "cells": [
  {
   "cell_type": "code",
   "execution_count": 27,
   "metadata": {},
   "outputs": [],
   "source": [
    "#import necessary modules\n",
    "\n",
    "from sklearn import datasets\n",
    "import numpy as np\n",
    "import pandas as pd\n",
    "import matplotlib.pyplot as plt\n",
    "import seaborn as sns\n",
    "from sklearn.preprocessing import LabelEncoder\n",
    "from datetime import datetime\n",
    "from sklearn.model_selection import train_test_split\n",
    "plt.style.use('ggplot')"
   ]
  },
  {
   "cell_type": "code",
   "execution_count": 28,
   "metadata": {},
   "outputs": [],
   "source": [
    "df = pd.read_csv(\"bike_data.csv\", parse_dates = ['start_time','stop_time'])"
   ]
  },
  {
   "cell_type": "code",
   "execution_count": 29,
   "metadata": {},
   "outputs": [],
   "source": [
    "df['hour'] = df['start_time'].dt.hour.astype('category')\n",
    "df['month'] = df['start_time'].dt.month.astype('category')\n"
   ]
  },
  {
   "cell_type": "code",
   "execution_count": 30,
   "metadata": {},
   "outputs": [
    {
     "data": {
      "text/plain": [
       "Index(['trip_id', 'start_time', 'stop_time', 'bike_id', 'trip_duration',\n",
       "       'from_station_id', 'from_station_name', 'to_station_id',\n",
       "       'to_station_name', 'user_type', 'from_latitude', 'from_longitude',\n",
       "       'to_latitude', 'to_longitude', 'TMAX', 'TMIN', 'season', 'holiday',\n",
       "       'walk_score', 'transit_score', 'bike_score', 'distance', 'event_type',\n",
       "       'rain', 'wind', 'weather', 'year', 'tripdate', 'weekend', 'speed',\n",
       "       'weekday', 'num_trips_day', 'hour', 'month'],\n",
       "      dtype='object')"
      ]
     },
     "execution_count": 30,
     "metadata": {},
     "output_type": "execute_result"
    }
   ],
   "source": [
    "df.columns"
   ]
  },
  {
   "cell_type": "code",
   "execution_count": 31,
   "metadata": {},
   "outputs": [
    {
     "name": "stdout",
     "output_type": "stream",
     "text": [
      "<class 'pandas.core.frame.DataFrame'>\n",
      "RangeIndex: 186253 entries, 0 to 186252\n",
      "Data columns (total 34 columns):\n",
      "trip_id              186253 non-null int64\n",
      "start_time           186253 non-null datetime64[ns]\n",
      "stop_time            186253 non-null datetime64[ns]\n",
      "bike_id              186253 non-null int64\n",
      "trip_duration        186253 non-null int64\n",
      "from_station_id      186253 non-null int64\n",
      "from_station_name    186253 non-null object\n",
      "to_station_id        186253 non-null int64\n",
      "to_station_name      186253 non-null object\n",
      "user_type            186253 non-null object\n",
      "from_latitude        186253 non-null float64\n",
      "from_longitude       186253 non-null float64\n",
      "to_latitude          186253 non-null float64\n",
      "to_longitude         186253 non-null float64\n",
      "TMAX                 186253 non-null float64\n",
      "TMIN                 186253 non-null float64\n",
      "season               186253 non-null object\n",
      "holiday              186253 non-null int64\n",
      "walk_score           186253 non-null object\n",
      "transit_score        186253 non-null object\n",
      "bike_score           186253 non-null object\n",
      "distance             186253 non-null float64\n",
      "event_type           186253 non-null object\n",
      "rain                 186253 non-null float64\n",
      "wind                 186253 non-null float64\n",
      "weather              186253 non-null object\n",
      "year                 186253 non-null int64\n",
      "tripdate             186253 non-null object\n",
      "weekend              186253 non-null int64\n",
      "speed                186253 non-null float64\n",
      "weekday              186253 non-null int64\n",
      "num_trips_day        186253 non-null int64\n",
      "hour                 186253 non-null category\n",
      "month                186253 non-null category\n",
      "dtypes: category(2), datetime64[ns](2), float64(10), int64(10), object(10)\n",
      "memory usage: 45.8+ MB\n"
     ]
    }
   ],
   "source": [
    "df.info()"
   ]
  },
  {
   "cell_type": "markdown",
   "metadata": {},
   "source": [
    "\n",
    "__Outlier detection:__\n",
    "\n",
    "Let's remove outliers that deviates drastically from other observations in a dataset which might not necessarily problematic but can skew our model by affecting the slope."
   ]
  },
  {
   "cell_type": "code",
   "execution_count": 32,
   "metadata": {},
   "outputs": [],
   "source": [
    "def find_outliers(x):\n",
    "    #Values below Q1-1.5(Q3-Q1) or above Q3+1.5(Q3-Q1)\n",
    "    q1 = np.percentile(x, 25)\n",
    "    q3 = np.percentile(x, 75)\n",
    "    iqr = q3-q1 \n",
    "    floor = q1 - 1.5*iqr\n",
    "    ceiling = q3 + 1.5*iqr\n",
    "    outlier_indices = list(x.index[(x < floor)|(x > ceiling)])\n",
    "    outlier_values = list(x[outlier_indices])\n",
    "\n",
    "    return outlier_indices, outlier_values"
   ]
  },
  {
   "cell_type": "code",
   "execution_count": 33,
   "metadata": {},
   "outputs": [
    {
     "name": "stdout",
     "output_type": "stream",
     "text": [
      "[15.21 15.21 15.21 ... 19.69 19.69 19.69]\n"
     ]
    }
   ],
   "source": [
    "indices, values = find_outliers(df['wind'])\n",
    "print(np.sort(values))"
   ]
  },
  {
   "cell_type": "code",
   "execution_count": 34,
   "metadata": {},
   "outputs": [
    {
     "data": {
      "image/png": "[encoded data removed]",
      "text/plain": [
       "<Figure size 432x288 with 1 Axes>"
      ]
     },
     "metadata": {
      "needs_background": "light"
     },
     "output_type": "display_data"
    }
   ],
   "source": [
    "# Use pyplot in matplotlib to plot histograms\n",
    "%matplotlib inline\n",
    "import matplotlib.pyplot as plt\n",
    "\n",
    "def plot_histogram(x):\n",
    "    n = len(x)\n",
    "    bins = int(np.sqrt(n))\n",
    "    plt.hist(x, color='crimson',bins = bins, alpha=0.5)\n",
    "    plt.title(\"Histogram of '{var_name}'\".format(var_name=x.name))\n",
    "    plt.xlabel(\"Value\")\n",
    "    plt.ylabel(\"Frequency\")\n",
    "    plt.show()\n",
    "plot_histogram(df['wind'])"
   ]
  },
  {
   "cell_type": "code",
   "execution_count": 35,
   "metadata": {},
   "outputs": [],
   "source": [
    "indexNames = df[df['wind']>= 15.2].index\n",
    "df.drop(indexNames , inplace=True)"
   ]
  },
  {
   "cell_type": "code",
   "execution_count": 36,
   "metadata": {},
   "outputs": [
    {
     "name": "stdout",
     "output_type": "stream",
     "text": [
      "[3366 3366 3366 ... 7498 7498 7499]\n"
     ]
    }
   ],
   "source": [
    "indices, values = find_outliers(df['trip_duration'])\n",
    "print(np.sort(values))"
   ]
  },
  {
   "cell_type": "code",
   "execution_count": 40,
   "metadata": {},
   "outputs": [
    {
     "data": {
      "image/png": "[encoded data removed]",
      "text/plain": [
       "<Figure size 432x288 with 1 Axes>"
      ]
     },
     "metadata": {
      "needs_background": "light"
     },
     "output_type": "display_data"
    }
   ],
   "source": [
    "plot_histogram(df['trip_duration'].div(60))"
   ]
  },
  {
   "cell_type": "code",
   "execution_count": 41,
   "metadata": {},
   "outputs": [],
   "source": [
    "indexNames = df[df['trip_duration']>= 3366].index\n",
    "df.drop(indexNames , inplace=True)"
   ]
  },
  {
   "cell_type": "code",
   "execution_count": 42,
   "metadata": {},
   "outputs": [
    {
     "data": {
      "image/png": "[encoded data removed]",
      "text/plain": [
       "<Figure size 432x288 with 1 Axes>"
      ]
     },
     "metadata": {
      "needs_background": "light"
     },
     "output_type": "display_data"
    }
   ],
   "source": [
    "plot_histogram(df['trip_duration'].div(60))"
   ]
  },
  {
   "cell_type": "code",
   "execution_count": 233,
   "metadata": {},
   "outputs": [
    {
     "name": "stdout",
     "output_type": "stream",
     "text": [
      "[3.27 3.27 3.27 ... 4.97 5.16 5.16]\n"
     ]
    }
   ],
   "source": [
    "indexNames = df[df['distance']>= 3.27].index\n",
    "df.drop(indexNames , inplace=True)"
   ]
  },
  {
   "cell_type": "code",
   "execution_count": 234,
   "metadata": {},
   "outputs": [
    {
     "data": {
      "image/png": "[encoded data removed]",
      "text/plain": [
       "<Figure size 432x288 with 1 Axes>"
      ]
     },
     "metadata": {
      "needs_background": "light"
     },
     "output_type": "display_data"
    }
   ],
   "source": [
    "plot_histogram(df['distance'])"
   ]
  },
  {
   "cell_type": "code",
   "execution_count": 235,
   "metadata": {},
   "outputs": [],
   "source": [
    "indices, values = find_outliers(df['distance'])\n",
    "print(np.sort(values))"
   ]
  },
  {
   "cell_type": "code",
   "execution_count": 236,
   "metadata": {},
   "outputs": [
    {
     "name": "stdout",
     "output_type": "stream",
     "text": [
      "[10.94 10.94 10.94 ... 29.82 29.85 29.88]\n"
     ]
    }
   ],
   "source": [
    "indices, values = find_outliers(df['speed'])\n",
    "print(np.sort(values))"
   ]
  },
  {
   "cell_type": "code",
   "execution_count": 237,
   "metadata": {},
   "outputs": [
    {
     "data": {
      "image/png": "[encoded data removed]",
      "text/plain": [
       "<Figure size 432x288 with 1 Axes>"
      ]
     },
     "metadata": {
      "needs_background": "light"
     },
     "output_type": "display_data"
    }
   ],
   "source": [
    "plot_histogram(df['speed'])"
   ]
  },
  {
   "cell_type": "code",
   "execution_count": 238,
   "metadata": {},
   "outputs": [],
   "source": [
    "indexNames = df[df['speed']>= 10.94].index\n",
    "df.drop(indexNames , inplace=True)"
   ]
  },
  {
   "cell_type": "code",
   "execution_count": 239,
   "metadata": {},
   "outputs": [
    {
     "data": {
      "text/plain": [
       "(163317, 34)"
      ]
     },
     "execution_count": 239,
     "metadata": {},
     "output_type": "execute_result"
    }
   ],
   "source": [
    "df.shape"
   ]
  },
  {
   "cell_type": "markdown",
   "metadata": {},
   "source": [
    "There are 163317 rows of data left after removing the outliers."
   ]
  },
  {
   "cell_type": "code",
   "execution_count": 240,
   "metadata": {},
   "outputs": [
    {
     "data": {
      "image/png": "[encoded data removed]",
      "text/plain": [
       "<Figure size 1080x360 with 3 Axes>"
      ]
     },
     "metadata": {
      "needs_background": "light"
     },
     "output_type": "display_data"
    }
   ],
   "source": [
    "cols_plot = ['rain','wind','trip_duration']\n",
    "axes = df[cols_plot].plot(marker='.', alpha=0.5, linestyle='None', figsize=(15, 5), subplots=True)\n",
    "for ax in axes:\n",
    "    ax.set_ylabel('Daily Totals')"
   ]
  },
  {
   "cell_type": "code",
   "execution_count": 241,
   "metadata": {},
   "outputs": [
    {
     "data": {
      "text/plain": [
       "Index(['trip_id', 'start_time', 'stop_time', 'bike_id', 'trip_duration',\n",
       "       'from_station_id', 'from_station_name', 'to_station_id',\n",
       "       'to_station_name', 'user_type', 'from_latitude', 'from_longitude',\n",
       "       'to_latitude', 'to_longitude', 'TMAX', 'TMIN', 'season', 'holiday',\n",
       "       'walk_score', 'transit_score', 'bike_score', 'distance', 'event_type',\n",
       "       'rain', 'wind', 'weather', 'year', 'tripdate', 'weekend', 'speed',\n",
       "       'weekday', 'num_trips_day', 'hour', 'month'],\n",
       "      dtype='object')"
      ]
     },
     "execution_count": 241,
     "metadata": {},
     "output_type": "execute_result"
    }
   ],
   "source": [
    "df.columns"
   ]
  },
  {
   "cell_type": "code",
   "execution_count": 242,
   "metadata": {},
   "outputs": [],
   "source": [
    "\n",
    "df.drop(['trip_id', 'bike_id','from_latitude', 'from_longitude', 'to_latitude', 'to_longitude','from_station_name','to_station_name'], axis = 1, inplace = True)"
   ]
  },
  {
   "cell_type": "code",
   "execution_count": 243,
   "metadata": {},
   "outputs": [
    {
     "data": {
      "text/plain": [
       "start_time         datetime64[ns]\n",
       "stop_time          datetime64[ns]\n",
       "trip_duration               int64\n",
       "from_station_id             int64\n",
       "to_station_id               int64\n",
       "user_type                  object\n",
       "TMAX                      float64\n",
       "TMIN                      float64\n",
       "season                     object\n",
       "holiday                     int64\n",
       "walk_score                 object\n",
       "transit_score              object\n",
       "bike_score                 object\n",
       "distance                  float64\n",
       "event_type                 object\n",
       "rain                      float64\n",
       "wind                      float64\n",
       "weather                    object\n",
       "year                        int64\n",
       "tripdate                   object\n",
       "weekend                     int64\n",
       "speed                     float64\n",
       "weekday                     int64\n",
       "num_trips_day               int64\n",
       "hour                     category\n",
       "month                    category\n",
       "dtype: object"
      ]
     },
     "execution_count": 243,
     "metadata": {},
     "output_type": "execute_result"
    }
   ],
   "source": [
    "df.dtypes"
   ]
  },
  {
   "cell_type": "code",
   "execution_count": 244,
   "metadata": {},
   "outputs": [],
   "source": [
    "#Convert a list of columns as categorical columns\n",
    "df[['from_station_id','to_station_id','holiday', 'year','month','weekday','weekend','hour']] = df[['from_station_id','to_station_id','holiday', 'year','month','weekday','weekend','hour']].astype('category')"
   ]
  },
  {
   "cell_type": "code",
   "execution_count": 245,
   "metadata": {},
   "outputs": [
    {
     "data": {
      "text/plain": [
       "start_time         datetime64[ns]\n",
       "stop_time          datetime64[ns]\n",
       "trip_duration               int64\n",
       "from_station_id          category\n",
       "to_station_id            category\n",
       "user_type                  object\n",
       "TMAX                      float64\n",
       "TMIN                      float64\n",
       "season                     object\n",
       "holiday                  category\n",
       "walk_score                 object\n",
       "transit_score              object\n",
       "bike_score                 object\n",
       "distance                  float64\n",
       "event_type                 object\n",
       "rain                      float64\n",
       "wind                      float64\n",
       "weather                    object\n",
       "year                     category\n",
       "tripdate                   object\n",
       "weekend                  category\n",
       "speed                     float64\n",
       "weekday                  category\n",
       "num_trips_day               int64\n",
       "hour                     category\n",
       "month                    category\n",
       "dtype: object"
      ]
     },
     "execution_count": 245,
     "metadata": {},
     "output_type": "execute_result"
    }
   ],
   "source": [
    "df.dtypes"
   ]
  },
  {
   "cell_type": "code",
   "execution_count": 246,
   "metadata": {},
   "outputs": [
    {
     "name": "stdout",
     "output_type": "stream",
     "text": [
      "Index(['trip_duration', 'TMAX', 'TMIN', 'distance', 'rain', 'wind', 'speed',\n",
      "       'num_trips_day'],\n",
      "      dtype='object')\n"
     ]
    },
    {
     "data": {
      "image/png": "[encoded data removed]",
      "text/plain": [
       "<Figure size 432x288 with 9 Axes>"
      ]
     },
     "metadata": {
      "needs_background": "light"
     },
     "output_type": "display_data"
    }
   ],
   "source": [
    "# Create subset of only the numeric columns\n",
    "numeric_df = df.select_dtypes(include=['int64','int','float']).astype('float')\n",
    "\n",
    "# Print the column names contained in so_survey_df_num\n",
    "print(numeric_df.columns)\n",
    "\n",
    "\n",
    "numeric_df.hist()\n",
    "plt.show()"
   ]
  },
  {
   "cell_type": "code",
   "execution_count": 247,
   "metadata": {},
   "outputs": [
    {
     "data": {
      "text/plain": [
       "False"
      ]
     },
     "execution_count": 247,
     "metadata": {},
     "output_type": "execute_result"
    }
   ],
   "source": [
    "#check for missing values\n",
    "df.isnull().values.any()"
   ]
  },
  {
   "cell_type": "code",
   "execution_count": 248,
   "metadata": {},
   "outputs": [
    {
     "data": {
      "text/html": [
       "<div>\n",
       "<style scoped>\n",
       "    .dataframe tbody tr th:only-of-type {\n",
       "        vertical-align: middle;\n",
       "    }\n",
       "\n",
       "    .dataframe tbody tr th {\n",
       "        vertical-align: top;\n",
       "    }\n",
       "\n",
       "    .dataframe thead th {\n",
       "        text-align: right;\n",
       "    }\n",
       "</style>\n",
       "<table border=\"1\" class=\"dataframe\">\n",
       "  <thead>\n",
       "    <tr style=\"text-align: right;\">\n",
       "      <th></th>\n",
       "      <th>trip_duration</th>\n",
       "      <th>TMAX</th>\n",
       "      <th>TMIN</th>\n",
       "      <th>distance</th>\n",
       "      <th>rain</th>\n",
       "      <th>wind</th>\n",
       "      <th>speed</th>\n",
       "      <th>num_trips_day</th>\n",
       "    </tr>\n",
       "  </thead>\n",
       "  <tbody>\n",
       "    <tr>\n",
       "      <th>trip_duration</th>\n",
       "      <td>1.000000</td>\n",
       "      <td>0.150679</td>\n",
       "      <td>0.127695</td>\n",
       "      <td>0.438611</td>\n",
       "      <td>-0.003062</td>\n",
       "      <td>-0.043783</td>\n",
       "      <td>-0.522792</td>\n",
       "      <td>0.213995</td>\n",
       "    </tr>\n",
       "    <tr>\n",
       "      <th>TMAX</th>\n",
       "      <td>0.150679</td>\n",
       "      <td>1.000000</td>\n",
       "      <td>0.908575</td>\n",
       "      <td>0.069564</td>\n",
       "      <td>0.077021</td>\n",
       "      <td>-0.246413</td>\n",
       "      <td>-0.127201</td>\n",
       "      <td>0.624792</td>\n",
       "    </tr>\n",
       "    <tr>\n",
       "      <th>TMIN</th>\n",
       "      <td>0.127695</td>\n",
       "      <td>0.908575</td>\n",
       "      <td>1.000000</td>\n",
       "      <td>0.060535</td>\n",
       "      <td>0.153171</td>\n",
       "      <td>-0.230092</td>\n",
       "      <td>-0.114862</td>\n",
       "      <td>0.547975</td>\n",
       "    </tr>\n",
       "    <tr>\n",
       "      <th>distance</th>\n",
       "      <td>0.438611</td>\n",
       "      <td>0.069564</td>\n",
       "      <td>0.060535</td>\n",
       "      <td>1.000000</td>\n",
       "      <td>-0.003301</td>\n",
       "      <td>-0.024471</td>\n",
       "      <td>0.373379</td>\n",
       "      <td>0.095663</td>\n",
       "    </tr>\n",
       "    <tr>\n",
       "      <th>rain</th>\n",
       "      <td>-0.003062</td>\n",
       "      <td>0.077021</td>\n",
       "      <td>0.153171</td>\n",
       "      <td>-0.003301</td>\n",
       "      <td>1.000000</td>\n",
       "      <td>0.059088</td>\n",
       "      <td>-0.005244</td>\n",
       "      <td>-0.138257</td>\n",
       "    </tr>\n",
       "    <tr>\n",
       "      <th>wind</th>\n",
       "      <td>-0.043783</td>\n",
       "      <td>-0.246413</td>\n",
       "      <td>-0.230092</td>\n",
       "      <td>-0.024471</td>\n",
       "      <td>0.059088</td>\n",
       "      <td>1.000000</td>\n",
       "      <td>0.039784</td>\n",
       "      <td>-0.269188</td>\n",
       "    </tr>\n",
       "    <tr>\n",
       "      <th>speed</th>\n",
       "      <td>-0.522792</td>\n",
       "      <td>-0.127201</td>\n",
       "      <td>-0.114862</td>\n",
       "      <td>0.373379</td>\n",
       "      <td>-0.005244</td>\n",
       "      <td>0.039784</td>\n",
       "      <td>1.000000</td>\n",
       "      <td>-0.163411</td>\n",
       "    </tr>\n",
       "    <tr>\n",
       "      <th>num_trips_day</th>\n",
       "      <td>0.213995</td>\n",
       "      <td>0.624792</td>\n",
       "      <td>0.547975</td>\n",
       "      <td>0.095663</td>\n",
       "      <td>-0.138257</td>\n",
       "      <td>-0.269188</td>\n",
       "      <td>-0.163411</td>\n",
       "      <td>1.000000</td>\n",
       "    </tr>\n",
       "  </tbody>\n",
       "</table>\n",
       "</div>"
      ],
      "text/plain": [
       "               trip_duration      TMAX      TMIN  distance      rain  \\\n",
       "trip_duration       1.000000  0.150679  0.127695  0.438611 -0.003062   \n",
       "TMAX                0.150679  1.000000  0.908575  0.069564  0.077021   \n",
       "TMIN                0.127695  0.908575  1.000000  0.060535  0.153171   \n",
       "distance            0.438611  0.069564  0.060535  1.000000 -0.003301   \n",
       "rain               -0.003062  0.077021  0.153171 -0.003301  1.000000   \n",
       "wind               -0.043783 -0.246413 -0.230092 -0.024471  0.059088   \n",
       "speed              -0.522792 -0.127201 -0.114862  0.373379 -0.005244   \n",
       "num_trips_day       0.213995  0.624792  0.547975  0.095663 -0.138257   \n",
       "\n",
       "                   wind     speed  num_trips_day  \n",
       "trip_duration -0.043783 -0.522792       0.213995  \n",
       "TMAX          -0.246413 -0.127201       0.624792  \n",
       "TMIN          -0.230092 -0.114862       0.547975  \n",
       "distance      -0.024471  0.373379       0.095663  \n",
       "rain           0.059088 -0.005244      -0.138257  \n",
       "wind           1.000000  0.039784      -0.269188  \n",
       "speed          0.039784  1.000000      -0.163411  \n",
       "num_trips_day -0.269188 -0.163411       1.000000  "
      ]
     },
     "execution_count": 248,
     "metadata": {},
     "output_type": "execute_result"
    }
   ],
   "source": [
    "#Compute pairwise correlation of numeric columns, excluding NA/null values.\n",
    "df.corr()"
   ]
  },
  {
   "cell_type": "code",
   "execution_count": 249,
   "metadata": {},
   "outputs": [
    {
     "data": {
      "text/html": [
       "<div>\n",
       "<style scoped>\n",
       "    .dataframe tbody tr th:only-of-type {\n",
       "        vertical-align: middle;\n",
       "    }\n",
       "\n",
       "    .dataframe tbody tr th {\n",
       "        vertical-align: top;\n",
       "    }\n",
       "\n",
       "    .dataframe thead th {\n",
       "        text-align: right;\n",
       "    }\n",
       "</style>\n",
       "<table border=\"1\" class=\"dataframe\">\n",
       "  <thead>\n",
       "    <tr style=\"text-align: right;\">\n",
       "      <th></th>\n",
       "      <th>TMAX</th>\n",
       "      <th>TMIN</th>\n",
       "    </tr>\n",
       "  </thead>\n",
       "  <tbody>\n",
       "    <tr>\n",
       "      <th>TMAX</th>\n",
       "      <td>1.000000</td>\n",
       "      <td>0.908575</td>\n",
       "    </tr>\n",
       "    <tr>\n",
       "      <th>TMIN</th>\n",
       "      <td>0.908575</td>\n",
       "      <td>1.000000</td>\n",
       "    </tr>\n",
       "  </tbody>\n",
       "</table>\n",
       "</div>"
      ],
      "text/plain": [
       "          TMAX      TMIN\n",
       "TMAX  1.000000  0.908575\n",
       "TMIN  0.908575  1.000000"
      ]
     },
     "execution_count": 249,
     "metadata": {},
     "output_type": "execute_result"
    }
   ],
   "source": [
    "df[['TMAX','TMIN']].corr()"
   ]
  },
  {
   "cell_type": "markdown",
   "metadata": {},
   "source": [
    "As we can see, TMAX (maximum temperature) and TMIN (minimum temparature) columns are highly correlated (over 90%). I will take the mean of the two columns\n"
   ]
  },
  {
   "cell_type": "code",
   "execution_count": 250,
   "metadata": {},
   "outputs": [],
   "source": [
    "df['temp_mean'] = df[['TMAX','TMIN']].mean(axis = 1)\n",
    "\n",
    "df.drop([\"TMAX\",\"TMIN\"], axis = 1, inplace = True)\n"
   ]
  },
  {
   "cell_type": "markdown",
   "metadata": {},
   "source": [
    "__Standardization:__\n",
    "\n",
    "Let's perform a preprocessing task on numerical, continuous data."
   ]
  },
  {
   "cell_type": "code",
   "execution_count": 251,
   "metadata": {},
   "outputs": [
    {
     "data": {
      "text/plain": [
       "trip_duration    501787.679219\n",
       "distance              0.521531\n",
       "rain                  0.093168\n",
       "wind                  7.445875\n",
       "speed                 4.864706\n",
       "num_trips_day      7454.895808\n",
       "temp_mean           168.705238\n",
       "dtype: float64"
      ]
     },
     "execution_count": 251,
     "metadata": {},
     "output_type": "execute_result"
    }
   ],
   "source": [
    "#Log normalization for columns with high variance\n",
    "df.var()"
   ]
  },
  {
   "cell_type": "code",
   "execution_count": 252,
   "metadata": {},
   "outputs": [],
   "source": [
    "df['num_trips_day'] = np.log1p(df['num_trips_day'])\n",
    "df['trip_duration'] = np.log(df['trip_duration'])\n",
    "df['temp_mean'] = np.log(df['temp_mean'])"
   ]
  },
  {
   "cell_type": "code",
   "execution_count": 253,
   "metadata": {},
   "outputs": [
    {
     "data": {
      "text/plain": [
       "trip_duration    0.481045\n",
       "distance         0.521531\n",
       "rain             0.093168\n",
       "wind             7.445875\n",
       "speed            4.864706\n",
       "num_trips_day    0.312101\n",
       "temp_mean        0.064716\n",
       "dtype: float64"
      ]
     },
     "execution_count": 253,
     "metadata": {},
     "output_type": "execute_result"
    }
   ],
   "source": [
    "df.var()"
   ]
  },
  {
   "cell_type": "code",
   "execution_count": 254,
   "metadata": {},
   "outputs": [
    {
     "data": {
      "text/plain": [
       "N                    162403\n",
       "Thunderstorm Wind       390\n",
       "Flash Flood             305\n",
       "Hail                     78\n",
       "Flood                    71\n",
       "Heavy Rain               49\n",
       "Winter Weather           13\n",
       "Winter Storm              3\n",
       "Lightning                 2\n",
       "Debris Flow               1\n",
       "Heavy Snow                1\n",
       "Ice Storm                 1\n",
       "Name: event_type, dtype: int64"
      ]
     },
     "execution_count": 254,
     "metadata": {},
     "output_type": "execute_result"
    }
   ],
   "source": [
    "#check the number of values\n",
    "df['event_type'].value_counts()"
   ]
  },
  {
   "cell_type": "markdown",
   "metadata": {},
   "source": [
    "__Binarizing columns:__\n",
    "\n",
    "On some occasions, you might only care about if a value exists at all. In these situations, you will want to binarize a column. In the feature event_type, we have a number of events that are rare and have occurred such as tornadoes, flood, heavy snow. we will create a new column titled event_types indicating whether an event has occurred(1) or not(0)\n",
    "\n"
   ]
  },
  {
   "cell_type": "code",
   "execution_count": 255,
   "metadata": {},
   "outputs": [
    {
     "data": {
      "text/plain": [
       "0    162403\n",
       "1       914\n",
       "Name: event_types, dtype: int64"
      ]
     },
     "execution_count": 255,
     "metadata": {},
     "output_type": "execute_result"
    }
   ],
   "source": [
    "# Create the event_types column filled with zeros\n",
    "df['event_types'] = 0\n",
    "\n",
    "# Replace all the event_types values \n",
    "df.loc[df['event_type'] != 'N', 'event_types'] = 1\n",
    "#Drop event_type column\n",
    "df.drop(\"event_type\", axis = 1, inplace = True)\n",
    "df['event_types'] =df['event_types'].astype('category')\n",
    "\n",
    "df.event_types.value_counts()"
   ]
  },
  {
   "cell_type": "code",
   "execution_count": 256,
   "metadata": {},
   "outputs": [
    {
     "name": "stdout",
     "output_type": "stream",
     "text": [
      "Index(['from_station_id', 'to_station_id', 'user_type', 'season', 'holiday',\n",
      "       'walk_score', 'transit_score', 'bike_score', 'weather', 'year',\n",
      "       'tripdate', 'weekend', 'weekday', 'hour', 'month', 'event_types'],\n",
      "      dtype='object')\n"
     ]
    }
   ],
   "source": [
    "# Create subset of only the categorical_df columns\n",
    "categorical_df = df.select_dtypes(include=['object','category'])\n",
    "\n",
    "# Print the column names contained in so_survey_df_num\n",
    "print(categorical_df.columns)"
   ]
  },
  {
   "cell_type": "code",
   "execution_count": 260,
   "metadata": {},
   "outputs": [
    {
     "data": {
      "text/plain": [
       "start_time         datetime64[ns]\n",
       "stop_time          datetime64[ns]\n",
       "trip_duration             float64\n",
       "from_station_id          category\n",
       "to_station_id            category\n",
       "user_type                  object\n",
       "season                     object\n",
       "holiday                  category\n",
       "walk_score                 object\n",
       "transit_score              object\n",
       "bike_score                 object\n",
       "distance                  float64\n",
       "rain                      float64\n",
       "wind                      float64\n",
       "weather                    object\n",
       "year                     category\n",
       "tripdate                   object\n",
       "weekend                  category\n",
       "speed                     float64\n",
       "weekday                  category\n",
       "num_trips_day             float64\n",
       "hour                     category\n",
       "month                    category\n",
       "temp_mean                 float64\n",
       "event_types              category\n",
       "dtype: object"
      ]
     },
     "execution_count": 260,
     "metadata": {},
     "output_type": "execute_result"
    }
   ],
   "source": [
    "df.dtypes"
   ]
  },
  {
   "cell_type": "code",
   "execution_count": 257,
   "metadata": {},
   "outputs": [],
   "source": [
    "#df.to_csv(\"file1.csv\", index = False)"
   ]
  },
  {
   "cell_type": "code",
   "execution_count": null,
   "metadata": {},
   "outputs": [],
   "source": []
  }
 ],
 "metadata": {
  "kernelspec": {
   "display_name": "Python 3",
   "language": "python",
   "name": "python3"
  },
  "language_info": {
   "codemirror_mode": {
    "name": "ipython",
    "version": 3
   },
   "file_extension": ".py",
   "mimetype": "text/x-python",
   "name": "python",
   "nbconvert_exporter": "python",
   "pygments_lexer": "ipython3",
   "version": "3.7.3"
  }
 },
 "nbformat": 4,
 "nbformat_minor": 2
}

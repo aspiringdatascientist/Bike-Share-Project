{
 "cells": [
  {
   "cell_type": "code",
   "execution_count": 32,
   "metadata": {},
   "outputs": [],
   "source": [
    "# import necessary packages\n",
    "import pandas as pd\n",
    "import re"
   ]
  },
  {
   "cell_type": "code",
   "execution_count": 33,
   "metadata": {},
   "outputs": [],
   "source": [
    "# Read in the \"transit_score_Pittsburgh.csv\"  file\n",
    "a = pd.read_csv(\"transit_score_Pittsburgh.csv\",header=1, index_col =None, names = [\"status\",\"walk_score\",\"description\",\"updated\",\"snapped_lat\",\"transit_score\",\"snapped_lon\",\"bike_score\"])"
   ]
  },
  {
   "cell_type": "code",
   "execution_count": 34,
   "metadata": {},
   "outputs": [
    {
     "data": {
      "text/html": [
       "<div>\n",
       "<style scoped>\n",
       "    .dataframe tbody tr th:only-of-type {\n",
       "        vertical-align: middle;\n",
       "    }\n",
       "\n",
       "    .dataframe tbody tr th {\n",
       "        vertical-align: top;\n",
       "    }\n",
       "\n",
       "    .dataframe thead th {\n",
       "        text-align: right;\n",
       "    }\n",
       "</style>\n",
       "<table border=\"1\" class=\"dataframe\">\n",
       "  <thead>\n",
       "    <tr style=\"text-align: right;\">\n",
       "      <th></th>\n",
       "      <th>status</th>\n",
       "      <th>walk_score</th>\n",
       "      <th>description</th>\n",
       "      <th>updated</th>\n",
       "      <th>snapped_lat</th>\n",
       "      <th>transit_score</th>\n",
       "      <th>snapped_lon</th>\n",
       "      <th>bike_score</th>\n",
       "    </tr>\n",
       "  </thead>\n",
       "  <tbody>\n",
       "    <tr>\n",
       "      <th>0</th>\n",
       "      <td>1</td>\n",
       "      <td>99</td>\n",
       "      <td>Walker's Paradise</td>\n",
       "      <td>2018-11-28 08:47:00.264892</td>\n",
       "      <td>40.4415</td>\n",
       "      <td>{'score': 100, 'description': \"Rider's Paradis...</td>\n",
       "      <td>-80.0025</td>\n",
       "      <td>{'score': 87, 'description': 'Very Bikeable'}</td>\n",
       "    </tr>\n",
       "  </tbody>\n",
       "</table>\n",
       "</div>"
      ],
      "text/plain": [
       "   status  walk_score        description                     updated  \\\n",
       "0       1          99  Walker's Paradise  2018-11-28 08:47:00.264892   \n",
       "\n",
       "   snapped_lat                                      transit_score  \\\n",
       "0      40.4415  {'score': 100, 'description': \"Rider's Paradis...   \n",
       "\n",
       "   snapped_lon                                     bike_score  \n",
       "0     -80.0025  {'score': 87, 'description': 'Very Bikeable'}  "
      ]
     },
     "execution_count": 34,
     "metadata": {},
     "output_type": "execute_result"
    }
   ],
   "source": [
    "# Analyzing the first  row\n",
    "a.head(1)"
   ]
  },
  {
   "cell_type": "code",
   "execution_count": 35,
   "metadata": {},
   "outputs": [],
   "source": [
    "# Create a new dataframe by dropping the column_name \"status\"\n",
    "df = a.drop([\"status\",\"updated\"],axis = 1)"
   ]
  },
  {
   "cell_type": "code",
   "execution_count": 36,
   "metadata": {},
   "outputs": [
    {
     "data": {
      "text/html": [
       "<div>\n",
       "<style scoped>\n",
       "    .dataframe tbody tr th:only-of-type {\n",
       "        vertical-align: middle;\n",
       "    }\n",
       "\n",
       "    .dataframe tbody tr th {\n",
       "        vertical-align: top;\n",
       "    }\n",
       "\n",
       "    .dataframe thead th {\n",
       "        text-align: right;\n",
       "    }\n",
       "</style>\n",
       "<table border=\"1\" class=\"dataframe\">\n",
       "  <thead>\n",
       "    <tr style=\"text-align: right;\">\n",
       "      <th></th>\n",
       "      <th>walk_score</th>\n",
       "      <th>description</th>\n",
       "      <th>snapped_lat</th>\n",
       "      <th>transit_score</th>\n",
       "      <th>snapped_lon</th>\n",
       "      <th>bike_score</th>\n",
       "    </tr>\n",
       "  </thead>\n",
       "  <tbody>\n",
       "    <tr>\n",
       "      <th>0</th>\n",
       "      <td>99</td>\n",
       "      <td>Walker's Paradise</td>\n",
       "      <td>40.4415</td>\n",
       "      <td>{'score': 100, 'description': \"Rider's Paradis...</td>\n",
       "      <td>-80.0025</td>\n",
       "      <td>{'score': 87, 'description': 'Very Bikeable'}</td>\n",
       "    </tr>\n",
       "    <tr>\n",
       "      <th>1</th>\n",
       "      <td>98</td>\n",
       "      <td>Walker's Paradise</td>\n",
       "      <td>40.4385</td>\n",
       "      <td>{'score': 100, 'description': \"Rider's Paradis...</td>\n",
       "      <td>-80.0025</td>\n",
       "      <td>{'score': 86, 'description': 'Very Bikeable'}</td>\n",
       "    </tr>\n",
       "  </tbody>\n",
       "</table>\n",
       "</div>"
      ],
      "text/plain": [
       "   walk_score        description  snapped_lat  \\\n",
       "0          99  Walker's Paradise      40.4415   \n",
       "1          98  Walker's Paradise      40.4385   \n",
       "\n",
       "                                       transit_score  snapped_lon  \\\n",
       "0  {'score': 100, 'description': \"Rider's Paradis...     -80.0025   \n",
       "1  {'score': 100, 'description': \"Rider's Paradis...     -80.0025   \n",
       "\n",
       "                                      bike_score  \n",
       "0  {'score': 87, 'description': 'Very Bikeable'}  \n",
       "1  {'score': 86, 'description': 'Very Bikeable'}  "
      ]
     },
     "execution_count": 36,
     "metadata": {},
     "output_type": "execute_result"
    }
   ],
   "source": [
    "# Analyzing the first two rows after dropping the unwanted columns\n",
    "df.head(2)"
   ]
  },
  {
   "cell_type": "code",
   "execution_count": 37,
   "metadata": {},
   "outputs": [],
   "source": [
    "#Copying the dataframe\n",
    "df1= df.copy()"
   ]
  },
  {
   "cell_type": "code",
   "execution_count": 39,
   "metadata": {},
   "outputs": [],
   "source": [
    "#Cleaning the data to retain only the numeric score\n",
    "df1.transit.to_list()\n"
    "transit_scores = [row["score"] for row in df1.bike.to_list()]\n"
    "df1["transit"] = transit_scores\n"

    "# \n"
   ]
  },
  {
   "cell_type": "code",
   "execution_count": 40,
   "metadata": {},
   "outputs": [
    {
     "data": {
      "text/html": [
       "<div>\n",
       "<style scoped>\n",
       "    .dataframe tbody tr th:only-of-type {\n",
       "        vertical-align: middle;\n",
       "    }\n",
       "\n",
       "    .dataframe tbody tr th {\n",
       "        vertical-align: top;\n",
       "    }\n",
       "\n",
       "    .dataframe thead th {\n",
       "        text-align: right;\n",
       "    }\n",
       "</style>\n",
       "<table border=\"1\" class=\"dataframe\">\n",
       "  <thead>\n",
       "    <tr style=\"text-align: right;\">\n",
       "      <th></th>\n",
       "      <th>walk_score</th>\n",
       "      <th>description</th>\n",
       "      <th>snapped_lat</th>\n",
       "      <th>transit_score</th>\n",
       "      <th>snapped_lon</th>\n",
       "      <th>bike_score</th>\n",
       "    </tr>\n",
       "  </thead>\n",
       "  <tbody>\n",
       "    <tr>\n",
       "      <th>0</th>\n",
       "      <td>99</td>\n",
       "      <td>Walker's Paradise</td>\n",
       "      <td>40.4415</td>\n",
       "      <td>100</td>\n",
       "      <td>-80.0025</td>\n",
       "      <td>{'score': 87, 'description': 'Very Bikeable'}</td>\n",
       "    </tr>\n",
       "    <tr>\n",
       "      <th>1</th>\n",
       "      <td>98</td>\n",
       "      <td>Walker's Paradise</td>\n",
       "      <td>40.4385</td>\n",
       "      <td>100</td>\n",
       "      <td>-80.0025</td>\n",
       "      <td>{'score': 86, 'description': 'Very Bikeable'}</td>\n",
       "    </tr>\n",
       "  </tbody>\n",
       "</table>\n",
       "</div>"
      ],
      "text/plain": [
       "   walk_score        description  snapped_lat transit_score  snapped_lon  \\\n",
       "0          99  Walker's Paradise      40.4415           100     -80.0025   \n",
       "1          98  Walker's Paradise      40.4385           100     -80.0025   \n",
       "\n",
       "                                      bike_score  \n",
       "0  {'score': 87, 'description': 'Very Bikeable'}  \n",
       "1  {'score': 86, 'description': 'Very Bikeable'}  "
      ]
     },
     "execution_count": 40,
     "metadata": {},
     "output_type": "execute_result"
    }
   ],
   "source": [
    "df1.head(2)"
   ]
  },
  {
   "cell_type": "code",
   "execution_count": 41,
   "metadata": {},
   "outputs": [],
   "source": [
    "#Cleaning the data\n",
    "# Removing the part after comma by splitting to grab only the bike score from \"bike\" column\n",
    "df1.bike_score = df1.bike_score.apply(lambda x: x.split(',')[0])\n",
    "#To extract only numeric score by removing anything other than digits by using regular expressions\n",
    "df1.bike_score = df1.bike_score.str.replace(r'\\D+', \"\",regex = True)\n",
    "\n"
   ]
  },
  {
   "cell_type": "code",
   "execution_count": 42,
   "metadata": {},
   "outputs": [
    {
     "data": {
      "text/html": [
       "<div>\n",
       "<style scoped>\n",
       "    .dataframe tbody tr th:only-of-type {\n",
       "        vertical-align: middle;\n",
       "    }\n",
       "\n",
       "    .dataframe tbody tr th {\n",
       "        vertical-align: top;\n",
       "    }\n",
       "\n",
       "    .dataframe thead th {\n",
       "        text-align: right;\n",
       "    }\n",
       "</style>\n",
       "<table border=\"1\" class=\"dataframe\">\n",
       "  <thead>\n",
       "    <tr style=\"text-align: right;\">\n",
       "      <th></th>\n",
       "      <th>walk_score</th>\n",
       "      <th>description</th>\n",
       "      <th>snapped_lat</th>\n",
       "      <th>transit_score</th>\n",
       "      <th>snapped_lon</th>\n",
       "      <th>bike_score</th>\n",
       "    </tr>\n",
       "  </thead>\n",
       "  <tbody>\n",
       "    <tr>\n",
       "      <th>0</th>\n",
       "      <td>99</td>\n",
       "      <td>Walker's Paradise</td>\n",
       "      <td>40.4415</td>\n",
       "      <td>100</td>\n",
       "      <td>-80.0025</td>\n",
       "      <td>87</td>\n",
       "    </tr>\n",
       "    <tr>\n",
       "      <th>1</th>\n",
       "      <td>98</td>\n",
       "      <td>Walker's Paradise</td>\n",
       "      <td>40.4385</td>\n",
       "      <td>100</td>\n",
       "      <td>-80.0025</td>\n",
       "      <td>86</td>\n",
       "    </tr>\n",
       "    <tr>\n",
       "      <th>2</th>\n",
       "      <td>96</td>\n",
       "      <td>Walker's Paradise</td>\n",
       "      <td>40.4370</td>\n",
       "      <td>100</td>\n",
       "      <td>-80.0010</td>\n",
       "      <td>82</td>\n",
       "    </tr>\n",
       "    <tr>\n",
       "      <th>3</th>\n",
       "      <td>93</td>\n",
       "      <td>Walker's Paradise</td>\n",
       "      <td>40.4355</td>\n",
       "      <td>97</td>\n",
       "      <td>-79.9965</td>\n",
       "      <td>60</td>\n",
       "    </tr>\n",
       "    <tr>\n",
       "      <th>4</th>\n",
       "      <td>93</td>\n",
       "      <td>Walker's Paradise</td>\n",
       "      <td>40.4355</td>\n",
       "      <td>97</td>\n",
       "      <td>-79.9965</td>\n",
       "      <td>60</td>\n",
       "    </tr>\n",
       "  </tbody>\n",
       "</table>\n",
       "</div>"
      ],
      "text/plain": [
       "   walk_score        description  snapped_lat transit_score  snapped_lon  \\\n",
       "0          99  Walker's Paradise      40.4415           100     -80.0025   \n",
       "1          98  Walker's Paradise      40.4385           100     -80.0025   \n",
       "2          96  Walker's Paradise      40.4370           100     -80.0010   \n",
       "3          93  Walker's Paradise      40.4355            97     -79.9965   \n",
       "4          93  Walker's Paradise      40.4355            97     -79.9965   \n",
       "\n",
       "  bike_score  \n",
       "0         87  \n",
       "1         86  \n",
       "2         82  \n",
       "3         60  \n",
       "4         60  "
      ]
     },
     "execution_count": 42,
     "metadata": {},
     "output_type": "execute_result"
    }
   ],
   "source": [
    "#to analyze the dataframe\n",
    "df1.head()"
   ]
  },
  {
   "cell_type": "code",
   "execution_count": 43,
   "metadata": {},
   "outputs": [],
   "source": [
    "# exporting as CSV file \n",
    "df1.to_csv('Pitt_transit_bike_walk_scores', index=False)"
   ]
  },
  {
   "cell_type": "code",
   "execution_count": null,
   "metadata": {},
   "outputs": [],
   "source": []
  }
 ],
 "metadata": {
  "kernelspec": {
   "display_name": "Python 3",
   "language": "python",
   "name": "python3"
  },
  "language_info": {
   "codemirror_mode": {
    "name": "ipython",
    "version": 3
   },
   "file_extension": ".py",
   "mimetype": "text/x-python",
   "name": "python",
   "nbconvert_exporter": "python",
   "pygments_lexer": "ipython3",
   "version": "3.7.1"
  }
 },
 "nbformat": 4,
 "nbformat_minor": 2
}

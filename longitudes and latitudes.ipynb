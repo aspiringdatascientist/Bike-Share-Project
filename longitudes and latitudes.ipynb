{
 "cells": [
  {
   "cell_type": "code",
   "execution_count": 1,
   "metadata": {},
   "outputs": [],
   "source": [
    "\n",
    "#import packages and load CSV file\n",
    "import pandas as pd\n",
    "x =pd.read_csv('C:/Users/srao/PBSDP/pbs.csv')"
   ]
  },
  {
   "cell_type": "code",
   "execution_count": 2,
   "metadata": {},
   "outputs": [
    {
     "data": {
      "text/html": [
       "<div>\n",
       "<style scoped>\n",
       "    .dataframe tbody tr th:only-of-type {\n",
       "        vertical-align: middle;\n",
       "    }\n",
       "\n",
       "    .dataframe tbody tr th {\n",
       "        vertical-align: top;\n",
       "    }\n",
       "\n",
       "    .dataframe thead th {\n",
       "        text-align: right;\n",
       "    }\n",
       "</style>\n",
       "<table border=\"1\" class=\"dataframe\">\n",
       "  <thead>\n",
       "    <tr style=\"text-align: right;\">\n",
       "      <th></th>\n",
       "      <th>StationNum</th>\n",
       "      <th>StationName</th>\n",
       "      <th>RackQnty</th>\n",
       "      <th>Latitude</th>\n",
       "      <th>Longitude</th>\n",
       "    </tr>\n",
       "  </thead>\n",
       "  <tbody>\n",
       "    <tr>\n",
       "      <th>0</th>\n",
       "      <td>1000</td>\n",
       "      <td>Liberty &amp; Stanwix</td>\n",
       "      <td>16.0</td>\n",
       "      <td>40.441326</td>\n",
       "      <td>-80.004679</td>\n",
       "    </tr>\n",
       "    <tr>\n",
       "      <th>1</th>\n",
       "      <td>1001</td>\n",
       "      <td>Forbes Ave &amp; Market Sq</td>\n",
       "      <td>19.0</td>\n",
       "      <td>40.440877</td>\n",
       "      <td>-80.003080</td>\n",
       "    </tr>\n",
       "    <tr>\n",
       "      <th>2</th>\n",
       "      <td>1002</td>\n",
       "      <td>Third &amp; Wood</td>\n",
       "      <td>15.0</td>\n",
       "      <td>40.439030</td>\n",
       "      <td>-80.001860</td>\n",
       "    </tr>\n",
       "    <tr>\n",
       "      <th>3</th>\n",
       "      <td>1003</td>\n",
       "      <td>First Ave &amp; Smithfield St</td>\n",
       "      <td>15.0</td>\n",
       "      <td>40.437200</td>\n",
       "      <td>-80.000375</td>\n",
       "    </tr>\n",
       "    <tr>\n",
       "      <th>4</th>\n",
       "      <td>1004</td>\n",
       "      <td>First Ave &amp; B St</td>\n",
       "      <td>15.0</td>\n",
       "      <td>40.435800</td>\n",
       "      <td>-79.996877</td>\n",
       "    </tr>\n",
       "  </tbody>\n",
       "</table>\n",
       "</div>"
      ],
      "text/plain": [
       "  StationNum                StationName  RackQnty   Latitude  Longitude\n",
       "0       1000          Liberty & Stanwix      16.0  40.441326 -80.004679\n",
       "1       1001     Forbes Ave & Market Sq      19.0  40.440877 -80.003080\n",
       "2       1002               Third & Wood      15.0  40.439030 -80.001860\n",
       "3       1003  First Ave & Smithfield St      15.0  40.437200 -80.000375\n",
       "4       1004           First Ave & B St      15.0  40.435800 -79.996877"
      ]
     },
     "execution_count": 2,
     "metadata": {},
     "output_type": "execute_result"
    }
   ],
   "source": [
    "#  returns the first 5 rows .\n",
    "x.head()"
   ]
  },
  {
   "cell_type": "code",
   "execution_count": 3,
   "metadata": {},
   "outputs": [
    {
     "name": "stdout",
     "output_type": "stream",
     "text": [
      "<class 'pandas.core.frame.DataFrame'>\n",
      "RangeIndex: 611 entries, 0 to 610\n",
      "Data columns (total 5 columns):\n",
      "StationNum     611 non-null object\n",
      "StationName    610 non-null object\n",
      "RackQnty       610 non-null float64\n",
      "Latitude       610 non-null float64\n",
      "Longitude      610 non-null float64\n",
      "dtypes: float64(3), object(2)\n",
      "memory usage: 23.9+ KB\n"
     ]
    }
   ],
   "source": [
    "#for quickly testing if dataframe has the right type of data in it\n",
    "x.info()"
   ]
  },
  {
   "cell_type": "code",
   "execution_count": 4,
   "metadata": {},
   "outputs": [
    {
     "data": {
      "text/html": [
       "<div>\n",
       "<style scoped>\n",
       "    .dataframe tbody tr th:only-of-type {\n",
       "        vertical-align: middle;\n",
       "    }\n",
       "\n",
       "    .dataframe tbody tr th {\n",
       "        vertical-align: top;\n",
       "    }\n",
       "\n",
       "    .dataframe thead th {\n",
       "        text-align: right;\n",
       "    }\n",
       "</style>\n",
       "<table border=\"1\" class=\"dataframe\">\n",
       "  <thead>\n",
       "    <tr style=\"text-align: right;\">\n",
       "      <th></th>\n",
       "      <th>RackQnty</th>\n",
       "      <th>Latitude</th>\n",
       "      <th>Longitude</th>\n",
       "    </tr>\n",
       "  </thead>\n",
       "  <tbody>\n",
       "    <tr>\n",
       "      <th>count</th>\n",
       "      <td>610.000000</td>\n",
       "      <td>610.000000</td>\n",
       "      <td>610.000000</td>\n",
       "    </tr>\n",
       "    <tr>\n",
       "      <th>mean</th>\n",
       "      <td>17.809836</td>\n",
       "      <td>40.447163</td>\n",
       "      <td>-79.966896</td>\n",
       "    </tr>\n",
       "    <tr>\n",
       "      <th>std</th>\n",
       "      <td>4.662315</td>\n",
       "      <td>0.011013</td>\n",
       "      <td>0.027681</td>\n",
       "    </tr>\n",
       "    <tr>\n",
       "      <th>min</th>\n",
       "      <td>2.000000</td>\n",
       "      <td>40.427899</td>\n",
       "      <td>-80.013204</td>\n",
       "    </tr>\n",
       "    <tr>\n",
       "      <th>25%</th>\n",
       "      <td>15.000000</td>\n",
       "      <td>40.438882</td>\n",
       "      <td>-79.995084</td>\n",
       "    </tr>\n",
       "    <tr>\n",
       "      <th>50%</th>\n",
       "      <td>19.000000</td>\n",
       "      <td>40.445834</td>\n",
       "      <td>-79.964628</td>\n",
       "    </tr>\n",
       "    <tr>\n",
       "      <th>75%</th>\n",
       "      <td>19.000000</td>\n",
       "      <td>40.456505</td>\n",
       "      <td>-79.947401</td>\n",
       "    </tr>\n",
       "    <tr>\n",
       "      <th>max</th>\n",
       "      <td>35.000000</td>\n",
       "      <td>40.470212</td>\n",
       "      <td>-79.915248</td>\n",
       "    </tr>\n",
       "  </tbody>\n",
       "</table>\n",
       "</div>"
      ],
      "text/plain": [
       "         RackQnty    Latitude   Longitude\n",
       "count  610.000000  610.000000  610.000000\n",
       "mean    17.809836   40.447163  -79.966896\n",
       "std      4.662315    0.011013    0.027681\n",
       "min      2.000000   40.427899  -80.013204\n",
       "25%     15.000000   40.438882  -79.995084\n",
       "50%     19.000000   40.445834  -79.964628\n",
       "75%     19.000000   40.456505  -79.947401\n",
       "max     35.000000   40.470212  -79.915248"
      ]
     },
     "execution_count": 4,
     "metadata": {},
     "output_type": "execute_result"
    }
   ],
   "source": [
    "# to view some basic statistical details\n",
    "x.describe()"
   ]
  },
  {
   "cell_type": "code",
   "execution_count": null,
   "metadata": {},
   "outputs": [],
   "source": []
  },
  {
   "cell_type": "code",
   "execution_count": 5,
   "metadata": {},
   "outputs": [
    {
     "data": {
      "text/plain": [
       "1002    12\n",
       "1045    12\n",
       "1030    12\n",
       "1041    12\n",
       "1023    12\n",
       "1028    12\n",
       "1046    12\n",
       "1022    12\n",
       "1020    12\n",
       "1005    12\n",
       "1038    12\n",
       "1019    12\n",
       "1039    12\n",
       "1024    12\n",
       "1040    12\n",
       "1035    12\n",
       "1049    12\n",
       "1044    12\n",
       "1021    12\n",
       "1004    12\n",
       "1042    12\n",
       "1034    12\n",
       "1013    12\n",
       "1015    12\n",
       "1033    12\n",
       "1000    12\n",
       "1009    12\n",
       "1017    12\n",
       "1016    12\n",
       "1003    12\n",
       "1027    12\n",
       "1007    12\n",
       "1037    12\n",
       "1043    12\n",
       "1036    12\n",
       "1025    12\n",
       "1001    12\n",
       "1032    12\n",
       "1047    12\n",
       "1008    12\n",
       "1011    12\n",
       "1014    12\n",
       "1006    12\n",
       "1010    12\n",
       "1029    12\n",
       "1031    12\n",
       "1018    12\n",
       "1026    12\n",
       "1012    12\n",
       "1048    12\n",
       "1061     5\n",
       "1050     5\n",
       "\u001a        1\n",
       "Name: StationNum, dtype: int64"
      ]
     },
     "execution_count": 5,
     "metadata": {},
     "output_type": "execute_result"
    }
   ],
   "source": [
    "# for determining how many values are there in Station Number column\n",
    "x['StationNum'].value_counts()"
   ]
  },
  {
   "cell_type": "code",
   "execution_count": 6,
   "metadata": {},
   "outputs": [],
   "source": [
    "# assigning to a new DataFrame\n",
    "ax =x['StationName'].value_counts()"
   ]
  },
  {
   "cell_type": "code",
   "execution_count": 7,
   "metadata": {},
   "outputs": [
    {
     "data": {
      "text/plain": [
       "StationNum      object\n",
       "StationName     object\n",
       "RackQnty       float64\n",
       "Latitude       float64\n",
       "Longitude      float64\n",
       "dtype: object"
      ]
     },
     "execution_count": 7,
     "metadata": {},
     "output_type": "execute_result"
    }
   ],
   "source": [
    "x.dtypes"
   ]
  },
  {
   "cell_type": "code",
   "execution_count": 8,
   "metadata": {},
   "outputs": [
    {
     "data": {
      "text/plain": [
       "0      False\n",
       "1      False\n",
       "2      False\n",
       "3      False\n",
       "4      False\n",
       "5      False\n",
       "6      False\n",
       "7      False\n",
       "8      False\n",
       "9      False\n",
       "10     False\n",
       "11     False\n",
       "12     False\n",
       "13     False\n",
       "14     False\n",
       "15     False\n",
       "16     False\n",
       "17     False\n",
       "18     False\n",
       "19     False\n",
       "20     False\n",
       "21     False\n",
       "22     False\n",
       "23     False\n",
       "24     False\n",
       "25     False\n",
       "26     False\n",
       "27     False\n",
       "28     False\n",
       "29     False\n",
       "       ...  \n",
       "581     True\n",
       "582     True\n",
       "583     True\n",
       "584     True\n",
       "585     True\n",
       "586     True\n",
       "587     True\n",
       "588     True\n",
       "589     True\n",
       "590     True\n",
       "591     True\n",
       "592     True\n",
       "593     True\n",
       "594     True\n",
       "595     True\n",
       "596     True\n",
       "597     True\n",
       "598     True\n",
       "599     True\n",
       "600     True\n",
       "601     True\n",
       "602     True\n",
       "603     True\n",
       "604     True\n",
       "605     True\n",
       "606     True\n",
       "607     True\n",
       "608     True\n",
       "609     True\n",
       "610    False\n",
       "Length: 611, dtype: bool"
      ]
     },
     "execution_count": 8,
     "metadata": {},
     "output_type": "execute_result"
    }
   ],
   "source": [
    "#duplicated() method helps in analyzing duplicate values only. It returns a boolean series\n",
    "x.duplicated()"
   ]
  },
  {
   "cell_type": "code",
   "execution_count": null,
   "metadata": {},
   "outputs": [],
   "source": []
  },
  {
   "cell_type": "code",
   "execution_count": 9,
   "metadata": {},
   "outputs": [
    {
     "name": "stdout",
     "output_type": "stream",
     "text": [
      "<class 'pandas.core.frame.DataFrame'>\n",
      "RangeIndex: 611 entries, 0 to 610\n",
      "Data columns (total 5 columns):\n",
      "StationNum     611 non-null object\n",
      "StationName    610 non-null object\n",
      "RackQnty       610 non-null float64\n",
      "Latitude       610 non-null float64\n",
      "Longitude      610 non-null float64\n",
      "dtypes: float64(3), object(2)\n",
      "memory usage: 23.9+ KB\n"
     ]
    }
   ],
   "source": [
    "# I noticed that there are many duplicate values and the station count is definitely not 610\n",
    "x.info()"
   ]
  },
  {
   "cell_type": "code",
   "execution_count": null,
   "metadata": {},
   "outputs": [],
   "source": []
  },
  {
   "cell_type": "code",
   "execution_count": 10,
   "metadata": {},
   "outputs": [],
   "source": [
    "#Since the drop_duplicates() drop the row by position, I first sorted the DataFrame\n",
    "x.sort_values(by=['Latitude','Longitude'], ascending = True, inplace = True)"
   ]
  },
  {
   "cell_type": "code",
   "execution_count": 11,
   "metadata": {},
   "outputs": [
    {
     "data": {
      "text/plain": [
       "295    False\n",
       "345     True\n",
       "395     True\n",
       "447     True\n",
       "499     True\n",
       "551     True\n",
       "603     True\n",
       "46     False\n",
       "96      True\n",
       "146     True\n",
       "196     True\n",
       "246     True\n",
       "296    False\n",
       "346     True\n",
       "396     True\n",
       "448     True\n",
       "500     True\n",
       "552     True\n",
       "604     True\n",
       "49     False\n",
       "99      True\n",
       "149     True\n",
       "199     True\n",
       "249     True\n",
       "47     False\n",
       "97      True\n",
       "147     True\n",
       "197     True\n",
       "247     True\n",
       "297    False\n",
       "       ...  \n",
       "370     True\n",
       "422     True\n",
       "474     True\n",
       "526     True\n",
       "578     True\n",
       "18     False\n",
       "68      True\n",
       "118     True\n",
       "168     True\n",
       "218     True\n",
       "268     True\n",
       "318     True\n",
       "368     True\n",
       "420     True\n",
       "472     True\n",
       "524     True\n",
       "576     True\n",
       "19     False\n",
       "69      True\n",
       "119     True\n",
       "169     True\n",
       "219     True\n",
       "269    False\n",
       "319     True\n",
       "369     True\n",
       "421     True\n",
       "473     True\n",
       "525     True\n",
       "577     True\n",
       "610    False\n",
       "Length: 611, dtype: bool"
      ]
     },
     "execution_count": 11,
     "metadata": {},
     "output_type": "execute_result"
    }
   ],
   "source": [
    "# check for sorted boolean values\n",
    "x.duplicated()"
   ]
  },
  {
   "cell_type": "code",
   "execution_count": 12,
   "metadata": {},
   "outputs": [],
   "source": [
    "#copying to a new df\n",
    "y = x.copy()"
   ]
  },
  {
   "cell_type": "code",
   "execution_count": null,
   "metadata": {},
   "outputs": [],
   "source": []
  },
  {
   "cell_type": "code",
   "execution_count": 13,
   "metadata": {},
   "outputs": [],
   "source": [
    "#dropping the unwanted columns\n",
    "y.drop(['StationName','RackQnty'],inplace = True,axis = 1)"
   ]
  },
  {
   "cell_type": "code",
   "execution_count": 14,
   "metadata": {},
   "outputs": [],
   "source": [
    "y.sort_values(['StationNum'], inplace = True)"
   ]
  },
  {
   "cell_type": "code",
   "execution_count": 15,
   "metadata": {},
   "outputs": [],
   "source": [
    "y.drop(index = 610, inplace = True)"
   ]
  },
  {
   "cell_type": "code",
   "execution_count": 16,
   "metadata": {},
   "outputs": [],
   "source": [
    "#dropping duplicates\n",
    "y.drop_duplicates(inplace = True)"
   ]
  },
  {
   "cell_type": "code",
   "execution_count": 17,
   "metadata": {},
   "outputs": [
    {
     "name": "stdout",
     "output_type": "stream",
     "text": [
      "<class 'pandas.core.frame.DataFrame'>\n",
      "Int64Index: 70 entries, 100 to 401\n",
      "Data columns (total 3 columns):\n",
      "StationNum    70 non-null object\n",
      "Latitude      70 non-null float64\n",
      "Longitude     70 non-null float64\n",
      "dtypes: float64(2), object(1)\n",
      "memory usage: 2.2+ KB\n"
     ]
    }
   ],
   "source": [
    "#checking to see the final unique values\n",
    "y.info()"
   ]
  },
  {
   "cell_type": "code",
   "execution_count": 18,
   "metadata": {},
   "outputs": [],
   "source": [
    "z =y[y['StationNum'].apply(lambda o: str(o).isdigit())]"
   ]
  },
  {
   "cell_type": "code",
   "execution_count": 19,
   "metadata": {},
   "outputs": [
    {
     "data": {
      "text/plain": [
       "StationNum    False\n",
       "Latitude       True\n",
       "Longitude      True\n",
       "dtype: bool"
      ]
     },
     "execution_count": 19,
     "metadata": {},
     "output_type": "execute_result"
    }
   ],
   "source": [
    "import numpy as np\n",
    "z.applymap(np.isreal).all()"
   ]
  },
  {
   "cell_type": "code",
   "execution_count": 20,
   "metadata": {},
   "outputs": [],
   "source": [
    "# copying it to another datafame to extract only Latitudes and Longitudes to save it in a text file for extracting Walkscore\n",
    "v = z.copy()"
   ]
  },
  {
   "cell_type": "code",
   "execution_count": 21,
   "metadata": {},
   "outputs": [
    {
     "name": "stdout",
     "output_type": "stream",
     "text": [
      "<class 'pandas.core.frame.DataFrame'>\n",
      "Int64Index: 70 entries, 100 to 401\n",
      "Data columns (total 3 columns):\n",
      "StationNum    70 non-null object\n",
      "Latitude      70 non-null float64\n",
      "Longitude     70 non-null float64\n",
      "dtypes: float64(2), object(1)\n",
      "memory usage: 2.2+ KB\n"
     ]
    }
   ],
   "source": [
    "v.info()"
   ]
  },
  {
   "cell_type": "code",
   "execution_count": 22,
   "metadata": {},
   "outputs": [],
   "source": [
    "v.drop(['StationNum'],axis = 1,inplace = True)"
   ]
  },
  {
   "cell_type": "code",
   "execution_count": 23,
   "metadata": {},
   "outputs": [
    {
     "name": "stdout",
     "output_type": "stream",
     "text": [
      "<class 'pandas.core.frame.DataFrame'>\n",
      "Int64Index: 70 entries, 100 to 401\n",
      "Data columns (total 2 columns):\n",
      "Latitude     70 non-null float64\n",
      "Longitude    70 non-null float64\n",
      "dtypes: float64(2)\n",
      "memory usage: 1.6 KB\n"
     ]
    }
   ],
   "source": [
    "v.info()"
   ]
  },
  {
   "cell_type": "code",
   "execution_count": 25,
   "metadata": {},
   "outputs": [],
   "source": [
    "# exporting as CSV file \n",
    "v.to_csv('Pitt_lat_lon', index=False)"
   ]
  },
  {
   "cell_type": "code",
   "execution_count": null,
   "metadata": {},
   "outputs": [],
   "source": [
    "#checking the current directory\n",
    "pwd"
   ]
  },
  {
   "cell_type": "code",
   "execution_count": null,
   "metadata": {},
   "outputs": [],
   "source": [
    "#reading from CSV file\n",
    "pd.read_csv('Pitt_lat_lon')"
   ]
  },
  {
   "cell_type": "code",
   "execution_count": null,
   "metadata": {},
   "outputs": [],
   "source": []
  }
 ],
 "metadata": {
  "kernelspec": {
   "display_name": "Python 3",
   "language": "python",
   "name": "python3"
  },
  "language_info": {
   "codemirror_mode": {
    "name": "ipython",
    "version": 3
   },
   "file_extension": ".py",
   "mimetype": "text/x-python",
   "name": "python",
   "nbconvert_exporter": "python",
   "pygments_lexer": "ipython3",
   "version": "3.7.1"
  }
 },
 "nbformat": 4,
 "nbformat_minor": 2
}

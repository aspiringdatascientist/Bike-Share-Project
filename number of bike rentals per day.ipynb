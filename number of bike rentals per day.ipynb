{
 "cells": [
  {
   "cell_type": "markdown",
   "metadata": {},
   "source": [
    "What is the average number of bike rentals per day?"
   ]
  },
  {
   "cell_type": "markdown",
   "metadata": {},
   "source": [
    " We still  have to create a dependent variable(number of trips) column in our dataframe. To do that, let's start by creating a tripdate column  in our existing dataframe. We can then group by counting the number of trips per date. Then we can simply do a merge the two dataframes.Let's add a trip date column."
   ]
  },
  {
   "cell_type": "code",
   "execution_count": 35,
   "metadata": {},
   "outputs": [],
   "source": [
    "#import necessary libraries\n",
    "import pandas as pd\n",
    "import numpy as np\n",
    "import seaborn as sns\n",
    "import matplotlib.pyplot as plt"
   ]
  },
  {
   "cell_type": "code",
   "execution_count": 36,
   "metadata": {},
   "outputs": [],
   "source": [
    "#read the csv file\n",
    "trip = pd.read_csv(\"Pittsburgh_healthy_bikeshare.csv\", parse_dates = [\"start_time\",\"stop_time\"])"
   ]
  },
  {
   "cell_type": "code",
   "execution_count": 37,
   "metadata": {},
   "outputs": [],
   "source": [
    "#add a trip date column\n",
    "trip['tripdate'] = trip['start_time'].map(lambda x: x.date())"
   ]
  },
  {
   "cell_type": "code",
   "execution_count": 38,
   "metadata": {},
   "outputs": [
    {
     "name": "stdout",
     "output_type": "stream",
     "text": [
      "            num_trips_day\n",
      "tripdate                 \n",
      "2015-05-31            158\n",
      "2015-06-01             52\n",
      "2015-06-02             62\n",
      "2015-06-03             83\n",
      "2015-06-04            127\n",
      "2015-06-05            137\n",
      "2015-06-06            174\n",
      "2015-06-07            180\n",
      "2015-06-08             85\n",
      "2015-06-09            163\n",
      "2015-06-10            148\n",
      "2015-06-11            105\n",
      "2015-06-12            159\n",
      "2015-06-13            202\n",
      "2015-06-14            166\n",
      "2015-06-15            115\n",
      "2015-06-16            180\n",
      "2015-06-17            178\n",
      "2015-06-18            169\n",
      "2015-06-19            187\n",
      "2015-06-20            140\n",
      "2015-06-21            199\n",
      "2015-06-22            278\n",
      "2015-06-23            203\n",
      "2015-06-24            299\n",
      "2015-06-25            145\n",
      "2015-06-26            250\n",
      "2015-06-27            112\n",
      "2015-06-28            240\n",
      "2015-06-29            179\n",
      "...                   ...\n",
      "2018-12-01             18\n",
      "2018-12-02             74\n",
      "2018-12-03             37\n",
      "2018-12-04             41\n",
      "2018-12-05             30\n",
      "2018-12-06             30\n",
      "2018-12-07             27\n",
      "2018-12-08             28\n",
      "2018-12-09             25\n",
      "2018-12-10             33\n",
      "2018-12-11             44\n",
      "2018-12-12             38\n",
      "2018-12-13             44\n",
      "2018-12-14             40\n",
      "2018-12-15              8\n",
      "2018-12-16             41\n",
      "2018-12-17             35\n",
      "2018-12-18             32\n",
      "2018-12-19             36\n",
      "2018-12-20             28\n",
      "2018-12-21             19\n",
      "2018-12-22             12\n",
      "2018-12-23              4\n",
      "2018-12-24             18\n",
      "2018-12-25              4\n",
      "2018-12-26             24\n",
      "2018-12-27             24\n",
      "2018-12-28             30\n",
      "2018-12-29             10\n",
      "2018-12-30             21\n",
      "\n",
      "[1308 rows x 1 columns]\n"
     ]
    }
   ],
   "source": [
    "# Create a Group by object using tripdate\n",
    "grp_date = trip.groupby('tripdate')\n",
    "\n",
    "# Compute number of trips by date and check out the result\n",
    "trips_by_date = pd.DataFrame(grp_date.size(), columns=['num_trips_day'])\n",
    "\n",
    "print(trips_by_date)"
   ]
  },
  {
   "cell_type": "code",
   "execution_count": 39,
   "metadata": {},
   "outputs": [
    {
     "data": {
      "text/html": [
       "<div>\n",
       "<style scoped>\n",
       "    .dataframe tbody tr th:only-of-type {\n",
       "        vertical-align: middle;\n",
       "    }\n",
       "\n",
       "    .dataframe tbody tr th {\n",
       "        vertical-align: top;\n",
       "    }\n",
       "\n",
       "    .dataframe thead th {\n",
       "        text-align: right;\n",
       "    }\n",
       "</style>\n",
       "<table border=\"1\" class=\"dataframe\">\n",
       "  <thead>\n",
       "    <tr style=\"text-align: right;\">\n",
       "      <th></th>\n",
       "      <th>num_trips_day</th>\n",
       "    </tr>\n",
       "    <tr>\n",
       "      <th>tripdate</th>\n",
       "      <th></th>\n",
       "    </tr>\n",
       "  </thead>\n",
       "  <tbody>\n",
       "    <tr>\n",
       "      <th>2015-05-31</th>\n",
       "      <td>158</td>\n",
       "    </tr>\n",
       "    <tr>\n",
       "      <th>2015-06-01</th>\n",
       "      <td>52</td>\n",
       "    </tr>\n",
       "  </tbody>\n",
       "</table>\n",
       "</div>"
      ],
      "text/plain": [
       "            num_trips_day\n",
       "tripdate                 \n",
       "2015-05-31            158\n",
       "2015-06-01             52"
      ]
     },
     "execution_count": 39,
     "metadata": {},
     "output_type": "execute_result"
    }
   ],
   "source": [
    "trips_by_date.head(2)"
   ]
  },
  {
   "cell_type": "code",
   "execution_count": 40,
   "metadata": {},
   "outputs": [
    {
     "data": {
      "text/html": [
       "<div>\n",
       "<style scoped>\n",
       "    .dataframe tbody tr th:only-of-type {\n",
       "        vertical-align: middle;\n",
       "    }\n",
       "\n",
       "    .dataframe tbody tr th {\n",
       "        vertical-align: top;\n",
       "    }\n",
       "\n",
       "    .dataframe thead th {\n",
       "        text-align: right;\n",
       "    }\n",
       "</style>\n",
       "<table border=\"1\" class=\"dataframe\">\n",
       "  <thead>\n",
       "    <tr style=\"text-align: right;\">\n",
       "      <th></th>\n",
       "      <th>tripdate</th>\n",
       "      <th>num_trips_day</th>\n",
       "    </tr>\n",
       "  </thead>\n",
       "  <tbody>\n",
       "    <tr>\n",
       "      <th>0</th>\n",
       "      <td>2015-05-31</td>\n",
       "      <td>158</td>\n",
       "    </tr>\n",
       "    <tr>\n",
       "      <th>1</th>\n",
       "      <td>2015-06-01</td>\n",
       "      <td>52</td>\n",
       "    </tr>\n",
       "  </tbody>\n",
       "</table>\n",
       "</div>"
      ],
      "text/plain": [
       "     tripdate  num_trips_day\n",
       "0  2015-05-31            158\n",
       "1  2015-06-01             52"
      ]
     },
     "execution_count": 40,
     "metadata": {},
     "output_type": "execute_result"
    }
   ],
   "source": [
    "#Since we need to merge the two dataframes, let's reset the index\n",
    "trips_by_date.reset_index(level=0, inplace=True)\n",
    "trips_by_date.head(2)"
   ]
  },
  {
   "cell_type": "code",
   "execution_count": 41,
   "metadata": {},
   "outputs": [],
   "source": [
    "#Let's merge the two dataframes\n",
    "merged = pd.merge(trip, trips_by_date, on = \"tripdate\")"
   ]
  },
  {
   "cell_type": "code",
   "execution_count": 42,
   "metadata": {},
   "outputs": [
    {
     "data": {
      "text/html": [
       "<div>\n",
       "<style scoped>\n",
       "    .dataframe tbody tr th:only-of-type {\n",
       "        vertical-align: middle;\n",
       "    }\n",
       "\n",
       "    .dataframe tbody tr th {\n",
       "        vertical-align: top;\n",
       "    }\n",
       "\n",
       "    .dataframe thead th {\n",
       "        text-align: right;\n",
       "    }\n",
       "</style>\n",
       "<table border=\"1\" class=\"dataframe\">\n",
       "  <thead>\n",
       "    <tr style=\"text-align: right;\">\n",
       "      <th></th>\n",
       "      <th>start_time</th>\n",
       "      <th>trip_id</th>\n",
       "      <th>stop_time</th>\n",
       "      <th>bike_id</th>\n",
       "      <th>trip_duration</th>\n",
       "      <th>from_station_id</th>\n",
       "      <th>from_station_name</th>\n",
       "      <th>to_station_id</th>\n",
       "      <th>station_name</th>\n",
       "      <th>user_type</th>\n",
       "      <th>...</th>\n",
       "      <th>month</th>\n",
       "      <th>tr_du_mins</th>\n",
       "      <th>tr_du_hr</th>\n",
       "      <th>speed</th>\n",
       "      <th>row_count</th>\n",
       "      <th>day_of_the_week</th>\n",
       "      <th>start_time_hour</th>\n",
       "      <th>start_time_day_name</th>\n",
       "      <th>tripdate</th>\n",
       "      <th>num_trips_day</th>\n",
       "    </tr>\n",
       "  </thead>\n",
       "  <tbody>\n",
       "    <tr>\n",
       "      <th>0</th>\n",
       "      <td>2015-05-31 07:18:00</td>\n",
       "      <td>10677999</td>\n",
       "      <td>2015-05-31 07:52:00</td>\n",
       "      <td>70381</td>\n",
       "      <td>2018</td>\n",
       "      <td>1019</td>\n",
       "      <td>42nd St &amp; Butler St</td>\n",
       "      <td>1001</td>\n",
       "      <td>Forbes Ave &amp; Market Square</td>\n",
       "      <td>Subscriber</td>\n",
       "      <td>...</td>\n",
       "      <td>5</td>\n",
       "      <td>33.633333</td>\n",
       "      <td>0.560556</td>\n",
       "      <td>5.41</td>\n",
       "      <td>8</td>\n",
       "      <td>Sunday</td>\n",
       "      <td>7</td>\n",
       "      <td>Sunday</td>\n",
       "      <td>2015-05-31</td>\n",
       "      <td>158</td>\n",
       "    </tr>\n",
       "    <tr>\n",
       "      <th>1</th>\n",
       "      <td>2015-05-31 07:25:00</td>\n",
       "      <td>10678335</td>\n",
       "      <td>2015-05-31 07:57:00</td>\n",
       "      <td>70331</td>\n",
       "      <td>1900</td>\n",
       "      <td>1005</td>\n",
       "      <td>Forbes Ave &amp; Grant St</td>\n",
       "      <td>1000</td>\n",
       "      <td>Liberty Ave &amp; Stanwix St</td>\n",
       "      <td>Customer</td>\n",
       "      <td>...</td>\n",
       "      <td>5</td>\n",
       "      <td>31.666667</td>\n",
       "      <td>0.527778</td>\n",
       "      <td>0.80</td>\n",
       "      <td>12</td>\n",
       "      <td>Sunday</td>\n",
       "      <td>7</td>\n",
       "      <td>Sunday</td>\n",
       "      <td>2015-05-31</td>\n",
       "      <td>158</td>\n",
       "    </tr>\n",
       "    <tr>\n",
       "      <th>2</th>\n",
       "      <td>2015-05-31 07:53:00</td>\n",
       "      <td>10679549</td>\n",
       "      <td>2015-05-31 09:34:00</td>\n",
       "      <td>70430</td>\n",
       "      <td>6068</td>\n",
       "      <td>1050</td>\n",
       "      <td>Healthy Ride Hub</td>\n",
       "      <td>1016</td>\n",
       "      <td>17th St &amp; Penn Ave</td>\n",
       "      <td>Subscriber</td>\n",
       "      <td>...</td>\n",
       "      <td>5</td>\n",
       "      <td>101.133333</td>\n",
       "      <td>1.685556</td>\n",
       "      <td>0.75</td>\n",
       "      <td>37</td>\n",
       "      <td>Sunday</td>\n",
       "      <td>7</td>\n",
       "      <td>Sunday</td>\n",
       "      <td>2015-05-31</td>\n",
       "      <td>158</td>\n",
       "    </tr>\n",
       "    <tr>\n",
       "      <th>3</th>\n",
       "      <td>2015-05-31 08:05:00</td>\n",
       "      <td>10680090</td>\n",
       "      <td>2015-05-31 08:50:00</td>\n",
       "      <td>70381</td>\n",
       "      <td>2692</td>\n",
       "      <td>1001</td>\n",
       "      <td>Forbes Ave &amp; Market Square</td>\n",
       "      <td>1017</td>\n",
       "      <td>21st St &amp; Penn Ave</td>\n",
       "      <td>Customer</td>\n",
       "      <td>...</td>\n",
       "      <td>5</td>\n",
       "      <td>44.866667</td>\n",
       "      <td>0.747778</td>\n",
       "      <td>1.73</td>\n",
       "      <td>50</td>\n",
       "      <td>Sunday</td>\n",
       "      <td>8</td>\n",
       "      <td>Sunday</td>\n",
       "      <td>2015-05-31</td>\n",
       "      <td>158</td>\n",
       "    </tr>\n",
       "    <tr>\n",
       "      <th>4</th>\n",
       "      <td>2015-05-31 08:06:00</td>\n",
       "      <td>10680133</td>\n",
       "      <td>2015-05-31 08:47:00</td>\n",
       "      <td>70147</td>\n",
       "      <td>2480</td>\n",
       "      <td>1001</td>\n",
       "      <td>Forbes Ave &amp; Market Square</td>\n",
       "      <td>1017</td>\n",
       "      <td>21st St &amp; Penn Ave</td>\n",
       "      <td>Customer</td>\n",
       "      <td>...</td>\n",
       "      <td>5</td>\n",
       "      <td>41.333333</td>\n",
       "      <td>0.688889</td>\n",
       "      <td>1.87</td>\n",
       "      <td>52</td>\n",
       "      <td>Sunday</td>\n",
       "      <td>8</td>\n",
       "      <td>Sunday</td>\n",
       "      <td>2015-05-31</td>\n",
       "      <td>158</td>\n",
       "    </tr>\n",
       "  </tbody>\n",
       "</table>\n",
       "<p>5 rows × 34 columns</p>\n",
       "</div>"
      ],
      "text/plain": [
       "           start_time   trip_id           stop_time  bike_id  trip_duration  \\\n",
       "0 2015-05-31 07:18:00  10677999 2015-05-31 07:52:00    70381           2018   \n",
       "1 2015-05-31 07:25:00  10678335 2015-05-31 07:57:00    70331           1900   \n",
       "2 2015-05-31 07:53:00  10679549 2015-05-31 09:34:00    70430           6068   \n",
       "3 2015-05-31 08:05:00  10680090 2015-05-31 08:50:00    70381           2692   \n",
       "4 2015-05-31 08:06:00  10680133 2015-05-31 08:47:00    70147           2480   \n",
       "\n",
       "   from_station_id           from_station_name  to_station_id  \\\n",
       "0             1019         42nd St & Butler St           1001   \n",
       "1             1005       Forbes Ave & Grant St           1000   \n",
       "2             1050            Healthy Ride Hub           1016   \n",
       "3             1001  Forbes Ave & Market Square           1017   \n",
       "4             1001  Forbes Ave & Market Square           1017   \n",
       "\n",
       "                 station_name   user_type  ...  month  tr_du_mins  tr_du_hr  \\\n",
       "0  Forbes Ave & Market Square  Subscriber  ...      5   33.633333  0.560556   \n",
       "1    Liberty Ave & Stanwix St    Customer  ...      5   31.666667  0.527778   \n",
       "2          17th St & Penn Ave  Subscriber  ...      5  101.133333  1.685556   \n",
       "3          21st St & Penn Ave    Customer  ...      5   44.866667  0.747778   \n",
       "4          21st St & Penn Ave    Customer  ...      5   41.333333  0.688889   \n",
       "\n",
       "   speed  row_count  day_of_the_week  start_time_hour  start_time_day_name  \\\n",
       "0   5.41          8           Sunday                7               Sunday   \n",
       "1   0.80         12           Sunday                7               Sunday   \n",
       "2   0.75         37           Sunday                7               Sunday   \n",
       "3   1.73         50           Sunday                8               Sunday   \n",
       "4   1.87         52           Sunday                8               Sunday   \n",
       "\n",
       "     tripdate  num_trips_day  \n",
       "0  2015-05-31            158  \n",
       "1  2015-05-31            158  \n",
       "2  2015-05-31            158  \n",
       "3  2015-05-31            158  \n",
       "4  2015-05-31            158  \n",
       "\n",
       "[5 rows x 34 columns]"
      ]
     },
     "execution_count": 42,
     "metadata": {},
     "output_type": "execute_result"
    }
   ],
   "source": [
    "merged.head()"
   ]
  },
  {
   "cell_type": "code",
   "execution_count": 43,
   "metadata": {},
   "outputs": [
    {
     "data": {
      "text/plain": [
       "(163377, 33)"
      ]
     },
     "execution_count": 43,
     "metadata": {},
     "output_type": "execute_result"
    }
   ],
   "source": [
    "trip.shape"
   ]
  },
  {
   "cell_type": "code",
   "execution_count": 44,
   "metadata": {},
   "outputs": [
    {
     "data": {
      "text/plain": [
       "(163377, 34)"
      ]
     },
     "execution_count": 44,
     "metadata": {},
     "output_type": "execute_result"
    }
   ],
   "source": [
    "merged.shape"
   ]
  },
  {
   "cell_type": "code",
   "execution_count": 45,
   "metadata": {},
   "outputs": [
    {
     "data": {
      "text/plain": [
       "199    2587\n",
       "163    1956\n",
       "161    1932\n",
       "216    1728\n",
       "215    1720\n",
       "171    1710\n",
       "175    1575\n",
       "170    1530\n",
       "166    1494\n",
       "204    1428\n",
       "176    1408\n",
       "173    1384\n",
       "229    1374\n",
       "149    1341\n",
       "186    1302\n",
       "185    1295\n",
       "214    1284\n",
       "183    1281\n",
       "127    1270\n",
       "211    1266\n",
       "180    1260\n",
       "178    1246\n",
       "133    1197\n",
       "195    1170\n",
       "167    1169\n",
       "285    1140\n",
       "187    1122\n",
       "140    1120\n",
       "181    1086\n",
       "153    1071\n",
       "       ... \n",
       "20      160\n",
       "77      154\n",
       "71      142\n",
       "68      136\n",
       "15      135\n",
       "22      132\n",
       "16      128\n",
       "64      128\n",
       "21      126\n",
       "31      124\n",
       "94       94\n",
       "10       90\n",
       "88       88\n",
       "13       78\n",
       "11       77\n",
       "19       76\n",
       "72       72\n",
       "23       69\n",
       "69       69\n",
       "17       68\n",
       "9        36\n",
       "14       28\n",
       "12       24\n",
       "8        24\n",
       "6        24\n",
       "7        21\n",
       "5        15\n",
       "3        12\n",
       "4         8\n",
       "1         3\n",
       "Name: num_trips_day, Length: 308, dtype: int64"
      ]
     },
     "execution_count": 45,
     "metadata": {},
     "output_type": "execute_result"
    }
   ],
   "source": [
    "merged.num_trips_day.value_counts()"
   ]
  },
  {
   "cell_type": "code",
   "execution_count": 46,
   "metadata": {},
   "outputs": [
    {
     "data": {
      "text/plain": [
       "18     16\n",
       "30     15\n",
       "25     15\n",
       "199    13\n",
       "44     12\n",
       "161    12\n",
       "163    12\n",
       "37     11\n",
       "24     11\n",
       "27     11\n",
       "26     10\n",
       "36     10\n",
       "171    10\n",
       "67     10\n",
       "127    10\n",
       "90      9\n",
       "35      9\n",
       "149     9\n",
       "32      9\n",
       "52      9\n",
       "58      9\n",
       "28      9\n",
       "133     9\n",
       "10      9\n",
       "39      9\n",
       "166     9\n",
       "170     9\n",
       "93      9\n",
       "15      9\n",
       "175     9\n",
       "       ..\n",
       "213     1\n",
       "94      1\n",
       "88      1\n",
       "234     1\n",
       "239     1\n",
       "240     1\n",
       "241     1\n",
       "242     1\n",
       "244     1\n",
       "245     1\n",
       "249     1\n",
       "72      1\n",
       "250     1\n",
       "252     1\n",
       "294     1\n",
       "256     1\n",
       "258     1\n",
       "259     1\n",
       "262     1\n",
       "264     1\n",
       "265     1\n",
       "268     1\n",
       "272     1\n",
       "273     1\n",
       "278     1\n",
       "283     1\n",
       "287     1\n",
       "288     1\n",
       "290     1\n",
       "469     1\n",
       "Name: num_trips_day, Length: 308, dtype: int64"
      ]
     },
     "execution_count": 46,
     "metadata": {},
     "output_type": "execute_result"
    }
   ],
   "source": [
    "trips_by_date.num_trips_day.value_counts()"
   ]
  },
  {
   "cell_type": "markdown",
   "metadata": {},
   "source": [
    "Let's clean up by dropping unnecessary coulumns."
   ]
  },
  {
   "cell_type": "code",
   "execution_count": 47,
   "metadata": {},
   "outputs": [
    {
     "data": {
      "text/plain": [
       "Index(['start_time', 'trip_id', 'stop_time', 'bike_id', 'trip_duration',\n",
       "       'from_station_id', 'from_station_name', 'to_station_id', 'station_name',\n",
       "       'user_type', 'TMAX', 'TMIN', 'season', 'holiday', 'walk_score',\n",
       "       'transit_score', 'bike_score', 'distance', 'event_type', 'rain', 'wind',\n",
       "       'weather', 'date', 'hour', 'month', 'tr_du_mins', 'tr_du_hr', 'speed',\n",
       "       'row_count', 'day_of_the_week', 'start_time_hour',\n",
       "       'start_time_day_name', 'tripdate', 'num_trips_day'],\n",
       "      dtype='object')"
      ]
     },
     "execution_count": 47,
     "metadata": {},
     "output_type": "execute_result"
    }
   ],
   "source": [
    "merged.columns"
   ]
  },
  {
   "cell_type": "code",
   "execution_count": 48,
   "metadata": {},
   "outputs": [],
   "source": [
    "merged.drop(['tr_du_mins', 'tr_du_hr','start_time_day_name','start_time_hour','row_count', 'date'], axis = 1, inplace = True)"
   ]
  },
  {
   "cell_type": "code",
   "execution_count": 49,
   "metadata": {},
   "outputs": [
    {
     "data": {
      "text/plain": [
       "Index(['start_time', 'trip_id', 'stop_time', 'bike_id', 'trip_duration',\n",
       "       'from_station_id', 'from_station_name', 'to_station_id', 'station_name',\n",
       "       'user_type', 'TMAX', 'TMIN', 'season', 'holiday', 'walk_score',\n",
       "       'transit_score', 'bike_score', 'distance', 'event_type', 'rain', 'wind',\n",
       "       'weather', 'hour', 'month', 'speed', 'day_of_the_week', 'tripdate',\n",
       "       'num_trips_day'],\n",
       "      dtype='object')"
      ]
     },
     "execution_count": 49,
     "metadata": {},
     "output_type": "execute_result"
    }
   ],
   "source": [
    "merged.columns"
   ]
  },
  {
   "cell_type": "code",
   "execution_count": 50,
   "metadata": {},
   "outputs": [],
   "source": [
    "n= merged.to_csv(\"Healthy_rides_data.csv\", index= False)"
   ]
  },
  {
   "cell_type": "code",
   "execution_count": 51,
   "metadata": {},
   "outputs": [
    {
     "data": {
      "text/plain": [
       "(163377, 28)"
      ]
     },
     "execution_count": 51,
     "metadata": {},
     "output_type": "execute_result"
    }
   ],
   "source": [
    "merged.shape"
   ]
  },
  {
   "cell_type": "code",
   "execution_count": 52,
   "metadata": {},
   "outputs": [
    {
     "data": {
      "text/html": [
       "<div>\n",
       "<style scoped>\n",
       "    .dataframe tbody tr th:only-of-type {\n",
       "        vertical-align: middle;\n",
       "    }\n",
       "\n",
       "    .dataframe tbody tr th {\n",
       "        vertical-align: top;\n",
       "    }\n",
       "\n",
       "    .dataframe thead th {\n",
       "        text-align: right;\n",
       "    }\n",
       "</style>\n",
       "<table border=\"1\" class=\"dataframe\">\n",
       "  <thead>\n",
       "    <tr style=\"text-align: right;\">\n",
       "      <th></th>\n",
       "      <th>start_time</th>\n",
       "      <th>trip_id</th>\n",
       "      <th>stop_time</th>\n",
       "      <th>bike_id</th>\n",
       "      <th>trip_duration</th>\n",
       "      <th>from_station_id</th>\n",
       "      <th>from_station_name</th>\n",
       "      <th>to_station_id</th>\n",
       "      <th>station_name</th>\n",
       "      <th>user_type</th>\n",
       "      <th>...</th>\n",
       "      <th>event_type</th>\n",
       "      <th>rain</th>\n",
       "      <th>wind</th>\n",
       "      <th>weather</th>\n",
       "      <th>hour</th>\n",
       "      <th>month</th>\n",
       "      <th>speed</th>\n",
       "      <th>day_of_the_week</th>\n",
       "      <th>tripdate</th>\n",
       "      <th>num_trips_day</th>\n",
       "    </tr>\n",
       "  </thead>\n",
       "  <tbody>\n",
       "    <tr>\n",
       "      <th>0</th>\n",
       "      <td>2015-05-31 07:18:00</td>\n",
       "      <td>10677999</td>\n",
       "      <td>2015-05-31 07:52:00</td>\n",
       "      <td>70381</td>\n",
       "      <td>2018</td>\n",
       "      <td>1019</td>\n",
       "      <td>42nd St &amp; Butler St</td>\n",
       "      <td>1001</td>\n",
       "      <td>Forbes Ave &amp; Market Square</td>\n",
       "      <td>Subscriber</td>\n",
       "      <td>...</td>\n",
       "      <td>N</td>\n",
       "      <td>0.37</td>\n",
       "      <td>8.95</td>\n",
       "      <td>good</td>\n",
       "      <td>7</td>\n",
       "      <td>5</td>\n",
       "      <td>5.41</td>\n",
       "      <td>Sunday</td>\n",
       "      <td>2015-05-31</td>\n",
       "      <td>158</td>\n",
       "    </tr>\n",
       "    <tr>\n",
       "      <th>1</th>\n",
       "      <td>2015-05-31 07:25:00</td>\n",
       "      <td>10678335</td>\n",
       "      <td>2015-05-31 07:57:00</td>\n",
       "      <td>70331</td>\n",
       "      <td>1900</td>\n",
       "      <td>1005</td>\n",
       "      <td>Forbes Ave &amp; Grant St</td>\n",
       "      <td>1000</td>\n",
       "      <td>Liberty Ave &amp; Stanwix St</td>\n",
       "      <td>Customer</td>\n",
       "      <td>...</td>\n",
       "      <td>N</td>\n",
       "      <td>0.37</td>\n",
       "      <td>8.95</td>\n",
       "      <td>good</td>\n",
       "      <td>7</td>\n",
       "      <td>5</td>\n",
       "      <td>0.80</td>\n",
       "      <td>Sunday</td>\n",
       "      <td>2015-05-31</td>\n",
       "      <td>158</td>\n",
       "    </tr>\n",
       "  </tbody>\n",
       "</table>\n",
       "<p>2 rows × 28 columns</p>\n",
       "</div>"
      ],
      "text/plain": [
       "           start_time   trip_id           stop_time  bike_id  trip_duration  \\\n",
       "0 2015-05-31 07:18:00  10677999 2015-05-31 07:52:00    70381           2018   \n",
       "1 2015-05-31 07:25:00  10678335 2015-05-31 07:57:00    70331           1900   \n",
       "\n",
       "   from_station_id      from_station_name  to_station_id  \\\n",
       "0             1019    42nd St & Butler St           1001   \n",
       "1             1005  Forbes Ave & Grant St           1000   \n",
       "\n",
       "                 station_name   user_type  ...  event_type  rain  wind  \\\n",
       "0  Forbes Ave & Market Square  Subscriber  ...           N  0.37  8.95   \n",
       "1    Liberty Ave & Stanwix St    Customer  ...           N  0.37  8.95   \n",
       "\n",
       "   weather  hour  month  speed  day_of_the_week    tripdate  num_trips_day  \n",
       "0     good     7      5   5.41           Sunday  2015-05-31            158  \n",
       "1     good     7      5   0.80           Sunday  2015-05-31            158  \n",
       "\n",
       "[2 rows x 28 columns]"
      ]
     },
     "execution_count": 52,
     "metadata": {},
     "output_type": "execute_result"
    }
   ],
   "source": [
    "merged.head(2)"
   ]
  },
  {
   "cell_type": "code",
   "execution_count": 53,
   "metadata": {},
   "outputs": [
    {
     "data": {
      "text/plain": [
       "start_time             datetime64[ns]\n",
       "trip_id                         int64\n",
       "stop_time              datetime64[ns]\n",
       "bike_id                         int64\n",
       "trip_duration                   int64\n",
       "from_station_id                object\n",
       "from_station_name              object\n",
       "to_station_id                   int64\n",
       "station_name                   object\n",
       "user_type                      object\n",
       "TMAX                          float64\n",
       "TMIN                          float64\n",
       "season                         object\n",
       "holiday                         int64\n",
       "walk_score                    float64\n",
       "transit_score                 float64\n",
       "bike_score                    float64\n",
       "distance                      float64\n",
       "event_type                     object\n",
       "rain                          float64\n",
       "wind                          float64\n",
       "weather                        object\n",
       "date                           object\n",
       "hour                            int64\n",
       "month                           int64\n",
       "tr_du_mins                    float64\n",
       "tr_du_hr                      float64\n",
       "speed                         float64\n",
       "row_count                       int64\n",
       "day_of_the_week                object\n",
       "start_time_hour                 int64\n",
       "start_time_day_name            object\n",
       "tripdate                       object\n",
       "dtype: object"
      ]
     },
     "execution_count": 53,
     "metadata": {},
     "output_type": "execute_result"
    }
   ],
   "source": [
    "trip[\"from_station_id\"] = trip[\"from_station_id\"].astype(str)\n",
    "trip.dtypes"
   ]
  },
  {
   "cell_type": "code",
   "execution_count": 54,
   "metadata": {},
   "outputs": [],
   "source": [
    "def daily_avg_trips(station_id):\n",
    "    # Group by tripdate in the trip dataframe\n",
    "    grp_date = trip[(trip.from_station_id == station_id)].groupby(['tripdate'])\n",
    "\n",
    "    # Compute number of trips by date and check out the result\n",
    "    trips_by_date = pd.DataFrame(grp_date.size(), columns=['num_trips'])\n",
    "    trips_by_date['weekday'] = trips_by_date.index.map(lambda x: x.weekday())\n",
    "\n",
    "    # Compute the average\n",
    "    mean_trips = trips_by_date['num_trips'].mean()\n",
    "    tot_tripdates = trips_by_date['num_trips'].count()\n",
    "    num_days = (trips_by_date.index.max() - trips_by_date.index.min()).days + 1\n",
    "\n",
    "    print(\"The mean number of trips per day is {:.2f} out of {} tripdates.\"\n",
    "          .format(mean_trips, tot_tripdates))\n",
    "    print(f\"Date range is from {trips_by_date.index.min()} : {trips_by_date.index.max()} \")\n",
    "    print(\"There are {} days in the date range.\".format(num_days))\n",
    "    \n",
    "    return trips_by_date\n"
   ]
  },
  {
   "cell_type": "code",
   "execution_count": 55,
   "metadata": {},
   "outputs": [
    {
     "name": "stdout",
     "output_type": "stream",
     "text": [
      "The mean number of trips per day is 4.27 out of 953 tripdates.\n",
      "Date range is from 2015-05-31 : 2018-12-27 \n",
      "There are 1307 days in the date range.\n"
     ]
    }
   ],
   "source": [
    "u = daily_avg_trips('1019')"
   ]
  },
  {
   "cell_type": "markdown",
   "metadata": {},
   "source": [
    "Notice that the mean uses a denominator of 953 even though there are 1307 days in the date range of interest. Zero days were not accounted for.\n",
    "We will rectify iy by craeting an empty dataframe based range of dates from the start till end date of the time period."
   ]
  },
  {
   "cell_type": "code",
   "execution_count": 56,
   "metadata": {},
   "outputs": [
    {
     "name": "stdout",
     "output_type": "stream",
     "text": [
      "DatetimeIndex(['2015-05-31', '2015-06-01', '2015-06-02', '2015-06-03',\n",
      "               '2015-06-04', '2015-06-05', '2015-06-06', '2015-06-07',\n",
      "               '2015-06-08', '2015-06-09',\n",
      "               ...\n",
      "               '2018-12-18', '2018-12-19', '2018-12-20', '2018-12-21',\n",
      "               '2018-12-22', '2018-12-23', '2018-12-24', '2018-12-25',\n",
      "               '2018-12-26', '2018-12-27'],\n",
      "              dtype='datetime64[ns]', length=1307, freq='D')\n",
      "\n",
      "\n",
      "trips_by_date_new dataframe:\n"
     ]
    },
    {
     "data": {
      "text/html": [
       "<div>\n",
       "<style scoped>\n",
       "    .dataframe tbody tr th:only-of-type {\n",
       "        vertical-align: middle;\n",
       "    }\n",
       "\n",
       "    .dataframe tbody tr th {\n",
       "        vertical-align: top;\n",
       "    }\n",
       "\n",
       "    .dataframe thead th {\n",
       "        text-align: right;\n",
       "    }\n",
       "</style>\n",
       "<table border=\"1\" class=\"dataframe\">\n",
       "  <thead>\n",
       "    <tr style=\"text-align: right;\">\n",
       "      <th></th>\n",
       "      <th>weekday</th>\n",
       "    </tr>\n",
       "  </thead>\n",
       "  <tbody>\n",
       "    <tr>\n",
       "      <th>2015-05-31</th>\n",
       "      <td>6</td>\n",
       "    </tr>\n",
       "    <tr>\n",
       "      <th>2015-06-01</th>\n",
       "      <td>0</td>\n",
       "    </tr>\n",
       "    <tr>\n",
       "      <th>2015-06-02</th>\n",
       "      <td>1</td>\n",
       "    </tr>\n",
       "    <tr>\n",
       "      <th>2015-06-03</th>\n",
       "      <td>2</td>\n",
       "    </tr>\n",
       "    <tr>\n",
       "      <th>2015-06-04</th>\n",
       "      <td>3</td>\n",
       "    </tr>\n",
       "  </tbody>\n",
       "</table>\n",
       "</div>"
      ],
      "text/plain": [
       "            weekday\n",
       "2015-05-31        6\n",
       "2015-06-01        0\n",
       "2015-06-02        1\n",
       "2015-06-03        2\n",
       "2015-06-04        3"
      ]
     },
     "execution_count": 56,
     "metadata": {},
     "output_type": "execute_result"
    }
   ],
   "source": [
    "# Create range of dates to use as an index\n",
    "start = pd.datetime(2015, 5, 31)\n",
    "end = pd.datetime(2018, 12, 27)\n",
    "rng = pd.date_range(start, end) \n",
    "print(rng)\n",
    "\n",
    "#Create an empty DataFrame using the range of dates as the index.\n",
    "trips_by_date_new = pd.DataFrame(index=rng)\n",
    "\n",
    "## Add weekday column to new dataframe\n",
    "trips_by_date_new['weekday'] = trips_by_date_new.index.map(lambda x: x.weekday())\n",
    "print(\"\\n\")\n",
    "print(\"trips_by_date_new dataframe:\")\n",
    "trips_by_date_new.head()"
   ]
  },
  {
   "cell_type": "code",
   "execution_count": 57,
   "metadata": {},
   "outputs": [
    {
     "name": "stdout",
     "output_type": "stream",
     "text": [
      "            weekday  num_trips\n",
      "2015-05-31        6      158.0\n",
      "2015-06-01        0       52.0\n",
      "2015-06-02        1       62.0\n",
      "2015-06-03        2       83.0\n",
      "2015-06-04        3      127.0\n"
     ]
    }
   ],
   "source": [
    "#Use groupby on the original trip DataFrame to compute number of trips by date\n",
    "# Create a Group by object using tripdate\n",
    "grp_date = trip.groupby(['tripdate'])\n",
    "\n",
    "# Compute number of trips by date and check out the result\n",
    "trips_by_date = pd.DataFrame(grp_date.size(), columns=['num_trips'])\n",
    "\n",
    "# Merge the two DataFrames on their indexes (tripdate) but do a \"left join\" with new dataframe on left.\n",
    "trips_by_date_merged = pd.merge(trips_by_date_new, trips_by_date, how='left', left_index=True, right_index=True, sort=True)\n",
    "\n",
    "\n",
    "#Replace missing values with zeroes for those dates with no trips\n",
    "# Fill in any missing values with 0.\n",
    "trips_by_date_merged['num_trips'] = trips_by_date_merged['num_trips'].fillna(0)\n",
    "\n",
    "print(trips_by_date_merged.head())"
   ]
  },
  {
   "cell_type": "code",
   "execution_count": 58,
   "metadata": {},
   "outputs": [
    {
     "name": "stdout",
     "output_type": "stream",
     "text": [
      "The mean number of trips per day is 124.95 out of  1307 tripdates.\n",
      "Date range is from 2015-05-31 : 2018-12-30 \n",
      "There are 1307 days in the date range.\n"
     ]
    }
   ],
   "source": [
    "# Compute the average\n",
    "mean_trips = trips_by_date_merged['num_trips'].mean()\n",
    "tot_tripdates = trips_by_date_merged['num_trips'].count() \n",
    "num_days = (trips_by_date_merged.index.max() - trips_by_date_merged.index.min()).days + 1\n",
    "\n",
    "print(\"The mean number of trips per day is {:.2f} out of  {} tripdates.\".format(mean_trips, tot_tripdates))\n",
    "print(f\"Date range is from {trips_by_date.index.min()} : {trips_by_date.index.max()} \")\n",
    "print(\"There are {} days in the date range.\".format(num_days))"
   ]
  },
  {
   "cell_type": "code",
   "execution_count": 59,
   "metadata": {},
   "outputs": [],
   "source": [
    "#Average number of rentals per day at individual station including zero days:\n",
    "\n",
    "def daily_avg_trips_new(station_id, start_date = pd.datetime(2015, 5, 31), end_date = pd.datetime(2018, 12, 27)):\n",
    "    \n",
    "    # Step 1: Create range of dates based on analysis timeframe\n",
    "    rng = pd.date_range(start_date, end_date)\n",
    "    \n",
    "    # Step 2: Create an empty DataFrame using the range of dates as the index.\n",
    "    trips_by_date_new = pd.DataFrame(index=rng)\n",
    "    # Add weekday column to new dataframe\n",
    "    trips_by_date_new['weekday'] = trips_by_date_new.index.map(lambda x: x.weekday())\n",
    "    \n",
    "    # Step 3: Use groupby on the original trip DataFrame to compute number of trips by date\n",
    "    grp_date = trip[(trip.from_station_id == station_id)].groupby(['tripdate'])\n",
    "    # Compute number of trips by date \n",
    "    trips_by_date = pd.DataFrame(grp_date.size(), columns=['num_trips'])\n",
    "\n",
    "    # Step 4: Merge the two DataFrames on their indexes (tripdate) but do a \"left join\". \n",
    "    trips_by_date_merged = pd.merge(trips_by_date_new, trips_by_date, how='left', left_index=True, right_index=True, sort=True)\n",
    "    \n",
    "    # Step 5: Replace missing values with zeroes for those dates with no trips\n",
    "    trips_by_date_merged['num_trips'] = trips_by_date_merged['num_trips'].fillna(0)\n",
    "    \n",
    "    # Compute the average\n",
    "    mean_trips = trips_by_date_merged['num_trips'].mean()\n",
    "    tot_tripdates = trips_by_date_merged['num_trips'].count() \n",
    "    num_days = (trips_by_date_merged.index.max() - trips_by_date_merged.index.min()).days + 1\n",
    "\n",
    "    print(\"The mean number of trips per day is {:.2f} out of  {} tripdates.\".format(mean_trips, tot_tripdates))\n",
    "    print(f\"Date range is from {trips_by_date.index.min()} : {trips_by_date.index.max()} \")\n",
    "    print(\"There are {} days in the date range.\".format(num_days))\n",
    "    \n",
    "    return trips_by_date_merged\n",
    "    \n",
    "    \n",
    "    "
   ]
  },
  {
   "cell_type": "code",
   "execution_count": 60,
   "metadata": {},
   "outputs": [
    {
     "name": "stdout",
     "output_type": "stream",
     "text": [
      "The mean number of trips per day is 3.11 out of  1307 tripdates.\n",
      "Date range is from 2015-05-31 : 2018-12-27 \n",
      "There are 1307 days in the date range.\n"
     ]
    }
   ],
   "source": [
    "i = daily_avg_trips_new('1019')"
   ]
  },
  {
   "cell_type": "code",
   "execution_count": 61,
   "metadata": {},
   "outputs": [
    {
     "name": "stdout",
     "output_type": "stream",
     "text": [
      "The mean number of trips per day is 4.27 out of 953 tripdates.\n",
      "Date range is from 2015-05-31 : 2018-12-27 \n",
      "There are 1307 days in the date range.\n"
     ]
    }
   ],
   "source": [
    "u = daily_avg_trips('1019')"
   ]
  },
  {
   "cell_type": "code",
   "execution_count": null,
   "metadata": {},
   "outputs": [],
   "source": []
  }
 ],
 "metadata": {
  "kernelspec": {
   "display_name": "Python 3",
   "language": "python",
   "name": "python3"
  },
  "language_info": {
   "codemirror_mode": {
    "name": "ipython",
    "version": 3
   },
   "file_extension": ".py",
   "mimetype": "text/x-python",
   "name": "python",
   "nbconvert_exporter": "python",
   "pygments_lexer": "ipython3",
   "version": "3.7.3"
  }
 },
 "nbformat": 4,
 "nbformat_minor": 2
}

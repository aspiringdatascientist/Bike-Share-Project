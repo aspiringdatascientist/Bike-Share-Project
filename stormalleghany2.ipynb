{
 "cells": [
  {
   "cell_type": "code",
   "execution_count": 12,
   "metadata": {},
   "outputs": [],
   "source": [
    "# import necessary packages\n",
    "import pandas as pd\n",
    "from datetime import datetime as dt\n",
    "from time import strptime\n",
    "import datetime"
   ]
  },
  {
   "cell_type": "code",
   "execution_count": 13,
   "metadata": {},
   "outputs": [],
   "source": [
    "#csv file\n",
    "j = pd.read_csv('storm_data_AlleghanycountyPittsburgh_results.csv', parse_dates = True, header = 0)"
   ]
  },
  {
   "cell_type": "code",
   "execution_count": 14,
   "metadata": {},
   "outputs": [
    {
     "data": {
      "text/plain": [
       "Index(['EVENT_ID', 'CZ_NAME_STR', 'BEGIN_LOCATION', 'BEGIN_DATE', 'BEGIN_TIME',\n",
       "       'EVENT_TYPE', 'MAGNITUDE', 'TOR_F_SCALE', 'DEATHS_DIRECT',\n",
       "       'INJURIES_DIRECT', 'DAMAGE_PROPERTY_NUM', 'DAMAGE_CROPS_NUM',\n",
       "       'STATE_ABBR', 'CZ_TIMEZONE', 'MAGNITUDE_TYPE', 'EPISODE_ID', 'CZ_TYPE',\n",
       "       'CZ_FIPS', 'WFO', 'INJURIES_INDIRECT', 'DEATHS_INDIRECT', 'SOURCE',\n",
       "       'FLOOD_CAUSE', 'TOR_LENGTH', 'TOR_WIDTH', 'BEGIN_RANGE',\n",
       "       'BEGIN_AZIMUTH', 'END_RANGE', 'END_AZIMUTH', 'END_LOCATION',\n",
       "       'BEGIN_LAT', 'BEGIN_LON', 'END_LAT', 'END_LON', 'EVENT_NARRATIVE',\n",
       "       'EPISODE_NARRATIVE', 'ABSOLUTE_ROWNUMBER'],\n",
       "      dtype='object')"
      ]
     },
     "execution_count": 14,
     "metadata": {},
     "output_type": "execute_result"
    }
   ],
   "source": [
    "#Analyzing columns\n",
    "j.columns\n"
   ]
  },
  {
   "cell_type": "code",
   "execution_count": 15,
   "metadata": {},
   "outputs": [
    {
     "data": {
      "text/plain": [
       "Thunderstorm Wind    124\n",
       "Flash Flood          119\n",
       "Hail                  42\n",
       "Flood                 35\n",
       "Heavy Rain            14\n",
       "Winter Weather         6\n",
       "Strong Wind            3\n",
       "Cold/Wind Chill        2\n",
       "Heavy Snow             2\n",
       "Winter Storm           2\n",
       "Debris Flow            1\n",
       "Ice Storm              1\n",
       "Tornado                1\n",
       "Lightning              1\n",
       "Name: EVENT_TYPE, dtype: int64"
      ]
     },
     "execution_count": 15,
     "metadata": {},
     "output_type": "execute_result"
    }
   ],
   "source": [
    "j['EVENT_TYPE'].value_counts()"
   ]
  },
  {
   "cell_type": "code",
   "execution_count": 16,
   "metadata": {},
   "outputs": [
    {
     "name": "stdout",
     "output_type": "stream",
     "text": [
      "<class 'pandas.core.frame.DataFrame'>\n",
      "RangeIndex: 353 entries, 0 to 352\n",
      "Data columns (total 37 columns):\n",
      "EVENT_ID               353 non-null int64\n",
      "CZ_NAME_STR            353 non-null object\n",
      "BEGIN_LOCATION         353 non-null object\n",
      "BEGIN_DATE             353 non-null object\n",
      "BEGIN_TIME             353 non-null int64\n",
      "EVENT_TYPE             353 non-null object\n",
      "MAGNITUDE              353 non-null object\n",
      "TOR_F_SCALE            353 non-null object\n",
      "DEATHS_DIRECT          353 non-null int64\n",
      "INJURIES_DIRECT        353 non-null int64\n",
      "DAMAGE_PROPERTY_NUM    353 non-null int64\n",
      "DAMAGE_CROPS_NUM       353 non-null int64\n",
      "STATE_ABBR             353 non-null object\n",
      "CZ_TIMEZONE            353 non-null object\n",
      "MAGNITUDE_TYPE         353 non-null object\n",
      "EPISODE_ID             353 non-null int64\n",
      "CZ_TYPE                353 non-null object\n",
      "CZ_FIPS                353 non-null int64\n",
      "WFO                    353 non-null object\n",
      "INJURIES_INDIRECT      353 non-null int64\n",
      "DEATHS_INDIRECT        353 non-null int64\n",
      "SOURCE                 353 non-null object\n",
      "FLOOD_CAUSE            353 non-null object\n",
      "TOR_LENGTH             353 non-null object\n",
      "TOR_WIDTH              353 non-null object\n",
      "BEGIN_RANGE            353 non-null object\n",
      "BEGIN_AZIMUTH          353 non-null object\n",
      "END_RANGE              353 non-null object\n",
      "END_AZIMUTH            353 non-null object\n",
      "END_LOCATION           353 non-null object\n",
      "BEGIN_LAT              353 non-null object\n",
      "BEGIN_LON              353 non-null object\n",
      "END_LAT                353 non-null object\n",
      "END_LON                353 non-null object\n",
      "EVENT_NARRATIVE        306 non-null object\n",
      "EPISODE_NARRATIVE      353 non-null object\n",
      "ABSOLUTE_ROWNUMBER     353 non-null int64\n",
      "dtypes: int64(11), object(26)\n",
      "memory usage: 102.1+ KB\n"
     ]
    }
   ],
   "source": [
    "j.info()"
   ]
  },
  {
   "cell_type": "code",
   "execution_count": 17,
   "metadata": {},
   "outputs": [],
   "source": [
    "#Since time is in 24 hr integer format, I am first covering it as string\n",
    "j[\"time\"] = j[\"BEGIN_TIME\"].astype(str)"
   ]
  },
  {
   "cell_type": "code",
   "execution_count": 22,
   "metadata": {},
   "outputs": [],
   "source": [
    "# Create a function to convert 3 digit strings to 4 digit strings and place \":\" after 2 digits\n",
    "def zst(i):\n",
    "    i = i.zfill(4)\n",
    "    h = i[:2] + \":\" +i[2:]\n",
    "    return h\n",
    "    \n",
    "j[\"t\"]   = j.time.map(zst)"
   ]
  },
  {
   "cell_type": "code",
   "execution_count": 23,
   "metadata": {},
   "outputs": [
    {
     "ename": "ValueError",
     "evalue": "cannot insert DateTime, already exists",
     "output_type": "error",
     "traceback": [
      "\u001b[1;31m---------------------------------------------------------------------------\u001b[0m",
      "\u001b[1;31mValueError\u001b[0m                                Traceback (most recent call last)",
      "\u001b[1;32m<ipython-input-23-afb3f800b0fa>\u001b[0m in \u001b[0;36m<module>\u001b[1;34m\u001b[0m\n\u001b[0;32m      5\u001b[0m \u001b[0mfmted\u001b[0m \u001b[1;33m=\u001b[0m \u001b[1;33m[\u001b[0m\u001b[0melem\u001b[0m\u001b[1;33m.\u001b[0m\u001b[0mstrftime\u001b[0m\u001b[1;33m(\u001b[0m\u001b[1;34m'%Y-%m-%d %H:%M:%S'\u001b[0m\u001b[1;33m)\u001b[0m \u001b[1;32mfor\u001b[0m \u001b[0melem\u001b[0m \u001b[1;32min\u001b[0m \u001b[0mdts\u001b[0m\u001b[1;33m]\u001b[0m\u001b[1;33m\u001b[0m\u001b[1;33m\u001b[0m\u001b[0m\n\u001b[0;32m      6\u001b[0m \u001b[1;33m\u001b[0m\u001b[0m\n\u001b[1;32m----> 7\u001b[1;33m \u001b[0mj\u001b[0m\u001b[1;33m.\u001b[0m\u001b[0minsert\u001b[0m\u001b[1;33m(\u001b[0m\u001b[1;36m0\u001b[0m\u001b[1;33m,\u001b[0m \u001b[1;34m'DateTime'\u001b[0m\u001b[1;33m,\u001b[0m \u001b[0mfmted\u001b[0m\u001b[1;33m)\u001b[0m\u001b[1;33m\u001b[0m\u001b[1;33m\u001b[0m\u001b[0m\n\u001b[0m",
      "\u001b[1;32m~\\AppData\\Local\\Continuum\\anaconda3\\lib\\site-packages\\pandas\\core\\frame.py\u001b[0m in \u001b[0;36minsert\u001b[1;34m(self, loc, column, value, allow_duplicates)\u001b[0m\n\u001b[0;32m   3220\u001b[0m         \u001b[0mvalue\u001b[0m \u001b[1;33m=\u001b[0m \u001b[0mself\u001b[0m\u001b[1;33m.\u001b[0m\u001b[0m_sanitize_column\u001b[0m\u001b[1;33m(\u001b[0m\u001b[0mcolumn\u001b[0m\u001b[1;33m,\u001b[0m \u001b[0mvalue\u001b[0m\u001b[1;33m,\u001b[0m \u001b[0mbroadcast\u001b[0m\u001b[1;33m=\u001b[0m\u001b[1;32mFalse\u001b[0m\u001b[1;33m)\u001b[0m\u001b[1;33m\u001b[0m\u001b[1;33m\u001b[0m\u001b[0m\n\u001b[0;32m   3221\u001b[0m         self._data.insert(loc, column, value,\n\u001b[1;32m-> 3222\u001b[1;33m                           allow_duplicates=allow_duplicates)\n\u001b[0m\u001b[0;32m   3223\u001b[0m \u001b[1;33m\u001b[0m\u001b[0m\n\u001b[0;32m   3224\u001b[0m     \u001b[1;32mdef\u001b[0m \u001b[0massign\u001b[0m\u001b[1;33m(\u001b[0m\u001b[0mself\u001b[0m\u001b[1;33m,\u001b[0m \u001b[1;33m**\u001b[0m\u001b[0mkwargs\u001b[0m\u001b[1;33m)\u001b[0m\u001b[1;33m:\u001b[0m\u001b[1;33m\u001b[0m\u001b[1;33m\u001b[0m\u001b[0m\n",
      "\u001b[1;32m~\\AppData\\Local\\Continuum\\anaconda3\\lib\\site-packages\\pandas\\core\\internals.py\u001b[0m in \u001b[0;36minsert\u001b[1;34m(self, loc, item, value, allow_duplicates)\u001b[0m\n\u001b[0;32m   4336\u001b[0m         \u001b[1;32mif\u001b[0m \u001b[1;32mnot\u001b[0m \u001b[0mallow_duplicates\u001b[0m \u001b[1;32mand\u001b[0m \u001b[0mitem\u001b[0m \u001b[1;32min\u001b[0m \u001b[0mself\u001b[0m\u001b[1;33m.\u001b[0m\u001b[0mitems\u001b[0m\u001b[1;33m:\u001b[0m\u001b[1;33m\u001b[0m\u001b[1;33m\u001b[0m\u001b[0m\n\u001b[0;32m   4337\u001b[0m             \u001b[1;31m# Should this be a different kind of error??\u001b[0m\u001b[1;33m\u001b[0m\u001b[1;33m\u001b[0m\u001b[1;33m\u001b[0m\u001b[0m\n\u001b[1;32m-> 4338\u001b[1;33m             \u001b[1;32mraise\u001b[0m \u001b[0mValueError\u001b[0m\u001b[1;33m(\u001b[0m\u001b[1;34m'cannot insert {}, already exists'\u001b[0m\u001b[1;33m.\u001b[0m\u001b[0mformat\u001b[0m\u001b[1;33m(\u001b[0m\u001b[0mitem\u001b[0m\u001b[1;33m)\u001b[0m\u001b[1;33m)\u001b[0m\u001b[1;33m\u001b[0m\u001b[1;33m\u001b[0m\u001b[0m\n\u001b[0m\u001b[0;32m   4339\u001b[0m \u001b[1;33m\u001b[0m\u001b[0m\n\u001b[0;32m   4340\u001b[0m         \u001b[1;32mif\u001b[0m \u001b[1;32mnot\u001b[0m \u001b[0misinstance\u001b[0m\u001b[1;33m(\u001b[0m\u001b[0mloc\u001b[0m\u001b[1;33m,\u001b[0m \u001b[0mint\u001b[0m\u001b[1;33m)\u001b[0m\u001b[1;33m:\u001b[0m\u001b[1;33m\u001b[0m\u001b[1;33m\u001b[0m\u001b[0m\n",
      "\u001b[1;31mValueError\u001b[0m: cannot insert DateTime, already exists"
     ]
    }
   ],
   "source": [
    "#Converting string format of time to datetime object\n",
    "dts = [datetime.datetime.strptime(elem, '%m/%d/%Y %H:%M') \n",
    "       for elem in j['BEGIN_DATE'] + \" \"+j['t']]\n",
    "\n",
    "fmted = [elem.strftime('%Y-%m-%d %H:%M:%S') for elem in dts]\n",
    "\n",
    "j.insert(0, 'DateTime', fmted)"
   ]
  },
  {
   "cell_type": "code",
   "execution_count": 24,
   "metadata": {},
   "outputs": [
    {
     "data": {
      "text/html": [
       "<div>\n",
       "<style scoped>\n",
       "    .dataframe tbody tr th:only-of-type {\n",
       "        vertical-align: middle;\n",
       "    }\n",
       "\n",
       "    .dataframe tbody tr th {\n",
       "        vertical-align: top;\n",
       "    }\n",
       "\n",
       "    .dataframe thead th {\n",
       "        text-align: right;\n",
       "    }\n",
       "</style>\n",
       "<table border=\"1\" class=\"dataframe\">\n",
       "  <thead>\n",
       "    <tr style=\"text-align: right;\">\n",
       "      <th></th>\n",
       "      <th>DateTime</th>\n",
       "      <th>EVENT_ID</th>\n",
       "      <th>CZ_NAME_STR</th>\n",
       "      <th>BEGIN_LOCATION</th>\n",
       "      <th>BEGIN_DATE</th>\n",
       "      <th>BEGIN_TIME</th>\n",
       "      <th>EVENT_TYPE</th>\n",
       "      <th>MAGNITUDE</th>\n",
       "      <th>TOR_F_SCALE</th>\n",
       "      <th>DEATHS_DIRECT</th>\n",
       "      <th>...</th>\n",
       "      <th>END_LOCATION</th>\n",
       "      <th>BEGIN_LAT</th>\n",
       "      <th>BEGIN_LON</th>\n",
       "      <th>END_LAT</th>\n",
       "      <th>END_LON</th>\n",
       "      <th>EVENT_NARRATIVE</th>\n",
       "      <th>EPISODE_NARRATIVE</th>\n",
       "      <th>ABSOLUTE_ROWNUMBER</th>\n",
       "      <th>time</th>\n",
       "      <th>t</th>\n",
       "    </tr>\n",
       "  </thead>\n",
       "  <tbody>\n",
       "    <tr>\n",
       "      <th>351</th>\n",
       "      <td>2018-10-04 17:30:00</td>\n",
       "      <td>788791</td>\n",
       "      <td>ALLEGHENY CO.</td>\n",
       "      <td>MUNHALL</td>\n",
       "      <td>10/04/2018</td>\n",
       "      <td>1730</td>\n",
       "      <td>Flash Flood</td>\n",
       "      <td></td>\n",
       "      <td></td>\n",
       "      <td>0</td>\n",
       "      <td>...</td>\n",
       "      <td>MUNHALL</td>\n",
       "      <td>40.39</td>\n",
       "      <td>-79.93</td>\n",
       "      <td>40.3872</td>\n",
       "      <td>-79.9306</td>\n",
       "      <td>County 911 officials reported a large landslid...</td>\n",
       "      <td>A cold front dropped across Pennsylvania durin...</td>\n",
       "      <td>352</td>\n",
       "      <td>1730</td>\n",
       "      <td>17:30</td>\n",
       "    </tr>\n",
       "    <tr>\n",
       "      <th>352</th>\n",
       "      <td>2018-11-14 14:47:00</td>\n",
       "      <td>794367</td>\n",
       "      <td>ALLEGHENY (ZONE)</td>\n",
       "      <td></td>\n",
       "      <td>11/14/2018</td>\n",
       "      <td>1447</td>\n",
       "      <td>Winter Weather</td>\n",
       "      <td></td>\n",
       "      <td></td>\n",
       "      <td>0</td>\n",
       "      <td>...</td>\n",
       "      <td></td>\n",
       "      <td></td>\n",
       "      <td></td>\n",
       "      <td></td>\n",
       "      <td></td>\n",
       "      <td>The NWS Pittsburgh office has light icing in p...</td>\n",
       "      <td>Cold surface temperatures were already in plac...</td>\n",
       "      <td>353</td>\n",
       "      <td>1447</td>\n",
       "      <td>14:47</td>\n",
       "    </tr>\n",
       "  </tbody>\n",
       "</table>\n",
       "<p>2 rows × 40 columns</p>\n",
       "</div>"
      ],
      "text/plain": [
       "                DateTime  EVENT_ID       CZ_NAME_STR BEGIN_LOCATION  \\\n",
       "351  2018-10-04 17:30:00    788791     ALLEGHENY CO.        MUNHALL   \n",
       "352  2018-11-14 14:47:00    794367  ALLEGHENY (ZONE)                  \n",
       "\n",
       "     BEGIN_DATE  BEGIN_TIME      EVENT_TYPE MAGNITUDE TOR_F_SCALE  \\\n",
       "351  10/04/2018        1730     Flash Flood                         \n",
       "352  11/14/2018        1447  Winter Weather                         \n",
       "\n",
       "     DEATHS_DIRECT  ...    END_LOCATION  BEGIN_LAT  BEGIN_LON  END_LAT  \\\n",
       "351              0  ...         MUNHALL      40.39     -79.93  40.3872   \n",
       "352              0  ...                                                  \n",
       "\n",
       "      END_LON                                    EVENT_NARRATIVE  \\\n",
       "351  -79.9306  County 911 officials reported a large landslid...   \n",
       "352            The NWS Pittsburgh office has light icing in p...   \n",
       "\n",
       "                                     EPISODE_NARRATIVE ABSOLUTE_ROWNUMBER  \\\n",
       "351  A cold front dropped across Pennsylvania durin...                352   \n",
       "352  Cold surface temperatures were already in plac...                353   \n",
       "\n",
       "     time      t  \n",
       "351  1730  17:30  \n",
       "352  1447  14:47  \n",
       "\n",
       "[2 rows x 40 columns]"
      ]
     },
     "execution_count": 24,
     "metadata": {},
     "output_type": "execute_result"
    }
   ],
   "source": [
    "j.tail(2)"
   ]
  },
  {
   "cell_type": "code",
   "execution_count": 25,
   "metadata": {},
   "outputs": [],
   "source": [
    "# I don't need other datafields and I have selected only the necessary columns\n",
    "k = j[[\"DateTime\",\"EVENT_TYPE\",\"BEGIN_DATE\"]]"
   ]
  },
  {
   "cell_type": "code",
   "execution_count": 26,
   "metadata": {},
   "outputs": [
    {
     "data": {
      "text/html": [
       "<div>\n",
       "<style scoped>\n",
       "    .dataframe tbody tr th:only-of-type {\n",
       "        vertical-align: middle;\n",
       "    }\n",
       "\n",
       "    .dataframe tbody tr th {\n",
       "        vertical-align: top;\n",
       "    }\n",
       "\n",
       "    .dataframe thead th {\n",
       "        text-align: right;\n",
       "    }\n",
       "</style>\n",
       "<table border=\"1\" class=\"dataframe\">\n",
       "  <thead>\n",
       "    <tr style=\"text-align: right;\">\n",
       "      <th></th>\n",
       "      <th>DateTime</th>\n",
       "      <th>EVENT_TYPE</th>\n",
       "      <th>BEGIN_DATE</th>\n",
       "    </tr>\n",
       "  </thead>\n",
       "  <tbody>\n",
       "    <tr>\n",
       "      <th>0</th>\n",
       "      <td>2015-04-09 16:59:00</td>\n",
       "      <td>Thunderstorm Wind</td>\n",
       "      <td>04/09/2015</td>\n",
       "    </tr>\n",
       "    <tr>\n",
       "      <th>1</th>\n",
       "      <td>2015-04-09 17:05:00</td>\n",
       "      <td>Thunderstorm Wind</td>\n",
       "      <td>04/09/2015</td>\n",
       "    </tr>\n",
       "    <tr>\n",
       "      <th>2</th>\n",
       "      <td>2015-04-09 17:07:00</td>\n",
       "      <td>Thunderstorm Wind</td>\n",
       "      <td>04/09/2015</td>\n",
       "    </tr>\n",
       "    <tr>\n",
       "      <th>3</th>\n",
       "      <td>2015-04-09 17:13:00</td>\n",
       "      <td>Thunderstorm Wind</td>\n",
       "      <td>04/09/2015</td>\n",
       "    </tr>\n",
       "    <tr>\n",
       "      <th>4</th>\n",
       "      <td>2015-04-09 17:15:00</td>\n",
       "      <td>Thunderstorm Wind</td>\n",
       "      <td>04/09/2015</td>\n",
       "    </tr>\n",
       "  </tbody>\n",
       "</table>\n",
       "</div>"
      ],
      "text/plain": [
       "              DateTime         EVENT_TYPE  BEGIN_DATE\n",
       "0  2015-04-09 16:59:00  Thunderstorm Wind  04/09/2015\n",
       "1  2015-04-09 17:05:00  Thunderstorm Wind  04/09/2015\n",
       "2  2015-04-09 17:07:00  Thunderstorm Wind  04/09/2015\n",
       "3  2015-04-09 17:13:00  Thunderstorm Wind  04/09/2015\n",
       "4  2015-04-09 17:15:00  Thunderstorm Wind  04/09/2015"
      ]
     },
     "execution_count": 26,
     "metadata": {},
     "output_type": "execute_result"
    }
   ],
   "source": [
    "#Analyzing first few rows \n",
    "k.head()"
   ]
  },
  {
   "cell_type": "code",
   "execution_count": 84,
   "metadata": {},
   "outputs": [],
   "source": [
    "#Exporting it as csv file\n",
    "k.to_csv(\"Pi_storm.csv\",index = 0)"
   ]
  },
  {
   "cell_type": "code",
   "execution_count": null,
   "metadata": {},
   "outputs": [],
   "source": []
  }
 ],
 "metadata": {
  "kernelspec": {
   "display_name": "Python 3",
   "language": "python",
   "name": "python3"
  },
  "language_info": {
   "codemirror_mode": {
    "name": "ipython",
    "version": 3
   },
   "file_extension": ".py",
   "mimetype": "text/x-python",
   "name": "python",
   "nbconvert_exporter": "python",
   "pygments_lexer": "ipython3",
   "version": "3.7.1"
  }
 },
 "nbformat": 4,
 "nbformat_minor": 2
}

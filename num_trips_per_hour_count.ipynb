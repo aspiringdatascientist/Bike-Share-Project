{
 "cells": [
  {
   "cell_type": "markdown",
   "metadata": {},
   "source": [
    "What is the average number of bike rentals per hour in individual stations?\n",
    "\n",
    "We still have to create a dependent variable(number of trips per hour for each station ) column in our dataframe. To do that, we can then group by station_id , start_time and hour and then count the number of trips per hour. Then we can simply do a merge on the two dataframes. Let's add a num_trip_hr column as below:"
   ]
  },
  {
   "cell_type": "code",
   "execution_count": null,
   "metadata": {},
   "outputs": [],
   "source": [
    "#import necessary libraries\n",
    "import pandas as pd\n",
    "import numpy as np\n",
    "import seaborn as sns\n",
    "import matplotlib.pyplot as plt"
   ]
  },
  {
   "cell_type": "code",
   "execution_count": 295,
   "metadata": {},
   "outputs": [],
   "source": [
    "#read the csv file\n",
    "trip = pd.read_csv(\"Healthy_rides_data.csv\", parse_dates = [\"start_time\",\"stop_time\"])"
   ]
  },
  {
   "cell_type": "code",
   "execution_count": 314,
   "metadata": {},
   "outputs": [
    {
     "data": {
      "text/html": [
       "<div>\n",
       "<style scoped>\n",
       "    .dataframe tbody tr th:only-of-type {\n",
       "        vertical-align: middle;\n",
       "    }\n",
       "\n",
       "    .dataframe tbody tr th {\n",
       "        vertical-align: top;\n",
       "    }\n",
       "\n",
       "    .dataframe thead th {\n",
       "        text-align: right;\n",
       "    }\n",
       "</style>\n",
       "<table border=\"1\" class=\"dataframe\">\n",
       "  <thead>\n",
       "    <tr style=\"text-align: right;\">\n",
       "      <th></th>\n",
       "      <th>start_time</th>\n",
       "      <th>trip_id</th>\n",
       "      <th>stop_time</th>\n",
       "      <th>bike_id</th>\n",
       "      <th>trip_duration</th>\n",
       "      <th>from_station_id</th>\n",
       "      <th>from_station_name</th>\n",
       "      <th>to_station_id</th>\n",
       "      <th>station_name</th>\n",
       "      <th>user_type</th>\n",
       "      <th>...</th>\n",
       "      <th>event_type</th>\n",
       "      <th>rain</th>\n",
       "      <th>wind</th>\n",
       "      <th>weather</th>\n",
       "      <th>hour</th>\n",
       "      <th>month</th>\n",
       "      <th>speed</th>\n",
       "      <th>day_of_the_week</th>\n",
       "      <th>tripdate</th>\n",
       "      <th>num_trips_day</th>\n",
       "    </tr>\n",
       "  </thead>\n",
       "  <tbody>\n",
       "    <tr>\n",
       "      <th>0</th>\n",
       "      <td>2015-05-31 07:18:00</td>\n",
       "      <td>10677999</td>\n",
       "      <td>2015-05-31 07:52:00</td>\n",
       "      <td>70381</td>\n",
       "      <td>2018</td>\n",
       "      <td>1019</td>\n",
       "      <td>42nd St &amp; Butler St</td>\n",
       "      <td>1001</td>\n",
       "      <td>Forbes Ave &amp; Market Square</td>\n",
       "      <td>Subscriber</td>\n",
       "      <td>...</td>\n",
       "      <td>N</td>\n",
       "      <td>0.37</td>\n",
       "      <td>8.95</td>\n",
       "      <td>good</td>\n",
       "      <td>7</td>\n",
       "      <td>5</td>\n",
       "      <td>5.41</td>\n",
       "      <td>Sunday</td>\n",
       "      <td>2015-05-31</td>\n",
       "      <td>158</td>\n",
       "    </tr>\n",
       "    <tr>\n",
       "      <th>1</th>\n",
       "      <td>2015-05-31 07:25:00</td>\n",
       "      <td>10678335</td>\n",
       "      <td>2015-05-31 07:57:00</td>\n",
       "      <td>70331</td>\n",
       "      <td>1900</td>\n",
       "      <td>1005</td>\n",
       "      <td>Forbes Ave &amp; Grant St</td>\n",
       "      <td>1000</td>\n",
       "      <td>Liberty Ave &amp; Stanwix St</td>\n",
       "      <td>Customer</td>\n",
       "      <td>...</td>\n",
       "      <td>N</td>\n",
       "      <td>0.37</td>\n",
       "      <td>8.95</td>\n",
       "      <td>good</td>\n",
       "      <td>7</td>\n",
       "      <td>5</td>\n",
       "      <td>0.80</td>\n",
       "      <td>Sunday</td>\n",
       "      <td>2015-05-31</td>\n",
       "      <td>158</td>\n",
       "    </tr>\n",
       "  </tbody>\n",
       "</table>\n",
       "<p>2 rows × 28 columns</p>\n",
       "</div>"
      ],
      "text/plain": [
       "           start_time   trip_id           stop_time  bike_id  trip_duration  \\\n",
       "0 2015-05-31 07:18:00  10677999 2015-05-31 07:52:00    70381           2018   \n",
       "1 2015-05-31 07:25:00  10678335 2015-05-31 07:57:00    70331           1900   \n",
       "\n",
       "   from_station_id      from_station_name  to_station_id  \\\n",
       "0             1019    42nd St & Butler St           1001   \n",
       "1             1005  Forbes Ave & Grant St           1000   \n",
       "\n",
       "                 station_name   user_type  ...  event_type  rain  wind  \\\n",
       "0  Forbes Ave & Market Square  Subscriber  ...           N  0.37  8.95   \n",
       "1    Liberty Ave & Stanwix St    Customer  ...           N  0.37  8.95   \n",
       "\n",
       "   weather  hour  month  speed  day_of_the_week    tripdate  num_trips_day  \n",
       "0     good     7      5   5.41           Sunday  2015-05-31            158  \n",
       "1     good     7      5   0.80           Sunday  2015-05-31            158  \n",
       "\n",
       "[2 rows x 28 columns]"
      ]
     },
     "execution_count": 314,
     "metadata": {},
     "output_type": "execute_result"
    }
   ],
   "source": [
    "trip.head(2)"
   ]
  },
  {
   "cell_type": "code",
   "execution_count": 315,
   "metadata": {},
   "outputs": [
    {
     "data": {
      "text/plain": [
       "(163377, 28)"
      ]
     },
     "execution_count": 315,
     "metadata": {},
     "output_type": "execute_result"
    }
   ],
   "source": [
    "#We already have the number of trips per day column(num_trips_day)\n",
    "trip.sort_values(\"start_time\")\n",
    "trip.shape"
   ]
  },
  {
   "cell_type": "code",
   "execution_count": 316,
   "metadata": {},
   "outputs": [
    {
     "data": {
      "text/html": [
       "<div>\n",
       "<style scoped>\n",
       "    .dataframe tbody tr th:only-of-type {\n",
       "        vertical-align: middle;\n",
       "    }\n",
       "\n",
       "    .dataframe tbody tr th {\n",
       "        vertical-align: top;\n",
       "    }\n",
       "\n",
       "    .dataframe thead th {\n",
       "        text-align: right;\n",
       "    }\n",
       "</style>\n",
       "<table border=\"1\" class=\"dataframe\">\n",
       "  <thead>\n",
       "    <tr style=\"text-align: right;\">\n",
       "      <th></th>\n",
       "      <th></th>\n",
       "      <th></th>\n",
       "      <th>num_trips_hr</th>\n",
       "    </tr>\n",
       "    <tr>\n",
       "      <th>from_station_id</th>\n",
       "      <th>start_time</th>\n",
       "      <th>hour</th>\n",
       "      <th></th>\n",
       "    </tr>\n",
       "  </thead>\n",
       "  <tbody>\n",
       "    <tr>\n",
       "      <th rowspan=\"5\" valign=\"top\">1000</th>\n",
       "      <th>2015-05-31 09:31:00</th>\n",
       "      <th>9</th>\n",
       "      <td>1</td>\n",
       "    </tr>\n",
       "    <tr>\n",
       "      <th>2015-05-31 09:50:00</th>\n",
       "      <th>9</th>\n",
       "      <td>1</td>\n",
       "    </tr>\n",
       "    <tr>\n",
       "      <th>2015-05-31 09:51:00</th>\n",
       "      <th>9</th>\n",
       "      <td>2</td>\n",
       "    </tr>\n",
       "    <tr>\n",
       "      <th>2015-05-31 10:07:00</th>\n",
       "      <th>10</th>\n",
       "      <td>1</td>\n",
       "    </tr>\n",
       "    <tr>\n",
       "      <th>2015-05-31 11:18:00</th>\n",
       "      <th>11</th>\n",
       "      <td>2</td>\n",
       "    </tr>\n",
       "  </tbody>\n",
       "</table>\n",
       "</div>"
      ],
      "text/plain": [
       "                                          num_trips_hr\n",
       "from_station_id start_time          hour              \n",
       "1000            2015-05-31 09:31:00 9                1\n",
       "                2015-05-31 09:50:00 9                1\n",
       "                2015-05-31 09:51:00 9                2\n",
       "                2015-05-31 10:07:00 10               1\n",
       "                2015-05-31 11:18:00 11               2"
      ]
     },
     "execution_count": 316,
     "metadata": {},
     "output_type": "execute_result"
    }
   ],
   "source": [
    "# Create a Group by object \n",
    "grp_date = trip.groupby(by = [ 'from_station_id','start_time','hour'])\n",
    "\n",
    "# Compute number of trips by date and check out the result\n",
    "trips_by_hour = pd.DataFrame(grp_date.size(), columns=['num_trips_hr'])\n",
    "\n",
    "trips_by_hour.head()"
   ]
  },
  {
   "cell_type": "code",
   "execution_count": 317,
   "metadata": {},
   "outputs": [
    {
     "data": {
      "text/html": [
       "<div>\n",
       "<style scoped>\n",
       "    .dataframe tbody tr th:only-of-type {\n",
       "        vertical-align: middle;\n",
       "    }\n",
       "\n",
       "    .dataframe tbody tr th {\n",
       "        vertical-align: top;\n",
       "    }\n",
       "\n",
       "    .dataframe thead th {\n",
       "        text-align: right;\n",
       "    }\n",
       "</style>\n",
       "<table border=\"1\" class=\"dataframe\">\n",
       "  <thead>\n",
       "    <tr style=\"text-align: right;\">\n",
       "      <th></th>\n",
       "      <th>from_station_id</th>\n",
       "      <th>hour</th>\n",
       "      <th>num_trips_hr</th>\n",
       "    </tr>\n",
       "    <tr>\n",
       "      <th>start_time</th>\n",
       "      <th></th>\n",
       "      <th></th>\n",
       "      <th></th>\n",
       "    </tr>\n",
       "  </thead>\n",
       "  <tbody>\n",
       "    <tr>\n",
       "      <th>2015-05-31 09:31:00</th>\n",
       "      <td>1000</td>\n",
       "      <td>9</td>\n",
       "      <td>1</td>\n",
       "    </tr>\n",
       "    <tr>\n",
       "      <th>2015-05-31 09:50:00</th>\n",
       "      <td>1000</td>\n",
       "      <td>9</td>\n",
       "      <td>1</td>\n",
       "    </tr>\n",
       "    <tr>\n",
       "      <th>2015-05-31 09:51:00</th>\n",
       "      <td>1000</td>\n",
       "      <td>9</td>\n",
       "      <td>2</td>\n",
       "    </tr>\n",
       "    <tr>\n",
       "      <th>2015-05-31 10:07:00</th>\n",
       "      <td>1000</td>\n",
       "      <td>10</td>\n",
       "      <td>1</td>\n",
       "    </tr>\n",
       "    <tr>\n",
       "      <th>2015-05-31 11:18:00</th>\n",
       "      <td>1000</td>\n",
       "      <td>11</td>\n",
       "      <td>2</td>\n",
       "    </tr>\n",
       "  </tbody>\n",
       "</table>\n",
       "</div>"
      ],
      "text/plain": [
       "                     from_station_id  hour  num_trips_hr\n",
       "start_time                                              \n",
       "2015-05-31 09:31:00             1000     9             1\n",
       "2015-05-31 09:50:00             1000     9             1\n",
       "2015-05-31 09:51:00             1000     9             2\n",
       "2015-05-31 10:07:00             1000    10             1\n",
       "2015-05-31 11:18:00             1000    11             2"
      ]
     },
     "execution_count": 317,
     "metadata": {},
     "output_type": "execute_result"
    }
   ],
   "source": [
    "trips_by_hour.reset_index(level=[0,2], inplace=True)\n",
    "\n",
    "trips_by_hour.head()"
   ]
  },
  {
   "cell_type": "code",
   "execution_count": 318,
   "metadata": {},
   "outputs": [
    {
     "data": {
      "text/html": [
       "<div>\n",
       "<style scoped>\n",
       "    .dataframe tbody tr th:only-of-type {\n",
       "        vertical-align: middle;\n",
       "    }\n",
       "\n",
       "    .dataframe tbody tr th {\n",
       "        vertical-align: top;\n",
       "    }\n",
       "\n",
       "    .dataframe thead th {\n",
       "        text-align: right;\n",
       "    }\n",
       "</style>\n",
       "<table border=\"1\" class=\"dataframe\">\n",
       "  <thead>\n",
       "    <tr style=\"text-align: right;\">\n",
       "      <th></th>\n",
       "      <th>start_time</th>\n",
       "      <th>from_station_id</th>\n",
       "      <th>hour</th>\n",
       "      <th>num_trips_hr</th>\n",
       "    </tr>\n",
       "  </thead>\n",
       "  <tbody>\n",
       "    <tr>\n",
       "      <th>0</th>\n",
       "      <td>2015-05-31 09:31:00</td>\n",
       "      <td>1000</td>\n",
       "      <td>9</td>\n",
       "      <td>1</td>\n",
       "    </tr>\n",
       "    <tr>\n",
       "      <th>1</th>\n",
       "      <td>2015-05-31 09:50:00</td>\n",
       "      <td>1000</td>\n",
       "      <td>9</td>\n",
       "      <td>1</td>\n",
       "    </tr>\n",
       "    <tr>\n",
       "      <th>2</th>\n",
       "      <td>2015-05-31 09:51:00</td>\n",
       "      <td>1000</td>\n",
       "      <td>9</td>\n",
       "      <td>2</td>\n",
       "    </tr>\n",
       "    <tr>\n",
       "      <th>3</th>\n",
       "      <td>2015-05-31 10:07:00</td>\n",
       "      <td>1000</td>\n",
       "      <td>10</td>\n",
       "      <td>1</td>\n",
       "    </tr>\n",
       "    <tr>\n",
       "      <th>4</th>\n",
       "      <td>2015-05-31 11:18:00</td>\n",
       "      <td>1000</td>\n",
       "      <td>11</td>\n",
       "      <td>2</td>\n",
       "    </tr>\n",
       "  </tbody>\n",
       "</table>\n",
       "</div>"
      ],
      "text/plain": [
       "           start_time  from_station_id  hour  num_trips_hr\n",
       "0 2015-05-31 09:31:00             1000     9             1\n",
       "1 2015-05-31 09:50:00             1000     9             1\n",
       "2 2015-05-31 09:51:00             1000     9             2\n",
       "3 2015-05-31 10:07:00             1000    10             1\n",
       "4 2015-05-31 11:18:00             1000    11             2"
      ]
     },
     "execution_count": 318,
     "metadata": {},
     "output_type": "execute_result"
    }
   ],
   "source": [
    "trips_by_hour.reset_index(level=[0], inplace=True)\n",
    "\n",
    "trips_by_hour.head()"
   ]
  },
  {
   "cell_type": "code",
   "execution_count": 319,
   "metadata": {},
   "outputs": [],
   "source": [
    "#we dont need these duplicate columns anymore\n",
    "trips_by_hour.drop([\"from_station_id\",'hour'], axis = 1,inplace = True)"
   ]
  },
  {
   "cell_type": "code",
   "execution_count": 320,
   "metadata": {},
   "outputs": [
    {
     "data": {
      "text/plain": [
       "(152619, 2)"
      ]
     },
     "execution_count": 320,
     "metadata": {},
     "output_type": "execute_result"
    }
   ],
   "source": [
    "#Sort date values before merging:\n",
    "\n",
    "trips_by_hour.sort_values(\"start_time\")\n",
    "\n",
    "trips_by_hour.shape"
   ]
  },
  {
   "cell_type": "code",
   "execution_count": 321,
   "metadata": {},
   "outputs": [
    {
     "data": {
      "text/plain": [
       "start_time      datetime64[ns]\n",
       "num_trips_hr             int64\n",
       "dtype: object"
      ]
     },
     "execution_count": 321,
     "metadata": {},
     "output_type": "execute_result"
    }
   ],
   "source": [
    "trips_by_hour.dtypes"
   ]
  },
  {
   "cell_type": "code",
   "execution_count": 322,
   "metadata": {},
   "outputs": [],
   "source": [
    "#merge two dataframes\n",
    "df = pd.merge(trip,trips_by_hour , on='start_time')"
   ]
  },
  {
   "cell_type": "code",
   "execution_count": 323,
   "metadata": {},
   "outputs": [
    {
     "data": {
      "text/plain": [
       "1    171685\n",
       "2     20070\n",
       "3      2292\n",
       "4       439\n",
       "5        85\n",
       "6        25\n",
       "7         7\n",
       "Name: num_trips_hr, dtype: int64"
      ]
     },
     "execution_count": 323,
     "metadata": {},
     "output_type": "execute_result"
    }
   ],
   "source": [
    "df['num_trips_hr'].value_counts()"
   ]
  },
  {
   "cell_type": "code",
   "execution_count": 324,
   "metadata": {},
   "outputs": [
    {
     "data": {
      "text/plain": [
       "start_time             0\n",
       "trip_id                0\n",
       "stop_time              0\n",
       "bike_id                0\n",
       "trip_duration          0\n",
       "from_station_id        0\n",
       "from_station_name      0\n",
       "to_station_id          0\n",
       "station_name           0\n",
       "user_type              0\n",
       "TMAX                  28\n",
       "TMIN                  28\n",
       "season                 0\n",
       "holiday                0\n",
       "walk_score             0\n",
       "transit_score          0\n",
       "bike_score             0\n",
       "distance               0\n",
       "event_type             0\n",
       "rain                   0\n",
       "wind                 186\n",
       "weather                0\n",
       "hour                   0\n",
       "month                  0\n",
       "speed                  0\n",
       "day_of_the_week        0\n",
       "tripdate               0\n",
       "num_trips_day          0\n",
       "num_trips_hr           0\n",
       "dtype: int64"
      ]
     },
     "execution_count": 324,
     "metadata": {},
     "output_type": "execute_result"
    }
   ],
   "source": [
    "df.isna().sum()"
   ]
  },
  {
   "cell_type": "code",
   "execution_count": 325,
   "metadata": {},
   "outputs": [],
   "source": [
    "#Since the start date column were in order, I am filling all the null values using forward fill method\n",
    "df[\"TMAX\"] = df[\"TMAX\"].fillna(method='ffill')\n",
    "df[\"TMIN\"] = df[\"TMIN\"].fillna(method='ffill')\n",
    "df[\"wind\"] = df[\"wind\"].fillna(method='ffill')"
   ]
  },
  {
   "cell_type": "code",
   "execution_count": 326,
   "metadata": {},
   "outputs": [
    {
     "data": {
      "text/plain": [
       "start_time           0\n",
       "trip_id              0\n",
       "stop_time            0\n",
       "bike_id              0\n",
       "trip_duration        0\n",
       "from_station_id      0\n",
       "from_station_name    0\n",
       "to_station_id        0\n",
       "station_name         0\n",
       "user_type            0\n",
       "TMAX                 0\n",
       "TMIN                 0\n",
       "season               0\n",
       "holiday              0\n",
       "walk_score           0\n",
       "transit_score        0\n",
       "bike_score           0\n",
       "distance             0\n",
       "event_type           0\n",
       "rain                 0\n",
       "wind                 0\n",
       "weather              0\n",
       "hour                 0\n",
       "month                0\n",
       "speed                0\n",
       "day_of_the_week      0\n",
       "tripdate             0\n",
       "num_trips_day        0\n",
       "num_trips_hr         0\n",
       "dtype: int64"
      ]
     },
     "execution_count": 326,
     "metadata": {},
     "output_type": "execute_result"
    }
   ],
   "source": [
    "df.isna().sum()"
   ]
  },
  {
   "cell_type": "code",
   "execution_count": 327,
   "metadata": {},
   "outputs": [
    {
     "data": {
      "text/plain": [
       "start_time           0\n",
       "trip_id              0\n",
       "stop_time            0\n",
       "bike_id              0\n",
       "trip_duration        0\n",
       "from_station_id      0\n",
       "from_station_name    0\n",
       "to_station_id        0\n",
       "station_name         0\n",
       "user_type            0\n",
       "TMAX                 0\n",
       "TMIN                 0\n",
       "season               0\n",
       "holiday              0\n",
       "walk_score           0\n",
       "transit_score        0\n",
       "bike_score           0\n",
       "distance             0\n",
       "event_type           0\n",
       "rain                 0\n",
       "wind                 0\n",
       "weather              0\n",
       "hour                 0\n",
       "month                0\n",
       "speed                0\n",
       "day_of_the_week      0\n",
       "tripdate             0\n",
       "num_trips_day        0\n",
       "num_trips_hr         0\n",
       "dtype: int64"
      ]
     },
     "execution_count": 327,
     "metadata": {},
     "output_type": "execute_result"
    }
   ],
   "source": [
    "df.isnull().sum()"
   ]
  },
  {
   "cell_type": "code",
   "execution_count": 328,
   "metadata": {},
   "outputs": [],
   "source": [
    "#y= df.to_csv(\"Rides.csv\", index = False)"
   ]
  },
  {
   "cell_type": "code",
   "execution_count": 329,
   "metadata": {},
   "outputs": [
    {
     "data": {
      "text/plain": [
       "(194603, 29)"
      ]
     },
     "execution_count": 329,
     "metadata": {},
     "output_type": "execute_result"
    }
   ],
   "source": [
    "df.shape"
   ]
  },
  {
   "cell_type": "code",
   "execution_count": null,
   "metadata": {},
   "outputs": [],
   "source": []
  }
 ],
 "metadata": {
  "kernelspec": {
   "display_name": "Python 3",
   "language": "python",
   "name": "python3"
  },
  "language_info": {
   "codemirror_mode": {
    "name": "ipython",
    "version": 3
   },
   "file_extension": ".py",
   "mimetype": "text/x-python",
   "name": "python",
   "nbconvert_exporter": "python",
   "pygments_lexer": "ipython3",
   "version": "3.7.3"
  }
 },
 "nbformat": 4,
 "nbformat_minor": 2
}
